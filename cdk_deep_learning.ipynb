{
  "nbformat": 4,
  "nbformat_minor": 0,
  "metadata": {
    "colab": {
      "provenance": [],
      "gpuType": "T4",
      "toc_visible": true,
      "include_colab_link": true
    },
    "kernelspec": {
      "name": "python3",
      "display_name": "Python 3"
    },
    "language_info": {
      "name": "python"
    },
    "accelerator": "GPU"
  },
  "cells": [
    {
      "cell_type": "markdown",
      "metadata": {
        "id": "view-in-github",
        "colab_type": "text"
      },
      "source": [
        "<a href=\"https://colab.research.google.com/github/preyatharseni-s/python-record/blob/main/cdk_deep_learning.ipynb\" target=\"_parent\"><img src=\"https://colab.research.google.com/assets/colab-badge.svg\" alt=\"Open In Colab\"/></a>"
      ]
    },
    {
      "cell_type": "markdown",
      "metadata": {
        "id": "uaSR8wllNeI7"
      },
      "source": [
        "#Importing Packages"
      ]
    },
    {
      "cell_type": "code",
      "source": [
        "from google.colab import drive\n",
        "drive.mount('/content/drive')"
      ],
      "metadata": {
        "colab": {
          "base_uri": "https://localhost:8080/"
        },
        "id": "EfCkdI84ljMT",
        "outputId": "56a82f4c-ba83-4686-ab2e-f98e1b9088d3"
      },
      "execution_count": null,
      "outputs": [
        {
          "output_type": "stream",
          "name": "stdout",
          "text": [
            "Mounted at /content/drive\n"
          ]
        }
      ]
    },
    {
      "cell_type": "code",
      "execution_count": null,
      "metadata": {
        "colab": {
          "base_uri": "https://localhost:8080/"
        },
        "id": "nE_owkrbye2u",
        "outputId": "85b70eab-36a2-42e9-ab38-d3348c446fce"
      },
      "outputs": [
        {
          "output_type": "stream",
          "name": "stdout",
          "text": [
            "Collecting keras_applications\n",
            "  Downloading Keras_Applications-1.0.8-py3-none-any.whl (50 kB)\n",
            "\u001b[2K     \u001b[90m━━━━━━━━━━━━━━━━━━━━━━━━━━━━━━━━━━━━━━━━\u001b[0m \u001b[32m50.7/50.7 kB\u001b[0m \u001b[31m891.4 kB/s\u001b[0m eta \u001b[36m0:00:00\u001b[0m\n",
            "\u001b[?25hRequirement already satisfied: numpy>=1.9.1 in /usr/local/lib/python3.10/dist-packages (from keras_applications) (1.23.5)\n",
            "Requirement already satisfied: h5py in /usr/local/lib/python3.10/dist-packages (from keras_applications) (3.9.0)\n",
            "Installing collected packages: keras_applications\n",
            "Successfully installed keras_applications-1.0.8\n"
          ]
        }
      ],
      "source": [
        "import os\n",
        "import IPython.display as ipd\n",
        "import matplotlib.pyplot as plt#graph plotting\n",
        "import numpy as np#Array or Multi dimi. arrays\n",
        "import pandas as pd#Reading files and sving it as tablur format\n",
        "import time\n",
        "from collections import Counter, OrderedDict#[1,2,3,3]\n",
        "import cv2#opencv - python - Image processing- short form -cv2\n",
        "from google.colab.patches import cv2_imshow#Is used for printing the images\n",
        "import random#Generating random variables or values\n",
        "import seaborn as sns#graph plotting\n",
        "from keras.layers import Dense, Conv2D , MaxPool2D , Flatten , Dropout, MaxPool1D, Conv1D\n",
        "\n",
        " #sklearn - scikit-learn - form machine learning algorithms\n",
        "from sklearn.preprocessing import LabelEncoder\n",
        "from sklearn.model_selection import cross_val_score\n",
        "from sklearn.model_selection import train_test_split\n",
        "from sklearn import metrics\n",
        "from sklearn.utils import class_weight\n",
        "from sklearn.utils.class_weight import compute_class_weight\n",
        "\n",
        "\n",
        "import tensorflow as tf\n",
        "import keras\n",
        "from tensorflow.keras.utils import to_categorical\n",
        "from keras.models import Sequential\n",
        "from keras.layers import Dense, Dropout, Flatten, Conv2D, Conv1D, MaxPooling2D, MaxPooling1D, LeakyReLU, Conv2DTranspose, Concatenate\n",
        "from tensorflow.keras.optimizers import Adam,SGD,Adagrad,Adadelta,RMSprop,Adamax, Nadam\n",
        "from keras.callbacks import ModelCheckpoint\n",
        "from keras.preprocessing.image import ImageDataGenerator\n",
        "from keras.callbacks import ReduceLROnPlateau\n",
        "from keras.models import load_model\n",
        "from keras.layers import Input\n",
        "from keras.layers import concatenate, add\n",
        "#Keras And Tensorflow - Neural Network | Keras-Frontend, Tensorflow - Backend\n",
        "from keras.applications.vgg16 import VGG16\n",
        "from keras.applications.vgg16 import preprocess_input\n",
        "from tensorflow.keras.preprocessing.image import load_img\n",
        "from tensorflow.keras.preprocessing.image import img_to_array\n",
        "from keras.models import Model\n",
        "from keras import backend as K\n",
        "from matplotlib import pyplot\n",
        "from numpy import expand_dims\n",
        "\n",
        "from tqdm import tqdm_notebook as tq # Progressing bar\n",
        "\n",
        "import warnings\n",
        "warnings.filterwarnings(\"ignore\")\n",
        "\n",
        "try:\n",
        "    from tensorflow.python.util import module_wrapper as deprecation\n",
        "except ImportError:\n",
        "    from tensorflow.python.util import deprecation_wrapper as deprecation\n",
        "deprecation._PER_MODULE_WARNING_LIMIT = 0\n",
        "\n",
        "from tensorflow.python.util import deprecation\n",
        "deprecation._PRINT_DEPRECATION_WARNINGS = False\n",
        "\n",
        "from sklearn.model_selection import train_test_split\n",
        "import pickle\n",
        "from sklearn.preprocessing import StandardScaler\n",
        "from sklearn.preprocessing import LabelEncoder\n",
        "import IPython.display as ipd\n",
        "import librosa\n",
        "from matplotlib import pyplot as plt\n",
        "import numpy as np\n",
        "import librosa.display\n",
        "import os\n",
        "import time\n",
        "from sklearn.preprocessing import LabelEncoder\n",
        "import pandas as pd\n",
        "from collections import Counter\n",
        "from sklearn.model_selection import cross_val_score\n",
        "from sklearn.linear_model import LogisticRegression\n",
        "from sklearn.svm import SVC\n",
        "from sklearn.ensemble import RandomForestClassifier\n",
        "from sklearn.neighbors import KNeighborsClassifier\n",
        "from sklearn.model_selection import train_test_split\n",
        "from sklearn.model_selection import GridSearchCV\n",
        "import numpy as np\n",
        "from matplotlib import pyplot as plt\n",
        "import joblib\n",
        "#from joblib import dump, load\n",
        "from sklearn.model_selection import StratifiedKFold\n",
        "from sklearn.naive_bayes import MultinomialNB\n",
        "import pickle\n",
        "from sklearn.model_selection import GridSearchCV\n",
        "from sklearn.linear_model import SGDClassifier\n",
        "import warnings\n",
        "warnings.filterwarnings(\"ignore\")\n",
        "from sklearn import metrics\n",
        "import json\n",
        "from sklearn.pipeline import make_pipeline\n",
        "from sklearn.linear_model import Ridge, Lasso, ElasticNet\n",
        "from sklearn.ensemble import RandomForestRegressor, GradientBoostingRegressor\n",
        "from sklearn.model_selection import GridSearchCV\n",
        "from sklearn.exceptions import NotFittedError\n",
        "from sklearn.metrics import classification_report\n",
        "from sklearn.metrics import confusion_matrix\n",
        "\n",
        "import os\n",
        "import IPython.display as ipd\n",
        "import matplotlib.pyplot as plt#graph plotting\n",
        "import numpy as np#Array or Multi dimi. arrays\n",
        "import pandas as pd#Reading files and sving it as tablur format\n",
        "import time\n",
        "from collections import Counter, OrderedDict#[1,2,3,3]\n",
        "import cv2#opencv - python - Image processing- short form -cv2\n",
        "from google.colab.patches import cv2_imshow#Is used for printing the images\n",
        "import random#Generating random variables or values\n",
        "import seaborn as sns#graph plotting\n",
        "\n",
        " #sklearn - scikit-learn - form machine learning algorithms\n",
        "from sklearn.preprocessing import LabelEncoder\n",
        "from sklearn.model_selection import cross_val_score\n",
        "from sklearn.model_selection import train_test_split\n",
        "from sklearn import metrics\n",
        "from sklearn.utils import class_weight\n",
        "from sklearn.utils.class_weight import compute_class_weight\n",
        "\n",
        "from keras.applications import VGG16, VGG19\n",
        "from tensorflow.keras import layers\n",
        "import tensorflow as tf\n",
        "import keras\n",
        "from keras.models import Sequential\n",
        "from keras.layers import Dense, Dropout, Flatten, Conv2D, Conv1D, MaxPooling2D, MaxPooling1D, LeakyReLU, Conv2DTranspose, Concatenate\n",
        "from tensorflow.keras.optimizers import Adam,SGD,Adagrad,Adadelta,RMSprop,Adamax, Nadam\n",
        "from keras.callbacks import ModelCheckpoint\n",
        "from keras.preprocessing.image import ImageDataGenerator\n",
        "from keras.callbacks import ReduceLROnPlateau\n",
        "from keras.models import load_model\n",
        "from keras.layers import Input\n",
        "from keras.layers import concatenate, add\n",
        "#Keras And Tensorflow - Neural Network | Keras-Frontend, Tensorflow - Backend\n",
        "from keras.applications.vgg16 import VGG16\n",
        "from keras.applications.vgg16 import preprocess_input\n",
        "from tensorflow.keras.preprocessing.image import load_img\n",
        "from tensorflow.keras.preprocessing.image import img_to_array\n",
        "from keras.models import Model\n",
        "from keras import backend as K\n",
        "from matplotlib import pyplot\n",
        "from numpy import expand_dims\n",
        "\n",
        "from tqdm import tqdm_notebook as tq # Progressing bar\n",
        "\n",
        "import warnings\n",
        "warnings.filterwarnings(\"ignore\")\n",
        "\n",
        "try:\n",
        "    from tensorflow.python.util import module_wrapper as deprecation\n",
        "except ImportError:\n",
        "    from tensorflow.python.util import deprecation_wrapper as deprecation\n",
        "deprecation._PER_MODULE_WARNING_LIMIT = 0\n",
        "\n",
        "from tensorflow.python.util import deprecation\n",
        "deprecation._PRINT_DEPRECATION_WARNINGS = False\n",
        "\n",
        "from sklearn.model_selection import train_test_split\n",
        "import pickle\n",
        "from sklearn.preprocessing import StandardScaler\n",
        "from sklearn.preprocessing import LabelEncoder\n",
        "import IPython.display as ipd\n",
        "import librosa\n",
        "from matplotlib import pyplot as plt\n",
        "import numpy as np\n",
        "import librosa.display\n",
        "import os\n",
        "import time\n",
        "from sklearn.preprocessing import LabelEncoder\n",
        "from keras.utils import to_categorical\n",
        "import pandas as pd\n",
        "from collections import Counter\n",
        "from sklearn.model_selection import cross_val_score\n",
        "from sklearn.linear_model import LogisticRegression\n",
        "from sklearn.svm import SVC\n",
        "from sklearn.ensemble import RandomForestClassifier\n",
        "from sklearn.neighbors import KNeighborsClassifier\n",
        "from sklearn.model_selection import train_test_split\n",
        "from sklearn.model_selection import GridSearchCV\n",
        "import numpy as np\n",
        "from matplotlib import pyplot as plt\n",
        "import joblib\n",
        "#from joblib import dump, load\n",
        "from sklearn.model_selection import StratifiedKFold\n",
        "from sklearn.naive_bayes import MultinomialNB\n",
        "import pickle\n",
        "from sklearn.model_selection import GridSearchCV\n",
        "from sklearn.linear_model import SGDClassifier\n",
        "import warnings\n",
        "warnings.filterwarnings(\"ignore\")\n",
        "from sklearn import metrics\n",
        "import json\n",
        "from sklearn.pipeline import make_pipeline\n",
        "from sklearn.linear_model import Ridge, Lasso, ElasticNet\n",
        "from sklearn.ensemble import RandomForestRegressor, GradientBoostingRegressor\n",
        "from sklearn.model_selection import GridSearchCV\n",
        "from sklearn.exceptions import NotFittedError\n",
        "from sklearn.metrics import classification_report\n",
        "from sklearn.metrics import confusion_matrix\n",
        "\n",
        "!pip install keras_applications\n",
        "from keras import backend\n",
        "from keras.applications import imagenet_utils\n",
        "from keras_applications.imagenet_utils import _obtain_input_shape\n",
        "import xml.etree.ElementTree as ET"
      ]
    },
    {
      "cell_type": "markdown",
      "source": [
        "#Dataset"
      ],
      "metadata": {
        "id": "2MANUJSAZliU"
      }
    },
    {
      "cell_type": "code",
      "source": [
        "df = pd.read_csv('/content/drive/MyDrive/cdk_deep_learning/kidney_disease_train.csv')\n",
        "df"
      ],
      "metadata": {
        "colab": {
          "base_uri": "https://localhost:8080/",
          "height": 443
        },
        "id": "hceLDKBvZRbV",
        "outputId": "6188aadf-9169-44e7-db4c-e35aa54ed1f8"
      },
      "execution_count": null,
      "outputs": [
        {
          "output_type": "execute_result",
          "data": {
            "text/plain": [
              "      id   age     bp     sg   al   su     rbc        pc         pcc  \\\n",
              "0    157  62.0   70.0  1.025  3.0  0.0  normal  abnormal  notpresent   \n",
              "1    109  54.0   70.0    NaN  NaN  NaN     NaN       NaN  notpresent   \n",
              "2     17  47.0   80.0    NaN  NaN  NaN     NaN       NaN  notpresent   \n",
              "3    347  43.0   60.0  1.025  0.0  0.0  normal    normal  notpresent   \n",
              "4     24  42.0  100.0  1.015  4.0  0.0  normal  abnormal  notpresent   \n",
              "..   ...   ...    ...    ...  ...  ...     ...       ...         ...   \n",
              "275   71  46.0   60.0  1.010  1.0  0.0  normal    normal  notpresent   \n",
              "276  106  50.0   90.0    NaN  NaN  NaN     NaN       NaN  notpresent   \n",
              "277  270  23.0   80.0  1.025  0.0  0.0  normal    normal  notpresent   \n",
              "278  348  38.0   80.0  1.020  0.0  0.0  normal    normal  notpresent   \n",
              "279  102  17.0   60.0  1.010  0.0  0.0     NaN    normal  notpresent   \n",
              "\n",
              "             ba  ...   pcv     wc   rc  htn   dm  cad  appet   pe  ane  \\\n",
              "0    notpresent  ...  39.0   7900  3.9  yes  yes   no   good   no   no   \n",
              "1    notpresent  ...   NaN    NaN  NaN   no  yes   no   good   no   no   \n",
              "2    notpresent  ...   NaN    NaN  NaN  yes   no   no   poor   no   no   \n",
              "3    notpresent  ...  43.0   7200  5.5   no   no   no   good   no   no   \n",
              "4       present  ...  39.0   8300  4.6  yes   no   no   poor   no   no   \n",
              "..          ...  ...   ...    ...  ...  ...  ...  ...    ...  ...  ...   \n",
              "275  notpresent  ...  28.0  14600  3.2  yes  yes   no   good   no   no   \n",
              "276  notpresent  ...  17.0   6500  NaN  yes  yes   no   good  yes  yes   \n",
              "277  notpresent  ...  41.0   7200  5.0   no   no   no   good   no   no   \n",
              "278  notpresent  ...  44.0   7300  6.4   no   no   no   good   no   no   \n",
              "279  notpresent  ...  52.0   7000  NaN   no   no   no   good   no   no   \n",
              "\n",
              "    classification  \n",
              "0              ckd  \n",
              "1              ckd  \n",
              "2              ckd  \n",
              "3           notckd  \n",
              "4              ckd  \n",
              "..             ...  \n",
              "275            ckd  \n",
              "276            ckd  \n",
              "277         notckd  \n",
              "278         notckd  \n",
              "279            ckd  \n",
              "\n",
              "[280 rows x 26 columns]"
            ],
            "text/html": [
              "\n",
              "  <div id=\"df-977875c6-464f-4229-b143-296415406f59\" class=\"colab-df-container\">\n",
              "    <div>\n",
              "<style scoped>\n",
              "    .dataframe tbody tr th:only-of-type {\n",
              "        vertical-align: middle;\n",
              "    }\n",
              "\n",
              "    .dataframe tbody tr th {\n",
              "        vertical-align: top;\n",
              "    }\n",
              "\n",
              "    .dataframe thead th {\n",
              "        text-align: right;\n",
              "    }\n",
              "</style>\n",
              "<table border=\"1\" class=\"dataframe\">\n",
              "  <thead>\n",
              "    <tr style=\"text-align: right;\">\n",
              "      <th></th>\n",
              "      <th>id</th>\n",
              "      <th>age</th>\n",
              "      <th>bp</th>\n",
              "      <th>sg</th>\n",
              "      <th>al</th>\n",
              "      <th>su</th>\n",
              "      <th>rbc</th>\n",
              "      <th>pc</th>\n",
              "      <th>pcc</th>\n",
              "      <th>ba</th>\n",
              "      <th>...</th>\n",
              "      <th>pcv</th>\n",
              "      <th>wc</th>\n",
              "      <th>rc</th>\n",
              "      <th>htn</th>\n",
              "      <th>dm</th>\n",
              "      <th>cad</th>\n",
              "      <th>appet</th>\n",
              "      <th>pe</th>\n",
              "      <th>ane</th>\n",
              "      <th>classification</th>\n",
              "    </tr>\n",
              "  </thead>\n",
              "  <tbody>\n",
              "    <tr>\n",
              "      <th>0</th>\n",
              "      <td>157</td>\n",
              "      <td>62.0</td>\n",
              "      <td>70.0</td>\n",
              "      <td>1.025</td>\n",
              "      <td>3.0</td>\n",
              "      <td>0.0</td>\n",
              "      <td>normal</td>\n",
              "      <td>abnormal</td>\n",
              "      <td>notpresent</td>\n",
              "      <td>notpresent</td>\n",
              "      <td>...</td>\n",
              "      <td>39.0</td>\n",
              "      <td>7900</td>\n",
              "      <td>3.9</td>\n",
              "      <td>yes</td>\n",
              "      <td>yes</td>\n",
              "      <td>no</td>\n",
              "      <td>good</td>\n",
              "      <td>no</td>\n",
              "      <td>no</td>\n",
              "      <td>ckd</td>\n",
              "    </tr>\n",
              "    <tr>\n",
              "      <th>1</th>\n",
              "      <td>109</td>\n",
              "      <td>54.0</td>\n",
              "      <td>70.0</td>\n",
              "      <td>NaN</td>\n",
              "      <td>NaN</td>\n",
              "      <td>NaN</td>\n",
              "      <td>NaN</td>\n",
              "      <td>NaN</td>\n",
              "      <td>notpresent</td>\n",
              "      <td>notpresent</td>\n",
              "      <td>...</td>\n",
              "      <td>NaN</td>\n",
              "      <td>NaN</td>\n",
              "      <td>NaN</td>\n",
              "      <td>no</td>\n",
              "      <td>yes</td>\n",
              "      <td>no</td>\n",
              "      <td>good</td>\n",
              "      <td>no</td>\n",
              "      <td>no</td>\n",
              "      <td>ckd</td>\n",
              "    </tr>\n",
              "    <tr>\n",
              "      <th>2</th>\n",
              "      <td>17</td>\n",
              "      <td>47.0</td>\n",
              "      <td>80.0</td>\n",
              "      <td>NaN</td>\n",
              "      <td>NaN</td>\n",
              "      <td>NaN</td>\n",
              "      <td>NaN</td>\n",
              "      <td>NaN</td>\n",
              "      <td>notpresent</td>\n",
              "      <td>notpresent</td>\n",
              "      <td>...</td>\n",
              "      <td>NaN</td>\n",
              "      <td>NaN</td>\n",
              "      <td>NaN</td>\n",
              "      <td>yes</td>\n",
              "      <td>no</td>\n",
              "      <td>no</td>\n",
              "      <td>poor</td>\n",
              "      <td>no</td>\n",
              "      <td>no</td>\n",
              "      <td>ckd</td>\n",
              "    </tr>\n",
              "    <tr>\n",
              "      <th>3</th>\n",
              "      <td>347</td>\n",
              "      <td>43.0</td>\n",
              "      <td>60.0</td>\n",
              "      <td>1.025</td>\n",
              "      <td>0.0</td>\n",
              "      <td>0.0</td>\n",
              "      <td>normal</td>\n",
              "      <td>normal</td>\n",
              "      <td>notpresent</td>\n",
              "      <td>notpresent</td>\n",
              "      <td>...</td>\n",
              "      <td>43.0</td>\n",
              "      <td>7200</td>\n",
              "      <td>5.5</td>\n",
              "      <td>no</td>\n",
              "      <td>no</td>\n",
              "      <td>no</td>\n",
              "      <td>good</td>\n",
              "      <td>no</td>\n",
              "      <td>no</td>\n",
              "      <td>notckd</td>\n",
              "    </tr>\n",
              "    <tr>\n",
              "      <th>4</th>\n",
              "      <td>24</td>\n",
              "      <td>42.0</td>\n",
              "      <td>100.0</td>\n",
              "      <td>1.015</td>\n",
              "      <td>4.0</td>\n",
              "      <td>0.0</td>\n",
              "      <td>normal</td>\n",
              "      <td>abnormal</td>\n",
              "      <td>notpresent</td>\n",
              "      <td>present</td>\n",
              "      <td>...</td>\n",
              "      <td>39.0</td>\n",
              "      <td>8300</td>\n",
              "      <td>4.6</td>\n",
              "      <td>yes</td>\n",
              "      <td>no</td>\n",
              "      <td>no</td>\n",
              "      <td>poor</td>\n",
              "      <td>no</td>\n",
              "      <td>no</td>\n",
              "      <td>ckd</td>\n",
              "    </tr>\n",
              "    <tr>\n",
              "      <th>...</th>\n",
              "      <td>...</td>\n",
              "      <td>...</td>\n",
              "      <td>...</td>\n",
              "      <td>...</td>\n",
              "      <td>...</td>\n",
              "      <td>...</td>\n",
              "      <td>...</td>\n",
              "      <td>...</td>\n",
              "      <td>...</td>\n",
              "      <td>...</td>\n",
              "      <td>...</td>\n",
              "      <td>...</td>\n",
              "      <td>...</td>\n",
              "      <td>...</td>\n",
              "      <td>...</td>\n",
              "      <td>...</td>\n",
              "      <td>...</td>\n",
              "      <td>...</td>\n",
              "      <td>...</td>\n",
              "      <td>...</td>\n",
              "      <td>...</td>\n",
              "    </tr>\n",
              "    <tr>\n",
              "      <th>275</th>\n",
              "      <td>71</td>\n",
              "      <td>46.0</td>\n",
              "      <td>60.0</td>\n",
              "      <td>1.010</td>\n",
              "      <td>1.0</td>\n",
              "      <td>0.0</td>\n",
              "      <td>normal</td>\n",
              "      <td>normal</td>\n",
              "      <td>notpresent</td>\n",
              "      <td>notpresent</td>\n",
              "      <td>...</td>\n",
              "      <td>28.0</td>\n",
              "      <td>14600</td>\n",
              "      <td>3.2</td>\n",
              "      <td>yes</td>\n",
              "      <td>yes</td>\n",
              "      <td>no</td>\n",
              "      <td>good</td>\n",
              "      <td>no</td>\n",
              "      <td>no</td>\n",
              "      <td>ckd</td>\n",
              "    </tr>\n",
              "    <tr>\n",
              "      <th>276</th>\n",
              "      <td>106</td>\n",
              "      <td>50.0</td>\n",
              "      <td>90.0</td>\n",
              "      <td>NaN</td>\n",
              "      <td>NaN</td>\n",
              "      <td>NaN</td>\n",
              "      <td>NaN</td>\n",
              "      <td>NaN</td>\n",
              "      <td>notpresent</td>\n",
              "      <td>notpresent</td>\n",
              "      <td>...</td>\n",
              "      <td>17.0</td>\n",
              "      <td>6500</td>\n",
              "      <td>NaN</td>\n",
              "      <td>yes</td>\n",
              "      <td>yes</td>\n",
              "      <td>no</td>\n",
              "      <td>good</td>\n",
              "      <td>yes</td>\n",
              "      <td>yes</td>\n",
              "      <td>ckd</td>\n",
              "    </tr>\n",
              "    <tr>\n",
              "      <th>277</th>\n",
              "      <td>270</td>\n",
              "      <td>23.0</td>\n",
              "      <td>80.0</td>\n",
              "      <td>1.025</td>\n",
              "      <td>0.0</td>\n",
              "      <td>0.0</td>\n",
              "      <td>normal</td>\n",
              "      <td>normal</td>\n",
              "      <td>notpresent</td>\n",
              "      <td>notpresent</td>\n",
              "      <td>...</td>\n",
              "      <td>41.0</td>\n",
              "      <td>7200</td>\n",
              "      <td>5.0</td>\n",
              "      <td>no</td>\n",
              "      <td>no</td>\n",
              "      <td>no</td>\n",
              "      <td>good</td>\n",
              "      <td>no</td>\n",
              "      <td>no</td>\n",
              "      <td>notckd</td>\n",
              "    </tr>\n",
              "    <tr>\n",
              "      <th>278</th>\n",
              "      <td>348</td>\n",
              "      <td>38.0</td>\n",
              "      <td>80.0</td>\n",
              "      <td>1.020</td>\n",
              "      <td>0.0</td>\n",
              "      <td>0.0</td>\n",
              "      <td>normal</td>\n",
              "      <td>normal</td>\n",
              "      <td>notpresent</td>\n",
              "      <td>notpresent</td>\n",
              "      <td>...</td>\n",
              "      <td>44.0</td>\n",
              "      <td>7300</td>\n",
              "      <td>6.4</td>\n",
              "      <td>no</td>\n",
              "      <td>no</td>\n",
              "      <td>no</td>\n",
              "      <td>good</td>\n",
              "      <td>no</td>\n",
              "      <td>no</td>\n",
              "      <td>notckd</td>\n",
              "    </tr>\n",
              "    <tr>\n",
              "      <th>279</th>\n",
              "      <td>102</td>\n",
              "      <td>17.0</td>\n",
              "      <td>60.0</td>\n",
              "      <td>1.010</td>\n",
              "      <td>0.0</td>\n",
              "      <td>0.0</td>\n",
              "      <td>NaN</td>\n",
              "      <td>normal</td>\n",
              "      <td>notpresent</td>\n",
              "      <td>notpresent</td>\n",
              "      <td>...</td>\n",
              "      <td>52.0</td>\n",
              "      <td>7000</td>\n",
              "      <td>NaN</td>\n",
              "      <td>no</td>\n",
              "      <td>no</td>\n",
              "      <td>no</td>\n",
              "      <td>good</td>\n",
              "      <td>no</td>\n",
              "      <td>no</td>\n",
              "      <td>ckd</td>\n",
              "    </tr>\n",
              "  </tbody>\n",
              "</table>\n",
              "<p>280 rows × 26 columns</p>\n",
              "</div>\n",
              "    <div class=\"colab-df-buttons\">\n",
              "\n",
              "  <div class=\"colab-df-container\">\n",
              "    <button class=\"colab-df-convert\" onclick=\"convertToInteractive('df-977875c6-464f-4229-b143-296415406f59')\"\n",
              "            title=\"Convert this dataframe to an interactive table.\"\n",
              "            style=\"display:none;\">\n",
              "\n",
              "  <svg xmlns=\"http://www.w3.org/2000/svg\" height=\"24px\" viewBox=\"0 -960 960 960\">\n",
              "    <path d=\"M120-120v-720h720v720H120Zm60-500h600v-160H180v160Zm220 220h160v-160H400v160Zm0 220h160v-160H400v160ZM180-400h160v-160H180v160Zm440 0h160v-160H620v160ZM180-180h160v-160H180v160Zm440 0h160v-160H620v160Z\"/>\n",
              "  </svg>\n",
              "    </button>\n",
              "\n",
              "  <style>\n",
              "    .colab-df-container {\n",
              "      display:flex;\n",
              "      gap: 12px;\n",
              "    }\n",
              "\n",
              "    .colab-df-convert {\n",
              "      background-color: #E8F0FE;\n",
              "      border: none;\n",
              "      border-radius: 50%;\n",
              "      cursor: pointer;\n",
              "      display: none;\n",
              "      fill: #1967D2;\n",
              "      height: 32px;\n",
              "      padding: 0 0 0 0;\n",
              "      width: 32px;\n",
              "    }\n",
              "\n",
              "    .colab-df-convert:hover {\n",
              "      background-color: #E2EBFA;\n",
              "      box-shadow: 0px 1px 2px rgba(60, 64, 67, 0.3), 0px 1px 3px 1px rgba(60, 64, 67, 0.15);\n",
              "      fill: #174EA6;\n",
              "    }\n",
              "\n",
              "    .colab-df-buttons div {\n",
              "      margin-bottom: 4px;\n",
              "    }\n",
              "\n",
              "    [theme=dark] .colab-df-convert {\n",
              "      background-color: #3B4455;\n",
              "      fill: #D2E3FC;\n",
              "    }\n",
              "\n",
              "    [theme=dark] .colab-df-convert:hover {\n",
              "      background-color: #434B5C;\n",
              "      box-shadow: 0px 1px 3px 1px rgba(0, 0, 0, 0.15);\n",
              "      filter: drop-shadow(0px 1px 2px rgba(0, 0, 0, 0.3));\n",
              "      fill: #FFFFFF;\n",
              "    }\n",
              "  </style>\n",
              "\n",
              "    <script>\n",
              "      const buttonEl =\n",
              "        document.querySelector('#df-977875c6-464f-4229-b143-296415406f59 button.colab-df-convert');\n",
              "      buttonEl.style.display =\n",
              "        google.colab.kernel.accessAllowed ? 'block' : 'none';\n",
              "\n",
              "      async function convertToInteractive(key) {\n",
              "        const element = document.querySelector('#df-977875c6-464f-4229-b143-296415406f59');\n",
              "        const dataTable =\n",
              "          await google.colab.kernel.invokeFunction('convertToInteractive',\n",
              "                                                    [key], {});\n",
              "        if (!dataTable) return;\n",
              "\n",
              "        const docLinkHtml = 'Like what you see? Visit the ' +\n",
              "          '<a target=\"_blank\" href=https://colab.research.google.com/notebooks/data_table.ipynb>data table notebook</a>'\n",
              "          + ' to learn more about interactive tables.';\n",
              "        element.innerHTML = '';\n",
              "        dataTable['output_type'] = 'display_data';\n",
              "        await google.colab.output.renderOutput(dataTable, element);\n",
              "        const docLink = document.createElement('div');\n",
              "        docLink.innerHTML = docLinkHtml;\n",
              "        element.appendChild(docLink);\n",
              "      }\n",
              "    </script>\n",
              "  </div>\n",
              "\n",
              "\n",
              "<div id=\"df-ceaf0561-53fd-4f99-be0f-f145d3d2562c\">\n",
              "  <button class=\"colab-df-quickchart\" onclick=\"quickchart('df-ceaf0561-53fd-4f99-be0f-f145d3d2562c')\"\n",
              "            title=\"Suggest charts\"\n",
              "            style=\"display:none;\">\n",
              "\n",
              "<svg xmlns=\"http://www.w3.org/2000/svg\" height=\"24px\"viewBox=\"0 0 24 24\"\n",
              "     width=\"24px\">\n",
              "    <g>\n",
              "        <path d=\"M19 3H5c-1.1 0-2 .9-2 2v14c0 1.1.9 2 2 2h14c1.1 0 2-.9 2-2V5c0-1.1-.9-2-2-2zM9 17H7v-7h2v7zm4 0h-2V7h2v10zm4 0h-2v-4h2v4z\"/>\n",
              "    </g>\n",
              "</svg>\n",
              "  </button>\n",
              "\n",
              "<style>\n",
              "  .colab-df-quickchart {\n",
              "      --bg-color: #E8F0FE;\n",
              "      --fill-color: #1967D2;\n",
              "      --hover-bg-color: #E2EBFA;\n",
              "      --hover-fill-color: #174EA6;\n",
              "      --disabled-fill-color: #AAA;\n",
              "      --disabled-bg-color: #DDD;\n",
              "  }\n",
              "\n",
              "  [theme=dark] .colab-df-quickchart {\n",
              "      --bg-color: #3B4455;\n",
              "      --fill-color: #D2E3FC;\n",
              "      --hover-bg-color: #434B5C;\n",
              "      --hover-fill-color: #FFFFFF;\n",
              "      --disabled-bg-color: #3B4455;\n",
              "      --disabled-fill-color: #666;\n",
              "  }\n",
              "\n",
              "  .colab-df-quickchart {\n",
              "    background-color: var(--bg-color);\n",
              "    border: none;\n",
              "    border-radius: 50%;\n",
              "    cursor: pointer;\n",
              "    display: none;\n",
              "    fill: var(--fill-color);\n",
              "    height: 32px;\n",
              "    padding: 0;\n",
              "    width: 32px;\n",
              "  }\n",
              "\n",
              "  .colab-df-quickchart:hover {\n",
              "    background-color: var(--hover-bg-color);\n",
              "    box-shadow: 0 1px 2px rgba(60, 64, 67, 0.3), 0 1px 3px 1px rgba(60, 64, 67, 0.15);\n",
              "    fill: var(--button-hover-fill-color);\n",
              "  }\n",
              "\n",
              "  .colab-df-quickchart-complete:disabled,\n",
              "  .colab-df-quickchart-complete:disabled:hover {\n",
              "    background-color: var(--disabled-bg-color);\n",
              "    fill: var(--disabled-fill-color);\n",
              "    box-shadow: none;\n",
              "  }\n",
              "\n",
              "  .colab-df-spinner {\n",
              "    border: 2px solid var(--fill-color);\n",
              "    border-color: transparent;\n",
              "    border-bottom-color: var(--fill-color);\n",
              "    animation:\n",
              "      spin 1s steps(1) infinite;\n",
              "  }\n",
              "\n",
              "  @keyframes spin {\n",
              "    0% {\n",
              "      border-color: transparent;\n",
              "      border-bottom-color: var(--fill-color);\n",
              "      border-left-color: var(--fill-color);\n",
              "    }\n",
              "    20% {\n",
              "      border-color: transparent;\n",
              "      border-left-color: var(--fill-color);\n",
              "      border-top-color: var(--fill-color);\n",
              "    }\n",
              "    30% {\n",
              "      border-color: transparent;\n",
              "      border-left-color: var(--fill-color);\n",
              "      border-top-color: var(--fill-color);\n",
              "      border-right-color: var(--fill-color);\n",
              "    }\n",
              "    40% {\n",
              "      border-color: transparent;\n",
              "      border-right-color: var(--fill-color);\n",
              "      border-top-color: var(--fill-color);\n",
              "    }\n",
              "    60% {\n",
              "      border-color: transparent;\n",
              "      border-right-color: var(--fill-color);\n",
              "    }\n",
              "    80% {\n",
              "      border-color: transparent;\n",
              "      border-right-color: var(--fill-color);\n",
              "      border-bottom-color: var(--fill-color);\n",
              "    }\n",
              "    90% {\n",
              "      border-color: transparent;\n",
              "      border-bottom-color: var(--fill-color);\n",
              "    }\n",
              "  }\n",
              "</style>\n",
              "\n",
              "  <script>\n",
              "    async function quickchart(key) {\n",
              "      const quickchartButtonEl =\n",
              "        document.querySelector('#' + key + ' button');\n",
              "      quickchartButtonEl.disabled = true;  // To prevent multiple clicks.\n",
              "      quickchartButtonEl.classList.add('colab-df-spinner');\n",
              "      try {\n",
              "        const charts = await google.colab.kernel.invokeFunction(\n",
              "            'suggestCharts', [key], {});\n",
              "      } catch (error) {\n",
              "        console.error('Error during call to suggestCharts:', error);\n",
              "      }\n",
              "      quickchartButtonEl.classList.remove('colab-df-spinner');\n",
              "      quickchartButtonEl.classList.add('colab-df-quickchart-complete');\n",
              "    }\n",
              "    (() => {\n",
              "      let quickchartButtonEl =\n",
              "        document.querySelector('#df-ceaf0561-53fd-4f99-be0f-f145d3d2562c button');\n",
              "      quickchartButtonEl.style.display =\n",
              "        google.colab.kernel.accessAllowed ? 'block' : 'none';\n",
              "    })();\n",
              "  </script>\n",
              "</div>\n",
              "    </div>\n",
              "  </div>\n"
            ]
          },
          "metadata": {},
          "execution_count": 4
        }
      ]
    },
    {
      "cell_type": "code",
      "source": [
        "df = df.iloc[:,1:]\n",
        "df"
      ],
      "metadata": {
        "colab": {
          "base_uri": "https://localhost:8080/",
          "height": 443
        },
        "id": "XXf7jxH5ZotK",
        "outputId": "e5e59d92-7cba-4dd4-8091-44479f3661f8"
      },
      "execution_count": null,
      "outputs": [
        {
          "output_type": "execute_result",
          "data": {
            "text/plain": [
              "      age     bp     sg   al   su     rbc        pc         pcc          ba  \\\n",
              "0    62.0   70.0  1.025  3.0  0.0  normal  abnormal  notpresent  notpresent   \n",
              "1    54.0   70.0    NaN  NaN  NaN     NaN       NaN  notpresent  notpresent   \n",
              "2    47.0   80.0    NaN  NaN  NaN     NaN       NaN  notpresent  notpresent   \n",
              "3    43.0   60.0  1.025  0.0  0.0  normal    normal  notpresent  notpresent   \n",
              "4    42.0  100.0  1.015  4.0  0.0  normal  abnormal  notpresent     present   \n",
              "..    ...    ...    ...  ...  ...     ...       ...         ...         ...   \n",
              "275  46.0   60.0  1.010  1.0  0.0  normal    normal  notpresent  notpresent   \n",
              "276  50.0   90.0    NaN  NaN  NaN     NaN       NaN  notpresent  notpresent   \n",
              "277  23.0   80.0  1.025  0.0  0.0  normal    normal  notpresent  notpresent   \n",
              "278  38.0   80.0  1.020  0.0  0.0  normal    normal  notpresent  notpresent   \n",
              "279  17.0   60.0  1.010  0.0  0.0     NaN    normal  notpresent  notpresent   \n",
              "\n",
              "       bgr  ...   pcv     wc   rc  htn   dm  cad appet   pe  ane  \\\n",
              "0    122.0  ...  39.0   7900  3.9  yes  yes   no  good   no   no   \n",
              "1    233.0  ...   NaN    NaN  NaN   no  yes   no  good   no   no   \n",
              "2    114.0  ...   NaN    NaN  NaN  yes   no   no  poor   no   no   \n",
              "3    108.0  ...  43.0   7200  5.5   no   no   no  good   no   no   \n",
              "4      NaN  ...  39.0   8300  4.6  yes   no   no  poor   no   no   \n",
              "..     ...  ...   ...    ...  ...  ...  ...  ...   ...  ...  ...   \n",
              "275  163.0  ...  28.0  14600  3.2  yes  yes   no  good   no   no   \n",
              "276   89.0  ...  17.0   6500  NaN  yes  yes   no  good  yes  yes   \n",
              "277  111.0  ...  41.0   7200  5.0   no   no   no  good   no   no   \n",
              "278   99.0  ...  44.0   7300  6.4   no   no   no  good   no   no   \n",
              "279   92.0  ...  52.0   7000  NaN   no   no   no  good   no   no   \n",
              "\n",
              "    classification  \n",
              "0              ckd  \n",
              "1              ckd  \n",
              "2              ckd  \n",
              "3           notckd  \n",
              "4              ckd  \n",
              "..             ...  \n",
              "275            ckd  \n",
              "276            ckd  \n",
              "277         notckd  \n",
              "278         notckd  \n",
              "279            ckd  \n",
              "\n",
              "[280 rows x 25 columns]"
            ],
            "text/html": [
              "\n",
              "  <div id=\"df-b95356d5-1fa1-4941-8508-5b0ce70e206c\" class=\"colab-df-container\">\n",
              "    <div>\n",
              "<style scoped>\n",
              "    .dataframe tbody tr th:only-of-type {\n",
              "        vertical-align: middle;\n",
              "    }\n",
              "\n",
              "    .dataframe tbody tr th {\n",
              "        vertical-align: top;\n",
              "    }\n",
              "\n",
              "    .dataframe thead th {\n",
              "        text-align: right;\n",
              "    }\n",
              "</style>\n",
              "<table border=\"1\" class=\"dataframe\">\n",
              "  <thead>\n",
              "    <tr style=\"text-align: right;\">\n",
              "      <th></th>\n",
              "      <th>age</th>\n",
              "      <th>bp</th>\n",
              "      <th>sg</th>\n",
              "      <th>al</th>\n",
              "      <th>su</th>\n",
              "      <th>rbc</th>\n",
              "      <th>pc</th>\n",
              "      <th>pcc</th>\n",
              "      <th>ba</th>\n",
              "      <th>bgr</th>\n",
              "      <th>...</th>\n",
              "      <th>pcv</th>\n",
              "      <th>wc</th>\n",
              "      <th>rc</th>\n",
              "      <th>htn</th>\n",
              "      <th>dm</th>\n",
              "      <th>cad</th>\n",
              "      <th>appet</th>\n",
              "      <th>pe</th>\n",
              "      <th>ane</th>\n",
              "      <th>classification</th>\n",
              "    </tr>\n",
              "  </thead>\n",
              "  <tbody>\n",
              "    <tr>\n",
              "      <th>0</th>\n",
              "      <td>62.0</td>\n",
              "      <td>70.0</td>\n",
              "      <td>1.025</td>\n",
              "      <td>3.0</td>\n",
              "      <td>0.0</td>\n",
              "      <td>normal</td>\n",
              "      <td>abnormal</td>\n",
              "      <td>notpresent</td>\n",
              "      <td>notpresent</td>\n",
              "      <td>122.0</td>\n",
              "      <td>...</td>\n",
              "      <td>39.0</td>\n",
              "      <td>7900</td>\n",
              "      <td>3.9</td>\n",
              "      <td>yes</td>\n",
              "      <td>yes</td>\n",
              "      <td>no</td>\n",
              "      <td>good</td>\n",
              "      <td>no</td>\n",
              "      <td>no</td>\n",
              "      <td>ckd</td>\n",
              "    </tr>\n",
              "    <tr>\n",
              "      <th>1</th>\n",
              "      <td>54.0</td>\n",
              "      <td>70.0</td>\n",
              "      <td>NaN</td>\n",
              "      <td>NaN</td>\n",
              "      <td>NaN</td>\n",
              "      <td>NaN</td>\n",
              "      <td>NaN</td>\n",
              "      <td>notpresent</td>\n",
              "      <td>notpresent</td>\n",
              "      <td>233.0</td>\n",
              "      <td>...</td>\n",
              "      <td>NaN</td>\n",
              "      <td>NaN</td>\n",
              "      <td>NaN</td>\n",
              "      <td>no</td>\n",
              "      <td>yes</td>\n",
              "      <td>no</td>\n",
              "      <td>good</td>\n",
              "      <td>no</td>\n",
              "      <td>no</td>\n",
              "      <td>ckd</td>\n",
              "    </tr>\n",
              "    <tr>\n",
              "      <th>2</th>\n",
              "      <td>47.0</td>\n",
              "      <td>80.0</td>\n",
              "      <td>NaN</td>\n",
              "      <td>NaN</td>\n",
              "      <td>NaN</td>\n",
              "      <td>NaN</td>\n",
              "      <td>NaN</td>\n",
              "      <td>notpresent</td>\n",
              "      <td>notpresent</td>\n",
              "      <td>114.0</td>\n",
              "      <td>...</td>\n",
              "      <td>NaN</td>\n",
              "      <td>NaN</td>\n",
              "      <td>NaN</td>\n",
              "      <td>yes</td>\n",
              "      <td>no</td>\n",
              "      <td>no</td>\n",
              "      <td>poor</td>\n",
              "      <td>no</td>\n",
              "      <td>no</td>\n",
              "      <td>ckd</td>\n",
              "    </tr>\n",
              "    <tr>\n",
              "      <th>3</th>\n",
              "      <td>43.0</td>\n",
              "      <td>60.0</td>\n",
              "      <td>1.025</td>\n",
              "      <td>0.0</td>\n",
              "      <td>0.0</td>\n",
              "      <td>normal</td>\n",
              "      <td>normal</td>\n",
              "      <td>notpresent</td>\n",
              "      <td>notpresent</td>\n",
              "      <td>108.0</td>\n",
              "      <td>...</td>\n",
              "      <td>43.0</td>\n",
              "      <td>7200</td>\n",
              "      <td>5.5</td>\n",
              "      <td>no</td>\n",
              "      <td>no</td>\n",
              "      <td>no</td>\n",
              "      <td>good</td>\n",
              "      <td>no</td>\n",
              "      <td>no</td>\n",
              "      <td>notckd</td>\n",
              "    </tr>\n",
              "    <tr>\n",
              "      <th>4</th>\n",
              "      <td>42.0</td>\n",
              "      <td>100.0</td>\n",
              "      <td>1.015</td>\n",
              "      <td>4.0</td>\n",
              "      <td>0.0</td>\n",
              "      <td>normal</td>\n",
              "      <td>abnormal</td>\n",
              "      <td>notpresent</td>\n",
              "      <td>present</td>\n",
              "      <td>NaN</td>\n",
              "      <td>...</td>\n",
              "      <td>39.0</td>\n",
              "      <td>8300</td>\n",
              "      <td>4.6</td>\n",
              "      <td>yes</td>\n",
              "      <td>no</td>\n",
              "      <td>no</td>\n",
              "      <td>poor</td>\n",
              "      <td>no</td>\n",
              "      <td>no</td>\n",
              "      <td>ckd</td>\n",
              "    </tr>\n",
              "    <tr>\n",
              "      <th>...</th>\n",
              "      <td>...</td>\n",
              "      <td>...</td>\n",
              "      <td>...</td>\n",
              "      <td>...</td>\n",
              "      <td>...</td>\n",
              "      <td>...</td>\n",
              "      <td>...</td>\n",
              "      <td>...</td>\n",
              "      <td>...</td>\n",
              "      <td>...</td>\n",
              "      <td>...</td>\n",
              "      <td>...</td>\n",
              "      <td>...</td>\n",
              "      <td>...</td>\n",
              "      <td>...</td>\n",
              "      <td>...</td>\n",
              "      <td>...</td>\n",
              "      <td>...</td>\n",
              "      <td>...</td>\n",
              "      <td>...</td>\n",
              "      <td>...</td>\n",
              "    </tr>\n",
              "    <tr>\n",
              "      <th>275</th>\n",
              "      <td>46.0</td>\n",
              "      <td>60.0</td>\n",
              "      <td>1.010</td>\n",
              "      <td>1.0</td>\n",
              "      <td>0.0</td>\n",
              "      <td>normal</td>\n",
              "      <td>normal</td>\n",
              "      <td>notpresent</td>\n",
              "      <td>notpresent</td>\n",
              "      <td>163.0</td>\n",
              "      <td>...</td>\n",
              "      <td>28.0</td>\n",
              "      <td>14600</td>\n",
              "      <td>3.2</td>\n",
              "      <td>yes</td>\n",
              "      <td>yes</td>\n",
              "      <td>no</td>\n",
              "      <td>good</td>\n",
              "      <td>no</td>\n",
              "      <td>no</td>\n",
              "      <td>ckd</td>\n",
              "    </tr>\n",
              "    <tr>\n",
              "      <th>276</th>\n",
              "      <td>50.0</td>\n",
              "      <td>90.0</td>\n",
              "      <td>NaN</td>\n",
              "      <td>NaN</td>\n",
              "      <td>NaN</td>\n",
              "      <td>NaN</td>\n",
              "      <td>NaN</td>\n",
              "      <td>notpresent</td>\n",
              "      <td>notpresent</td>\n",
              "      <td>89.0</td>\n",
              "      <td>...</td>\n",
              "      <td>17.0</td>\n",
              "      <td>6500</td>\n",
              "      <td>NaN</td>\n",
              "      <td>yes</td>\n",
              "      <td>yes</td>\n",
              "      <td>no</td>\n",
              "      <td>good</td>\n",
              "      <td>yes</td>\n",
              "      <td>yes</td>\n",
              "      <td>ckd</td>\n",
              "    </tr>\n",
              "    <tr>\n",
              "      <th>277</th>\n",
              "      <td>23.0</td>\n",
              "      <td>80.0</td>\n",
              "      <td>1.025</td>\n",
              "      <td>0.0</td>\n",
              "      <td>0.0</td>\n",
              "      <td>normal</td>\n",
              "      <td>normal</td>\n",
              "      <td>notpresent</td>\n",
              "      <td>notpresent</td>\n",
              "      <td>111.0</td>\n",
              "      <td>...</td>\n",
              "      <td>41.0</td>\n",
              "      <td>7200</td>\n",
              "      <td>5.0</td>\n",
              "      <td>no</td>\n",
              "      <td>no</td>\n",
              "      <td>no</td>\n",
              "      <td>good</td>\n",
              "      <td>no</td>\n",
              "      <td>no</td>\n",
              "      <td>notckd</td>\n",
              "    </tr>\n",
              "    <tr>\n",
              "      <th>278</th>\n",
              "      <td>38.0</td>\n",
              "      <td>80.0</td>\n",
              "      <td>1.020</td>\n",
              "      <td>0.0</td>\n",
              "      <td>0.0</td>\n",
              "      <td>normal</td>\n",
              "      <td>normal</td>\n",
              "      <td>notpresent</td>\n",
              "      <td>notpresent</td>\n",
              "      <td>99.0</td>\n",
              "      <td>...</td>\n",
              "      <td>44.0</td>\n",
              "      <td>7300</td>\n",
              "      <td>6.4</td>\n",
              "      <td>no</td>\n",
              "      <td>no</td>\n",
              "      <td>no</td>\n",
              "      <td>good</td>\n",
              "      <td>no</td>\n",
              "      <td>no</td>\n",
              "      <td>notckd</td>\n",
              "    </tr>\n",
              "    <tr>\n",
              "      <th>279</th>\n",
              "      <td>17.0</td>\n",
              "      <td>60.0</td>\n",
              "      <td>1.010</td>\n",
              "      <td>0.0</td>\n",
              "      <td>0.0</td>\n",
              "      <td>NaN</td>\n",
              "      <td>normal</td>\n",
              "      <td>notpresent</td>\n",
              "      <td>notpresent</td>\n",
              "      <td>92.0</td>\n",
              "      <td>...</td>\n",
              "      <td>52.0</td>\n",
              "      <td>7000</td>\n",
              "      <td>NaN</td>\n",
              "      <td>no</td>\n",
              "      <td>no</td>\n",
              "      <td>no</td>\n",
              "      <td>good</td>\n",
              "      <td>no</td>\n",
              "      <td>no</td>\n",
              "      <td>ckd</td>\n",
              "    </tr>\n",
              "  </tbody>\n",
              "</table>\n",
              "<p>280 rows × 25 columns</p>\n",
              "</div>\n",
              "    <div class=\"colab-df-buttons\">\n",
              "\n",
              "  <div class=\"colab-df-container\">\n",
              "    <button class=\"colab-df-convert\" onclick=\"convertToInteractive('df-b95356d5-1fa1-4941-8508-5b0ce70e206c')\"\n",
              "            title=\"Convert this dataframe to an interactive table.\"\n",
              "            style=\"display:none;\">\n",
              "\n",
              "  <svg xmlns=\"http://www.w3.org/2000/svg\" height=\"24px\" viewBox=\"0 -960 960 960\">\n",
              "    <path d=\"M120-120v-720h720v720H120Zm60-500h600v-160H180v160Zm220 220h160v-160H400v160Zm0 220h160v-160H400v160ZM180-400h160v-160H180v160Zm440 0h160v-160H620v160ZM180-180h160v-160H180v160Zm440 0h160v-160H620v160Z\"/>\n",
              "  </svg>\n",
              "    </button>\n",
              "\n",
              "  <style>\n",
              "    .colab-df-container {\n",
              "      display:flex;\n",
              "      gap: 12px;\n",
              "    }\n",
              "\n",
              "    .colab-df-convert {\n",
              "      background-color: #E8F0FE;\n",
              "      border: none;\n",
              "      border-radius: 50%;\n",
              "      cursor: pointer;\n",
              "      display: none;\n",
              "      fill: #1967D2;\n",
              "      height: 32px;\n",
              "      padding: 0 0 0 0;\n",
              "      width: 32px;\n",
              "    }\n",
              "\n",
              "    .colab-df-convert:hover {\n",
              "      background-color: #E2EBFA;\n",
              "      box-shadow: 0px 1px 2px rgba(60, 64, 67, 0.3), 0px 1px 3px 1px rgba(60, 64, 67, 0.15);\n",
              "      fill: #174EA6;\n",
              "    }\n",
              "\n",
              "    .colab-df-buttons div {\n",
              "      margin-bottom: 4px;\n",
              "    }\n",
              "\n",
              "    [theme=dark] .colab-df-convert {\n",
              "      background-color: #3B4455;\n",
              "      fill: #D2E3FC;\n",
              "    }\n",
              "\n",
              "    [theme=dark] .colab-df-convert:hover {\n",
              "      background-color: #434B5C;\n",
              "      box-shadow: 0px 1px 3px 1px rgba(0, 0, 0, 0.15);\n",
              "      filter: drop-shadow(0px 1px 2px rgba(0, 0, 0, 0.3));\n",
              "      fill: #FFFFFF;\n",
              "    }\n",
              "  </style>\n",
              "\n",
              "    <script>\n",
              "      const buttonEl =\n",
              "        document.querySelector('#df-b95356d5-1fa1-4941-8508-5b0ce70e206c button.colab-df-convert');\n",
              "      buttonEl.style.display =\n",
              "        google.colab.kernel.accessAllowed ? 'block' : 'none';\n",
              "\n",
              "      async function convertToInteractive(key) {\n",
              "        const element = document.querySelector('#df-b95356d5-1fa1-4941-8508-5b0ce70e206c');\n",
              "        const dataTable =\n",
              "          await google.colab.kernel.invokeFunction('convertToInteractive',\n",
              "                                                    [key], {});\n",
              "        if (!dataTable) return;\n",
              "\n",
              "        const docLinkHtml = 'Like what you see? Visit the ' +\n",
              "          '<a target=\"_blank\" href=https://colab.research.google.com/notebooks/data_table.ipynb>data table notebook</a>'\n",
              "          + ' to learn more about interactive tables.';\n",
              "        element.innerHTML = '';\n",
              "        dataTable['output_type'] = 'display_data';\n",
              "        await google.colab.output.renderOutput(dataTable, element);\n",
              "        const docLink = document.createElement('div');\n",
              "        docLink.innerHTML = docLinkHtml;\n",
              "        element.appendChild(docLink);\n",
              "      }\n",
              "    </script>\n",
              "  </div>\n",
              "\n",
              "\n",
              "<div id=\"df-6d5d4477-87ef-414c-aaad-f9e743912471\">\n",
              "  <button class=\"colab-df-quickchart\" onclick=\"quickchart('df-6d5d4477-87ef-414c-aaad-f9e743912471')\"\n",
              "            title=\"Suggest charts\"\n",
              "            style=\"display:none;\">\n",
              "\n",
              "<svg xmlns=\"http://www.w3.org/2000/svg\" height=\"24px\"viewBox=\"0 0 24 24\"\n",
              "     width=\"24px\">\n",
              "    <g>\n",
              "        <path d=\"M19 3H5c-1.1 0-2 .9-2 2v14c0 1.1.9 2 2 2h14c1.1 0 2-.9 2-2V5c0-1.1-.9-2-2-2zM9 17H7v-7h2v7zm4 0h-2V7h2v10zm4 0h-2v-4h2v4z\"/>\n",
              "    </g>\n",
              "</svg>\n",
              "  </button>\n",
              "\n",
              "<style>\n",
              "  .colab-df-quickchart {\n",
              "      --bg-color: #E8F0FE;\n",
              "      --fill-color: #1967D2;\n",
              "      --hover-bg-color: #E2EBFA;\n",
              "      --hover-fill-color: #174EA6;\n",
              "      --disabled-fill-color: #AAA;\n",
              "      --disabled-bg-color: #DDD;\n",
              "  }\n",
              "\n",
              "  [theme=dark] .colab-df-quickchart {\n",
              "      --bg-color: #3B4455;\n",
              "      --fill-color: #D2E3FC;\n",
              "      --hover-bg-color: #434B5C;\n",
              "      --hover-fill-color: #FFFFFF;\n",
              "      --disabled-bg-color: #3B4455;\n",
              "      --disabled-fill-color: #666;\n",
              "  }\n",
              "\n",
              "  .colab-df-quickchart {\n",
              "    background-color: var(--bg-color);\n",
              "    border: none;\n",
              "    border-radius: 50%;\n",
              "    cursor: pointer;\n",
              "    display: none;\n",
              "    fill: var(--fill-color);\n",
              "    height: 32px;\n",
              "    padding: 0;\n",
              "    width: 32px;\n",
              "  }\n",
              "\n",
              "  .colab-df-quickchart:hover {\n",
              "    background-color: var(--hover-bg-color);\n",
              "    box-shadow: 0 1px 2px rgba(60, 64, 67, 0.3), 0 1px 3px 1px rgba(60, 64, 67, 0.15);\n",
              "    fill: var(--button-hover-fill-color);\n",
              "  }\n",
              "\n",
              "  .colab-df-quickchart-complete:disabled,\n",
              "  .colab-df-quickchart-complete:disabled:hover {\n",
              "    background-color: var(--disabled-bg-color);\n",
              "    fill: var(--disabled-fill-color);\n",
              "    box-shadow: none;\n",
              "  }\n",
              "\n",
              "  .colab-df-spinner {\n",
              "    border: 2px solid var(--fill-color);\n",
              "    border-color: transparent;\n",
              "    border-bottom-color: var(--fill-color);\n",
              "    animation:\n",
              "      spin 1s steps(1) infinite;\n",
              "  }\n",
              "\n",
              "  @keyframes spin {\n",
              "    0% {\n",
              "      border-color: transparent;\n",
              "      border-bottom-color: var(--fill-color);\n",
              "      border-left-color: var(--fill-color);\n",
              "    }\n",
              "    20% {\n",
              "      border-color: transparent;\n",
              "      border-left-color: var(--fill-color);\n",
              "      border-top-color: var(--fill-color);\n",
              "    }\n",
              "    30% {\n",
              "      border-color: transparent;\n",
              "      border-left-color: var(--fill-color);\n",
              "      border-top-color: var(--fill-color);\n",
              "      border-right-color: var(--fill-color);\n",
              "    }\n",
              "    40% {\n",
              "      border-color: transparent;\n",
              "      border-right-color: var(--fill-color);\n",
              "      border-top-color: var(--fill-color);\n",
              "    }\n",
              "    60% {\n",
              "      border-color: transparent;\n",
              "      border-right-color: var(--fill-color);\n",
              "    }\n",
              "    80% {\n",
              "      border-color: transparent;\n",
              "      border-right-color: var(--fill-color);\n",
              "      border-bottom-color: var(--fill-color);\n",
              "    }\n",
              "    90% {\n",
              "      border-color: transparent;\n",
              "      border-bottom-color: var(--fill-color);\n",
              "    }\n",
              "  }\n",
              "</style>\n",
              "\n",
              "  <script>\n",
              "    async function quickchart(key) {\n",
              "      const quickchartButtonEl =\n",
              "        document.querySelector('#' + key + ' button');\n",
              "      quickchartButtonEl.disabled = true;  // To prevent multiple clicks.\n",
              "      quickchartButtonEl.classList.add('colab-df-spinner');\n",
              "      try {\n",
              "        const charts = await google.colab.kernel.invokeFunction(\n",
              "            'suggestCharts', [key], {});\n",
              "      } catch (error) {\n",
              "        console.error('Error during call to suggestCharts:', error);\n",
              "      }\n",
              "      quickchartButtonEl.classList.remove('colab-df-spinner');\n",
              "      quickchartButtonEl.classList.add('colab-df-quickchart-complete');\n",
              "    }\n",
              "    (() => {\n",
              "      let quickchartButtonEl =\n",
              "        document.querySelector('#df-6d5d4477-87ef-414c-aaad-f9e743912471 button');\n",
              "      quickchartButtonEl.style.display =\n",
              "        google.colab.kernel.accessAllowed ? 'block' : 'none';\n",
              "    })();\n",
              "  </script>\n",
              "</div>\n",
              "    </div>\n",
              "  </div>\n"
            ]
          },
          "metadata": {},
          "execution_count": 5
        }
      ]
    },
    {
      "cell_type": "code",
      "source": [
        "a='''age - Age\n",
        "bp - BloodPressure\n",
        "sg - SpecificGravity\n",
        "al - Albumin\n",
        "su - Sugar\n",
        "rbc - RBC\n",
        "pc - Pus Cell\n",
        "pcc - Pus Cell Clump\n",
        "ba - Bacteria\n",
        "bgr - Blood Glucose Random\n",
        "bu - Blood Urea\n",
        "sc - Serum Creatinine\n",
        "sod - Sodium\n",
        "pot - Potassium\n",
        "hemo - Hemoglobin\n",
        "pcv - Packed Cell Volume\n",
        "wc - WBC Count\n",
        "rc - RBC Count\n",
        "htn - HyperTension\n",
        "dm - Diabetes Mellitus\n",
        "cad - Cor Art Dis\n",
        "appet - Appetite\n",
        "pe - Pedal Edema\n",
        "ane - Anemia\n",
        "classification - Class\n",
        "'''\n",
        "a = a.split('\\n')\n",
        "a = a[:-1]\n",
        "a"
      ],
      "metadata": {
        "colab": {
          "base_uri": "https://localhost:8080/"
        },
        "id": "zxio39B8bXpT",
        "outputId": "2d433cf3-61a6-4b27-b0c0-d02512feb6ca"
      },
      "execution_count": null,
      "outputs": [
        {
          "output_type": "execute_result",
          "data": {
            "text/plain": [
              "['age - Age',\n",
              " 'bp - BloodPressure',\n",
              " 'sg - SpecificGravity',\n",
              " 'al - Albumin',\n",
              " 'su - Sugar',\n",
              " 'rbc - RBC',\n",
              " 'pc - Pus Cell',\n",
              " 'pcc - Pus Cell Clump',\n",
              " 'ba - Bacteria',\n",
              " 'bgr - Blood Glucose Random',\n",
              " 'bu - Blood Urea',\n",
              " 'sc - Serum Creatinine',\n",
              " 'sod - Sodium',\n",
              " 'pot - Potassium',\n",
              " 'hemo - Hemoglobin',\n",
              " 'pcv - Packed Cell Volume',\n",
              " 'wc - WBC Count',\n",
              " 'rc - RBC Count',\n",
              " 'htn - HyperTension',\n",
              " 'dm - Diabetes Mellitus',\n",
              " 'cad - Cor Art Dis',\n",
              " 'appet - Appetite',\n",
              " 'pe - Pedal Edema',\n",
              " 'ane - Anemia',\n",
              " 'classification - Class']"
            ]
          },
          "metadata": {},
          "execution_count": 6
        }
      ]
    },
    {
      "cell_type": "code",
      "source": [
        "df.columns"
      ],
      "metadata": {
        "colab": {
          "base_uri": "https://localhost:8080/"
        },
        "id": "mHGcesJ-cxeZ",
        "outputId": "34580d7d-9e38-4bc0-c3d1-caadbd804385"
      },
      "execution_count": null,
      "outputs": [
        {
          "output_type": "execute_result",
          "data": {
            "text/plain": [
              "Index(['age', 'bp', 'sg', 'al', 'su', 'rbc', 'pc', 'pcc', 'ba', 'bgr', 'bu',\n",
              "       'sc', 'sod', 'pot', 'hemo', 'pcv', 'wc', 'rc', 'htn', 'dm', 'cad',\n",
              "       'appet', 'pe', 'ane', 'classification'],\n",
              "      dtype='object')"
            ]
          },
          "metadata": {},
          "execution_count": 7
        }
      ]
    },
    {
      "cell_type": "code",
      "source": [
        "b = {}\n",
        "for i in a:\n",
        "  x,y = i.split(' - ')\n",
        "  b[x] = y\n",
        "\n",
        "b"
      ],
      "metadata": {
        "colab": {
          "base_uri": "https://localhost:8080/"
        },
        "id": "L6pWXY-1cZaY",
        "outputId": "66f24221-8d73-4e19-fba7-f76bfe0a4001"
      },
      "execution_count": null,
      "outputs": [
        {
          "output_type": "execute_result",
          "data": {
            "text/plain": [
              "{'age': 'Age',\n",
              " 'bp': 'BloodPressure',\n",
              " 'sg': 'SpecificGravity',\n",
              " 'al': 'Albumin',\n",
              " 'su': 'Sugar',\n",
              " 'rbc': 'RBC',\n",
              " 'pc': 'Pus Cell',\n",
              " 'pcc': 'Pus Cell Clump',\n",
              " 'ba': 'Bacteria',\n",
              " 'bgr': 'Blood Glucose Random',\n",
              " 'bu': 'Blood Urea',\n",
              " 'sc': 'Serum Creatinine',\n",
              " 'sod': 'Sodium',\n",
              " 'pot': 'Potassium',\n",
              " 'hemo': 'Hemoglobin',\n",
              " 'pcv': 'Packed Cell Volume',\n",
              " 'wc': 'WBC Count',\n",
              " 'rc': 'RBC Count',\n",
              " 'htn': 'HyperTension',\n",
              " 'dm': 'Diabetes Mellitus',\n",
              " 'cad': 'Cor Art Dis',\n",
              " 'appet': 'Appetite',\n",
              " 'pe': 'Pedal Edema',\n",
              " 'ane': 'Anemia',\n",
              " 'classification': 'Class'}"
            ]
          },
          "metadata": {},
          "execution_count": 8
        }
      ]
    },
    {
      "cell_type": "code",
      "source": [
        "df.rename(columns=b, inplace=True)\n",
        "df"
      ],
      "metadata": {
        "colab": {
          "base_uri": "https://localhost:8080/",
          "height": 478
        },
        "id": "4kg2_b6bbSVM",
        "outputId": "766f6f0b-becf-4d70-ee84-611f2109386d"
      },
      "execution_count": null,
      "outputs": [
        {
          "output_type": "execute_result",
          "data": {
            "text/plain": [
              "      Age  BloodPressure  SpecificGravity  Albumin  Sugar     RBC  Pus Cell  \\\n",
              "0    62.0           70.0            1.025      3.0    0.0  normal  abnormal   \n",
              "1    54.0           70.0              NaN      NaN    NaN     NaN       NaN   \n",
              "2    47.0           80.0              NaN      NaN    NaN     NaN       NaN   \n",
              "3    43.0           60.0            1.025      0.0    0.0  normal    normal   \n",
              "4    42.0          100.0            1.015      4.0    0.0  normal  abnormal   \n",
              "..    ...            ...              ...      ...    ...     ...       ...   \n",
              "275  46.0           60.0            1.010      1.0    0.0  normal    normal   \n",
              "276  50.0           90.0              NaN      NaN    NaN     NaN       NaN   \n",
              "277  23.0           80.0            1.025      0.0    0.0  normal    normal   \n",
              "278  38.0           80.0            1.020      0.0    0.0  normal    normal   \n",
              "279  17.0           60.0            1.010      0.0    0.0     NaN    normal   \n",
              "\n",
              "    Pus Cell Clump    Bacteria  Blood Glucose Random  ...  Packed Cell Volume  \\\n",
              "0       notpresent  notpresent                 122.0  ...                39.0   \n",
              "1       notpresent  notpresent                 233.0  ...                 NaN   \n",
              "2       notpresent  notpresent                 114.0  ...                 NaN   \n",
              "3       notpresent  notpresent                 108.0  ...                43.0   \n",
              "4       notpresent     present                   NaN  ...                39.0   \n",
              "..             ...         ...                   ...  ...                 ...   \n",
              "275     notpresent  notpresent                 163.0  ...                28.0   \n",
              "276     notpresent  notpresent                  89.0  ...                17.0   \n",
              "277     notpresent  notpresent                 111.0  ...                41.0   \n",
              "278     notpresent  notpresent                  99.0  ...                44.0   \n",
              "279     notpresent  notpresent                  92.0  ...                52.0   \n",
              "\n",
              "     WBC Count  RBC Count  HyperTension  Diabetes Mellitus  Cor Art Dis  \\\n",
              "0         7900        3.9           yes                yes           no   \n",
              "1          NaN        NaN            no                yes           no   \n",
              "2          NaN        NaN           yes                 no           no   \n",
              "3         7200        5.5            no                 no           no   \n",
              "4         8300        4.6           yes                 no           no   \n",
              "..         ...        ...           ...                ...          ...   \n",
              "275      14600        3.2           yes                yes           no   \n",
              "276       6500        NaN           yes                yes           no   \n",
              "277       7200        5.0            no                 no           no   \n",
              "278       7300        6.4            no                 no           no   \n",
              "279       7000        NaN            no                 no           no   \n",
              "\n",
              "    Appetite Pedal Edema Anemia   Class  \n",
              "0       good          no     no     ckd  \n",
              "1       good          no     no     ckd  \n",
              "2       poor          no     no     ckd  \n",
              "3       good          no     no  notckd  \n",
              "4       poor          no     no     ckd  \n",
              "..       ...         ...    ...     ...  \n",
              "275     good          no     no     ckd  \n",
              "276     good         yes    yes     ckd  \n",
              "277     good          no     no  notckd  \n",
              "278     good          no     no  notckd  \n",
              "279     good          no     no     ckd  \n",
              "\n",
              "[280 rows x 25 columns]"
            ],
            "text/html": [
              "\n",
              "  <div id=\"df-edfb9ac2-7e88-4a1d-a6e7-a1acedda4358\" class=\"colab-df-container\">\n",
              "    <div>\n",
              "<style scoped>\n",
              "    .dataframe tbody tr th:only-of-type {\n",
              "        vertical-align: middle;\n",
              "    }\n",
              "\n",
              "    .dataframe tbody tr th {\n",
              "        vertical-align: top;\n",
              "    }\n",
              "\n",
              "    .dataframe thead th {\n",
              "        text-align: right;\n",
              "    }\n",
              "</style>\n",
              "<table border=\"1\" class=\"dataframe\">\n",
              "  <thead>\n",
              "    <tr style=\"text-align: right;\">\n",
              "      <th></th>\n",
              "      <th>Age</th>\n",
              "      <th>BloodPressure</th>\n",
              "      <th>SpecificGravity</th>\n",
              "      <th>Albumin</th>\n",
              "      <th>Sugar</th>\n",
              "      <th>RBC</th>\n",
              "      <th>Pus Cell</th>\n",
              "      <th>Pus Cell Clump</th>\n",
              "      <th>Bacteria</th>\n",
              "      <th>Blood Glucose Random</th>\n",
              "      <th>...</th>\n",
              "      <th>Packed Cell Volume</th>\n",
              "      <th>WBC Count</th>\n",
              "      <th>RBC Count</th>\n",
              "      <th>HyperTension</th>\n",
              "      <th>Diabetes Mellitus</th>\n",
              "      <th>Cor Art Dis</th>\n",
              "      <th>Appetite</th>\n",
              "      <th>Pedal Edema</th>\n",
              "      <th>Anemia</th>\n",
              "      <th>Class</th>\n",
              "    </tr>\n",
              "  </thead>\n",
              "  <tbody>\n",
              "    <tr>\n",
              "      <th>0</th>\n",
              "      <td>62.0</td>\n",
              "      <td>70.0</td>\n",
              "      <td>1.025</td>\n",
              "      <td>3.0</td>\n",
              "      <td>0.0</td>\n",
              "      <td>normal</td>\n",
              "      <td>abnormal</td>\n",
              "      <td>notpresent</td>\n",
              "      <td>notpresent</td>\n",
              "      <td>122.0</td>\n",
              "      <td>...</td>\n",
              "      <td>39.0</td>\n",
              "      <td>7900</td>\n",
              "      <td>3.9</td>\n",
              "      <td>yes</td>\n",
              "      <td>yes</td>\n",
              "      <td>no</td>\n",
              "      <td>good</td>\n",
              "      <td>no</td>\n",
              "      <td>no</td>\n",
              "      <td>ckd</td>\n",
              "    </tr>\n",
              "    <tr>\n",
              "      <th>1</th>\n",
              "      <td>54.0</td>\n",
              "      <td>70.0</td>\n",
              "      <td>NaN</td>\n",
              "      <td>NaN</td>\n",
              "      <td>NaN</td>\n",
              "      <td>NaN</td>\n",
              "      <td>NaN</td>\n",
              "      <td>notpresent</td>\n",
              "      <td>notpresent</td>\n",
              "      <td>233.0</td>\n",
              "      <td>...</td>\n",
              "      <td>NaN</td>\n",
              "      <td>NaN</td>\n",
              "      <td>NaN</td>\n",
              "      <td>no</td>\n",
              "      <td>yes</td>\n",
              "      <td>no</td>\n",
              "      <td>good</td>\n",
              "      <td>no</td>\n",
              "      <td>no</td>\n",
              "      <td>ckd</td>\n",
              "    </tr>\n",
              "    <tr>\n",
              "      <th>2</th>\n",
              "      <td>47.0</td>\n",
              "      <td>80.0</td>\n",
              "      <td>NaN</td>\n",
              "      <td>NaN</td>\n",
              "      <td>NaN</td>\n",
              "      <td>NaN</td>\n",
              "      <td>NaN</td>\n",
              "      <td>notpresent</td>\n",
              "      <td>notpresent</td>\n",
              "      <td>114.0</td>\n",
              "      <td>...</td>\n",
              "      <td>NaN</td>\n",
              "      <td>NaN</td>\n",
              "      <td>NaN</td>\n",
              "      <td>yes</td>\n",
              "      <td>no</td>\n",
              "      <td>no</td>\n",
              "      <td>poor</td>\n",
              "      <td>no</td>\n",
              "      <td>no</td>\n",
              "      <td>ckd</td>\n",
              "    </tr>\n",
              "    <tr>\n",
              "      <th>3</th>\n",
              "      <td>43.0</td>\n",
              "      <td>60.0</td>\n",
              "      <td>1.025</td>\n",
              "      <td>0.0</td>\n",
              "      <td>0.0</td>\n",
              "      <td>normal</td>\n",
              "      <td>normal</td>\n",
              "      <td>notpresent</td>\n",
              "      <td>notpresent</td>\n",
              "      <td>108.0</td>\n",
              "      <td>...</td>\n",
              "      <td>43.0</td>\n",
              "      <td>7200</td>\n",
              "      <td>5.5</td>\n",
              "      <td>no</td>\n",
              "      <td>no</td>\n",
              "      <td>no</td>\n",
              "      <td>good</td>\n",
              "      <td>no</td>\n",
              "      <td>no</td>\n",
              "      <td>notckd</td>\n",
              "    </tr>\n",
              "    <tr>\n",
              "      <th>4</th>\n",
              "      <td>42.0</td>\n",
              "      <td>100.0</td>\n",
              "      <td>1.015</td>\n",
              "      <td>4.0</td>\n",
              "      <td>0.0</td>\n",
              "      <td>normal</td>\n",
              "      <td>abnormal</td>\n",
              "      <td>notpresent</td>\n",
              "      <td>present</td>\n",
              "      <td>NaN</td>\n",
              "      <td>...</td>\n",
              "      <td>39.0</td>\n",
              "      <td>8300</td>\n",
              "      <td>4.6</td>\n",
              "      <td>yes</td>\n",
              "      <td>no</td>\n",
              "      <td>no</td>\n",
              "      <td>poor</td>\n",
              "      <td>no</td>\n",
              "      <td>no</td>\n",
              "      <td>ckd</td>\n",
              "    </tr>\n",
              "    <tr>\n",
              "      <th>...</th>\n",
              "      <td>...</td>\n",
              "      <td>...</td>\n",
              "      <td>...</td>\n",
              "      <td>...</td>\n",
              "      <td>...</td>\n",
              "      <td>...</td>\n",
              "      <td>...</td>\n",
              "      <td>...</td>\n",
              "      <td>...</td>\n",
              "      <td>...</td>\n",
              "      <td>...</td>\n",
              "      <td>...</td>\n",
              "      <td>...</td>\n",
              "      <td>...</td>\n",
              "      <td>...</td>\n",
              "      <td>...</td>\n",
              "      <td>...</td>\n",
              "      <td>...</td>\n",
              "      <td>...</td>\n",
              "      <td>...</td>\n",
              "      <td>...</td>\n",
              "    </tr>\n",
              "    <tr>\n",
              "      <th>275</th>\n",
              "      <td>46.0</td>\n",
              "      <td>60.0</td>\n",
              "      <td>1.010</td>\n",
              "      <td>1.0</td>\n",
              "      <td>0.0</td>\n",
              "      <td>normal</td>\n",
              "      <td>normal</td>\n",
              "      <td>notpresent</td>\n",
              "      <td>notpresent</td>\n",
              "      <td>163.0</td>\n",
              "      <td>...</td>\n",
              "      <td>28.0</td>\n",
              "      <td>14600</td>\n",
              "      <td>3.2</td>\n",
              "      <td>yes</td>\n",
              "      <td>yes</td>\n",
              "      <td>no</td>\n",
              "      <td>good</td>\n",
              "      <td>no</td>\n",
              "      <td>no</td>\n",
              "      <td>ckd</td>\n",
              "    </tr>\n",
              "    <tr>\n",
              "      <th>276</th>\n",
              "      <td>50.0</td>\n",
              "      <td>90.0</td>\n",
              "      <td>NaN</td>\n",
              "      <td>NaN</td>\n",
              "      <td>NaN</td>\n",
              "      <td>NaN</td>\n",
              "      <td>NaN</td>\n",
              "      <td>notpresent</td>\n",
              "      <td>notpresent</td>\n",
              "      <td>89.0</td>\n",
              "      <td>...</td>\n",
              "      <td>17.0</td>\n",
              "      <td>6500</td>\n",
              "      <td>NaN</td>\n",
              "      <td>yes</td>\n",
              "      <td>yes</td>\n",
              "      <td>no</td>\n",
              "      <td>good</td>\n",
              "      <td>yes</td>\n",
              "      <td>yes</td>\n",
              "      <td>ckd</td>\n",
              "    </tr>\n",
              "    <tr>\n",
              "      <th>277</th>\n",
              "      <td>23.0</td>\n",
              "      <td>80.0</td>\n",
              "      <td>1.025</td>\n",
              "      <td>0.0</td>\n",
              "      <td>0.0</td>\n",
              "      <td>normal</td>\n",
              "      <td>normal</td>\n",
              "      <td>notpresent</td>\n",
              "      <td>notpresent</td>\n",
              "      <td>111.0</td>\n",
              "      <td>...</td>\n",
              "      <td>41.0</td>\n",
              "      <td>7200</td>\n",
              "      <td>5.0</td>\n",
              "      <td>no</td>\n",
              "      <td>no</td>\n",
              "      <td>no</td>\n",
              "      <td>good</td>\n",
              "      <td>no</td>\n",
              "      <td>no</td>\n",
              "      <td>notckd</td>\n",
              "    </tr>\n",
              "    <tr>\n",
              "      <th>278</th>\n",
              "      <td>38.0</td>\n",
              "      <td>80.0</td>\n",
              "      <td>1.020</td>\n",
              "      <td>0.0</td>\n",
              "      <td>0.0</td>\n",
              "      <td>normal</td>\n",
              "      <td>normal</td>\n",
              "      <td>notpresent</td>\n",
              "      <td>notpresent</td>\n",
              "      <td>99.0</td>\n",
              "      <td>...</td>\n",
              "      <td>44.0</td>\n",
              "      <td>7300</td>\n",
              "      <td>6.4</td>\n",
              "      <td>no</td>\n",
              "      <td>no</td>\n",
              "      <td>no</td>\n",
              "      <td>good</td>\n",
              "      <td>no</td>\n",
              "      <td>no</td>\n",
              "      <td>notckd</td>\n",
              "    </tr>\n",
              "    <tr>\n",
              "      <th>279</th>\n",
              "      <td>17.0</td>\n",
              "      <td>60.0</td>\n",
              "      <td>1.010</td>\n",
              "      <td>0.0</td>\n",
              "      <td>0.0</td>\n",
              "      <td>NaN</td>\n",
              "      <td>normal</td>\n",
              "      <td>notpresent</td>\n",
              "      <td>notpresent</td>\n",
              "      <td>92.0</td>\n",
              "      <td>...</td>\n",
              "      <td>52.0</td>\n",
              "      <td>7000</td>\n",
              "      <td>NaN</td>\n",
              "      <td>no</td>\n",
              "      <td>no</td>\n",
              "      <td>no</td>\n",
              "      <td>good</td>\n",
              "      <td>no</td>\n",
              "      <td>no</td>\n",
              "      <td>ckd</td>\n",
              "    </tr>\n",
              "  </tbody>\n",
              "</table>\n",
              "<p>280 rows × 25 columns</p>\n",
              "</div>\n",
              "    <div class=\"colab-df-buttons\">\n",
              "\n",
              "  <div class=\"colab-df-container\">\n",
              "    <button class=\"colab-df-convert\" onclick=\"convertToInteractive('df-edfb9ac2-7e88-4a1d-a6e7-a1acedda4358')\"\n",
              "            title=\"Convert this dataframe to an interactive table.\"\n",
              "            style=\"display:none;\">\n",
              "\n",
              "  <svg xmlns=\"http://www.w3.org/2000/svg\" height=\"24px\" viewBox=\"0 -960 960 960\">\n",
              "    <path d=\"M120-120v-720h720v720H120Zm60-500h600v-160H180v160Zm220 220h160v-160H400v160Zm0 220h160v-160H400v160ZM180-400h160v-160H180v160Zm440 0h160v-160H620v160ZM180-180h160v-160H180v160Zm440 0h160v-160H620v160Z\"/>\n",
              "  </svg>\n",
              "    </button>\n",
              "\n",
              "  <style>\n",
              "    .colab-df-container {\n",
              "      display:flex;\n",
              "      gap: 12px;\n",
              "    }\n",
              "\n",
              "    .colab-df-convert {\n",
              "      background-color: #E8F0FE;\n",
              "      border: none;\n",
              "      border-radius: 50%;\n",
              "      cursor: pointer;\n",
              "      display: none;\n",
              "      fill: #1967D2;\n",
              "      height: 32px;\n",
              "      padding: 0 0 0 0;\n",
              "      width: 32px;\n",
              "    }\n",
              "\n",
              "    .colab-df-convert:hover {\n",
              "      background-color: #E2EBFA;\n",
              "      box-shadow: 0px 1px 2px rgba(60, 64, 67, 0.3), 0px 1px 3px 1px rgba(60, 64, 67, 0.15);\n",
              "      fill: #174EA6;\n",
              "    }\n",
              "\n",
              "    .colab-df-buttons div {\n",
              "      margin-bottom: 4px;\n",
              "    }\n",
              "\n",
              "    [theme=dark] .colab-df-convert {\n",
              "      background-color: #3B4455;\n",
              "      fill: #D2E3FC;\n",
              "    }\n",
              "\n",
              "    [theme=dark] .colab-df-convert:hover {\n",
              "      background-color: #434B5C;\n",
              "      box-shadow: 0px 1px 3px 1px rgba(0, 0, 0, 0.15);\n",
              "      filter: drop-shadow(0px 1px 2px rgba(0, 0, 0, 0.3));\n",
              "      fill: #FFFFFF;\n",
              "    }\n",
              "  </style>\n",
              "\n",
              "    <script>\n",
              "      const buttonEl =\n",
              "        document.querySelector('#df-edfb9ac2-7e88-4a1d-a6e7-a1acedda4358 button.colab-df-convert');\n",
              "      buttonEl.style.display =\n",
              "        google.colab.kernel.accessAllowed ? 'block' : 'none';\n",
              "\n",
              "      async function convertToInteractive(key) {\n",
              "        const element = document.querySelector('#df-edfb9ac2-7e88-4a1d-a6e7-a1acedda4358');\n",
              "        const dataTable =\n",
              "          await google.colab.kernel.invokeFunction('convertToInteractive',\n",
              "                                                    [key], {});\n",
              "        if (!dataTable) return;\n",
              "\n",
              "        const docLinkHtml = 'Like what you see? Visit the ' +\n",
              "          '<a target=\"_blank\" href=https://colab.research.google.com/notebooks/data_table.ipynb>data table notebook</a>'\n",
              "          + ' to learn more about interactive tables.';\n",
              "        element.innerHTML = '';\n",
              "        dataTable['output_type'] = 'display_data';\n",
              "        await google.colab.output.renderOutput(dataTable, element);\n",
              "        const docLink = document.createElement('div');\n",
              "        docLink.innerHTML = docLinkHtml;\n",
              "        element.appendChild(docLink);\n",
              "      }\n",
              "    </script>\n",
              "  </div>\n",
              "\n",
              "\n",
              "<div id=\"df-a4526d23-58cf-48db-baf1-4be849a2540c\">\n",
              "  <button class=\"colab-df-quickchart\" onclick=\"quickchart('df-a4526d23-58cf-48db-baf1-4be849a2540c')\"\n",
              "            title=\"Suggest charts\"\n",
              "            style=\"display:none;\">\n",
              "\n",
              "<svg xmlns=\"http://www.w3.org/2000/svg\" height=\"24px\"viewBox=\"0 0 24 24\"\n",
              "     width=\"24px\">\n",
              "    <g>\n",
              "        <path d=\"M19 3H5c-1.1 0-2 .9-2 2v14c0 1.1.9 2 2 2h14c1.1 0 2-.9 2-2V5c0-1.1-.9-2-2-2zM9 17H7v-7h2v7zm4 0h-2V7h2v10zm4 0h-2v-4h2v4z\"/>\n",
              "    </g>\n",
              "</svg>\n",
              "  </button>\n",
              "\n",
              "<style>\n",
              "  .colab-df-quickchart {\n",
              "      --bg-color: #E8F0FE;\n",
              "      --fill-color: #1967D2;\n",
              "      --hover-bg-color: #E2EBFA;\n",
              "      --hover-fill-color: #174EA6;\n",
              "      --disabled-fill-color: #AAA;\n",
              "      --disabled-bg-color: #DDD;\n",
              "  }\n",
              "\n",
              "  [theme=dark] .colab-df-quickchart {\n",
              "      --bg-color: #3B4455;\n",
              "      --fill-color: #D2E3FC;\n",
              "      --hover-bg-color: #434B5C;\n",
              "      --hover-fill-color: #FFFFFF;\n",
              "      --disabled-bg-color: #3B4455;\n",
              "      --disabled-fill-color: #666;\n",
              "  }\n",
              "\n",
              "  .colab-df-quickchart {\n",
              "    background-color: var(--bg-color);\n",
              "    border: none;\n",
              "    border-radius: 50%;\n",
              "    cursor: pointer;\n",
              "    display: none;\n",
              "    fill: var(--fill-color);\n",
              "    height: 32px;\n",
              "    padding: 0;\n",
              "    width: 32px;\n",
              "  }\n",
              "\n",
              "  .colab-df-quickchart:hover {\n",
              "    background-color: var(--hover-bg-color);\n",
              "    box-shadow: 0 1px 2px rgba(60, 64, 67, 0.3), 0 1px 3px 1px rgba(60, 64, 67, 0.15);\n",
              "    fill: var(--button-hover-fill-color);\n",
              "  }\n",
              "\n",
              "  .colab-df-quickchart-complete:disabled,\n",
              "  .colab-df-quickchart-complete:disabled:hover {\n",
              "    background-color: var(--disabled-bg-color);\n",
              "    fill: var(--disabled-fill-color);\n",
              "    box-shadow: none;\n",
              "  }\n",
              "\n",
              "  .colab-df-spinner {\n",
              "    border: 2px solid var(--fill-color);\n",
              "    border-color: transparent;\n",
              "    border-bottom-color: var(--fill-color);\n",
              "    animation:\n",
              "      spin 1s steps(1) infinite;\n",
              "  }\n",
              "\n",
              "  @keyframes spin {\n",
              "    0% {\n",
              "      border-color: transparent;\n",
              "      border-bottom-color: var(--fill-color);\n",
              "      border-left-color: var(--fill-color);\n",
              "    }\n",
              "    20% {\n",
              "      border-color: transparent;\n",
              "      border-left-color: var(--fill-color);\n",
              "      border-top-color: var(--fill-color);\n",
              "    }\n",
              "    30% {\n",
              "      border-color: transparent;\n",
              "      border-left-color: var(--fill-color);\n",
              "      border-top-color: var(--fill-color);\n",
              "      border-right-color: var(--fill-color);\n",
              "    }\n",
              "    40% {\n",
              "      border-color: transparent;\n",
              "      border-right-color: var(--fill-color);\n",
              "      border-top-color: var(--fill-color);\n",
              "    }\n",
              "    60% {\n",
              "      border-color: transparent;\n",
              "      border-right-color: var(--fill-color);\n",
              "    }\n",
              "    80% {\n",
              "      border-color: transparent;\n",
              "      border-right-color: var(--fill-color);\n",
              "      border-bottom-color: var(--fill-color);\n",
              "    }\n",
              "    90% {\n",
              "      border-color: transparent;\n",
              "      border-bottom-color: var(--fill-color);\n",
              "    }\n",
              "  }\n",
              "</style>\n",
              "\n",
              "  <script>\n",
              "    async function quickchart(key) {\n",
              "      const quickchartButtonEl =\n",
              "        document.querySelector('#' + key + ' button');\n",
              "      quickchartButtonEl.disabled = true;  // To prevent multiple clicks.\n",
              "      quickchartButtonEl.classList.add('colab-df-spinner');\n",
              "      try {\n",
              "        const charts = await google.colab.kernel.invokeFunction(\n",
              "            'suggestCharts', [key], {});\n",
              "      } catch (error) {\n",
              "        console.error('Error during call to suggestCharts:', error);\n",
              "      }\n",
              "      quickchartButtonEl.classList.remove('colab-df-spinner');\n",
              "      quickchartButtonEl.classList.add('colab-df-quickchart-complete');\n",
              "    }\n",
              "    (() => {\n",
              "      let quickchartButtonEl =\n",
              "        document.querySelector('#df-a4526d23-58cf-48db-baf1-4be849a2540c button');\n",
              "      quickchartButtonEl.style.display =\n",
              "        google.colab.kernel.accessAllowed ? 'block' : 'none';\n",
              "    })();\n",
              "  </script>\n",
              "</div>\n",
              "    </div>\n",
              "  </div>\n"
            ]
          },
          "metadata": {},
          "execution_count": 9
        }
      ]
    },
    {
      "cell_type": "code",
      "source": [
        "df.to_csv('/content/drive/MyDrive/cdk_deep_learning/dataset.csv', index=False)"
      ],
      "metadata": {
        "id": "F1a7GRPKdK8D"
      },
      "execution_count": null,
      "outputs": []
    },
    {
      "cell_type": "markdown",
      "source": [
        "#Read Dataset"
      ],
      "metadata": {
        "id": "BI-fjl6wdbDn"
      }
    },
    {
      "cell_type": "code",
      "source": [
        "df = pd.read_csv('/content/drive/MyDrive/cdk_deep_learning/dataset.csv')\n",
        "df"
      ],
      "metadata": {
        "colab": {
          "base_uri": "https://localhost:8080/",
          "height": 478
        },
        "id": "W6eyTPgedSk9",
        "outputId": "f244e175-217f-4a3a-8939-60ca9c176610"
      },
      "execution_count": null,
      "outputs": [
        {
          "output_type": "execute_result",
          "data": {
            "text/plain": [
              "      Age  BloodPressure  SpecificGravity  Albumin  Sugar     RBC  Pus Cell  \\\n",
              "0    48.0           80.0            1.020      1.0    0.0     NaN    normal   \n",
              "1     7.0           50.0            1.020      4.0    0.0     NaN    normal   \n",
              "2    62.0           80.0            1.010      2.0    3.0  normal    normal   \n",
              "3    48.0           70.0            1.005      4.0    0.0  normal  abnormal   \n",
              "4    51.0           80.0            1.010      2.0    0.0  normal    normal   \n",
              "..    ...            ...              ...      ...    ...     ...       ...   \n",
              "395  55.0           80.0            1.020      0.0    0.0  normal    normal   \n",
              "396  42.0           70.0            1.025      0.0    0.0  normal    normal   \n",
              "397  12.0           80.0            1.020      0.0    0.0  normal    normal   \n",
              "398  17.0           60.0            1.025      0.0    0.0  normal    normal   \n",
              "399  58.0           80.0            1.025      0.0    0.0  normal    normal   \n",
              "\n",
              "    Pus Cell Clump    Bacteria  Blood Glucose Random  ...  Packed Cell Volume  \\\n",
              "0       notpresent  notpresent                 121.0  ...                  44   \n",
              "1       notpresent  notpresent                   NaN  ...                  38   \n",
              "2       notpresent  notpresent                 423.0  ...                  31   \n",
              "3          present  notpresent                 117.0  ...                  32   \n",
              "4       notpresent  notpresent                 106.0  ...                  35   \n",
              "..             ...         ...                   ...  ...                 ...   \n",
              "395     notpresent  notpresent                 140.0  ...                  47   \n",
              "396     notpresent  notpresent                  75.0  ...                  54   \n",
              "397     notpresent  notpresent                 100.0  ...                  49   \n",
              "398     notpresent  notpresent                 114.0  ...                  51   \n",
              "399     notpresent  notpresent                 131.0  ...                  53   \n",
              "\n",
              "     WBC Count  RBC Count  HyperTension  Diabetes Mellitus Cor Art Dis  \\\n",
              "0         7800        5.2           yes                yes          no   \n",
              "1         6000        NaN            no                 no          no   \n",
              "2         7500        NaN            no                yes          no   \n",
              "3         6700        3.9           yes                 no          no   \n",
              "4         7300        4.6            no                 no          no   \n",
              "..         ...        ...           ...                ...         ...   \n",
              "395       6700        4.9            no                 no          no   \n",
              "396       7800        6.2            no                 no          no   \n",
              "397       6600        5.4            no                 no          no   \n",
              "398       7200        5.9            no                 no          no   \n",
              "399       6800        6.1            no                 no          no   \n",
              "\n",
              "    Appetite Pedal Edema Anemia   Class  \n",
              "0       good          no     no     ckd  \n",
              "1       good          no     no     ckd  \n",
              "2       poor          no    yes     ckd  \n",
              "3       poor         yes    yes     ckd  \n",
              "4       good          no     no     ckd  \n",
              "..       ...         ...    ...     ...  \n",
              "395     good          no     no  notckd  \n",
              "396     good          no     no  notckd  \n",
              "397     good          no     no  notckd  \n",
              "398     good          no     no  notckd  \n",
              "399     good          no     no  notckd  \n",
              "\n",
              "[400 rows x 25 columns]"
            ],
            "text/html": [
              "\n",
              "  <div id=\"df-5d68bd3b-86f3-4ad4-aeb0-dd5f0becf229\" class=\"colab-df-container\">\n",
              "    <div>\n",
              "<style scoped>\n",
              "    .dataframe tbody tr th:only-of-type {\n",
              "        vertical-align: middle;\n",
              "    }\n",
              "\n",
              "    .dataframe tbody tr th {\n",
              "        vertical-align: top;\n",
              "    }\n",
              "\n",
              "    .dataframe thead th {\n",
              "        text-align: right;\n",
              "    }\n",
              "</style>\n",
              "<table border=\"1\" class=\"dataframe\">\n",
              "  <thead>\n",
              "    <tr style=\"text-align: right;\">\n",
              "      <th></th>\n",
              "      <th>Age</th>\n",
              "      <th>BloodPressure</th>\n",
              "      <th>SpecificGravity</th>\n",
              "      <th>Albumin</th>\n",
              "      <th>Sugar</th>\n",
              "      <th>RBC</th>\n",
              "      <th>Pus Cell</th>\n",
              "      <th>Pus Cell Clump</th>\n",
              "      <th>Bacteria</th>\n",
              "      <th>Blood Glucose Random</th>\n",
              "      <th>...</th>\n",
              "      <th>Packed Cell Volume</th>\n",
              "      <th>WBC Count</th>\n",
              "      <th>RBC Count</th>\n",
              "      <th>HyperTension</th>\n",
              "      <th>Diabetes Mellitus</th>\n",
              "      <th>Cor Art Dis</th>\n",
              "      <th>Appetite</th>\n",
              "      <th>Pedal Edema</th>\n",
              "      <th>Anemia</th>\n",
              "      <th>Class</th>\n",
              "    </tr>\n",
              "  </thead>\n",
              "  <tbody>\n",
              "    <tr>\n",
              "      <th>0</th>\n",
              "      <td>48.0</td>\n",
              "      <td>80.0</td>\n",
              "      <td>1.020</td>\n",
              "      <td>1.0</td>\n",
              "      <td>0.0</td>\n",
              "      <td>NaN</td>\n",
              "      <td>normal</td>\n",
              "      <td>notpresent</td>\n",
              "      <td>notpresent</td>\n",
              "      <td>121.0</td>\n",
              "      <td>...</td>\n",
              "      <td>44</td>\n",
              "      <td>7800</td>\n",
              "      <td>5.2</td>\n",
              "      <td>yes</td>\n",
              "      <td>yes</td>\n",
              "      <td>no</td>\n",
              "      <td>good</td>\n",
              "      <td>no</td>\n",
              "      <td>no</td>\n",
              "      <td>ckd</td>\n",
              "    </tr>\n",
              "    <tr>\n",
              "      <th>1</th>\n",
              "      <td>7.0</td>\n",
              "      <td>50.0</td>\n",
              "      <td>1.020</td>\n",
              "      <td>4.0</td>\n",
              "      <td>0.0</td>\n",
              "      <td>NaN</td>\n",
              "      <td>normal</td>\n",
              "      <td>notpresent</td>\n",
              "      <td>notpresent</td>\n",
              "      <td>NaN</td>\n",
              "      <td>...</td>\n",
              "      <td>38</td>\n",
              "      <td>6000</td>\n",
              "      <td>NaN</td>\n",
              "      <td>no</td>\n",
              "      <td>no</td>\n",
              "      <td>no</td>\n",
              "      <td>good</td>\n",
              "      <td>no</td>\n",
              "      <td>no</td>\n",
              "      <td>ckd</td>\n",
              "    </tr>\n",
              "    <tr>\n",
              "      <th>2</th>\n",
              "      <td>62.0</td>\n",
              "      <td>80.0</td>\n",
              "      <td>1.010</td>\n",
              "      <td>2.0</td>\n",
              "      <td>3.0</td>\n",
              "      <td>normal</td>\n",
              "      <td>normal</td>\n",
              "      <td>notpresent</td>\n",
              "      <td>notpresent</td>\n",
              "      <td>423.0</td>\n",
              "      <td>...</td>\n",
              "      <td>31</td>\n",
              "      <td>7500</td>\n",
              "      <td>NaN</td>\n",
              "      <td>no</td>\n",
              "      <td>yes</td>\n",
              "      <td>no</td>\n",
              "      <td>poor</td>\n",
              "      <td>no</td>\n",
              "      <td>yes</td>\n",
              "      <td>ckd</td>\n",
              "    </tr>\n",
              "    <tr>\n",
              "      <th>3</th>\n",
              "      <td>48.0</td>\n",
              "      <td>70.0</td>\n",
              "      <td>1.005</td>\n",
              "      <td>4.0</td>\n",
              "      <td>0.0</td>\n",
              "      <td>normal</td>\n",
              "      <td>abnormal</td>\n",
              "      <td>present</td>\n",
              "      <td>notpresent</td>\n",
              "      <td>117.0</td>\n",
              "      <td>...</td>\n",
              "      <td>32</td>\n",
              "      <td>6700</td>\n",
              "      <td>3.9</td>\n",
              "      <td>yes</td>\n",
              "      <td>no</td>\n",
              "      <td>no</td>\n",
              "      <td>poor</td>\n",
              "      <td>yes</td>\n",
              "      <td>yes</td>\n",
              "      <td>ckd</td>\n",
              "    </tr>\n",
              "    <tr>\n",
              "      <th>4</th>\n",
              "      <td>51.0</td>\n",
              "      <td>80.0</td>\n",
              "      <td>1.010</td>\n",
              "      <td>2.0</td>\n",
              "      <td>0.0</td>\n",
              "      <td>normal</td>\n",
              "      <td>normal</td>\n",
              "      <td>notpresent</td>\n",
              "      <td>notpresent</td>\n",
              "      <td>106.0</td>\n",
              "      <td>...</td>\n",
              "      <td>35</td>\n",
              "      <td>7300</td>\n",
              "      <td>4.6</td>\n",
              "      <td>no</td>\n",
              "      <td>no</td>\n",
              "      <td>no</td>\n",
              "      <td>good</td>\n",
              "      <td>no</td>\n",
              "      <td>no</td>\n",
              "      <td>ckd</td>\n",
              "    </tr>\n",
              "    <tr>\n",
              "      <th>...</th>\n",
              "      <td>...</td>\n",
              "      <td>...</td>\n",
              "      <td>...</td>\n",
              "      <td>...</td>\n",
              "      <td>...</td>\n",
              "      <td>...</td>\n",
              "      <td>...</td>\n",
              "      <td>...</td>\n",
              "      <td>...</td>\n",
              "      <td>...</td>\n",
              "      <td>...</td>\n",
              "      <td>...</td>\n",
              "      <td>...</td>\n",
              "      <td>...</td>\n",
              "      <td>...</td>\n",
              "      <td>...</td>\n",
              "      <td>...</td>\n",
              "      <td>...</td>\n",
              "      <td>...</td>\n",
              "      <td>...</td>\n",
              "      <td>...</td>\n",
              "    </tr>\n",
              "    <tr>\n",
              "      <th>395</th>\n",
              "      <td>55.0</td>\n",
              "      <td>80.0</td>\n",
              "      <td>1.020</td>\n",
              "      <td>0.0</td>\n",
              "      <td>0.0</td>\n",
              "      <td>normal</td>\n",
              "      <td>normal</td>\n",
              "      <td>notpresent</td>\n",
              "      <td>notpresent</td>\n",
              "      <td>140.0</td>\n",
              "      <td>...</td>\n",
              "      <td>47</td>\n",
              "      <td>6700</td>\n",
              "      <td>4.9</td>\n",
              "      <td>no</td>\n",
              "      <td>no</td>\n",
              "      <td>no</td>\n",
              "      <td>good</td>\n",
              "      <td>no</td>\n",
              "      <td>no</td>\n",
              "      <td>notckd</td>\n",
              "    </tr>\n",
              "    <tr>\n",
              "      <th>396</th>\n",
              "      <td>42.0</td>\n",
              "      <td>70.0</td>\n",
              "      <td>1.025</td>\n",
              "      <td>0.0</td>\n",
              "      <td>0.0</td>\n",
              "      <td>normal</td>\n",
              "      <td>normal</td>\n",
              "      <td>notpresent</td>\n",
              "      <td>notpresent</td>\n",
              "      <td>75.0</td>\n",
              "      <td>...</td>\n",
              "      <td>54</td>\n",
              "      <td>7800</td>\n",
              "      <td>6.2</td>\n",
              "      <td>no</td>\n",
              "      <td>no</td>\n",
              "      <td>no</td>\n",
              "      <td>good</td>\n",
              "      <td>no</td>\n",
              "      <td>no</td>\n",
              "      <td>notckd</td>\n",
              "    </tr>\n",
              "    <tr>\n",
              "      <th>397</th>\n",
              "      <td>12.0</td>\n",
              "      <td>80.0</td>\n",
              "      <td>1.020</td>\n",
              "      <td>0.0</td>\n",
              "      <td>0.0</td>\n",
              "      <td>normal</td>\n",
              "      <td>normal</td>\n",
              "      <td>notpresent</td>\n",
              "      <td>notpresent</td>\n",
              "      <td>100.0</td>\n",
              "      <td>...</td>\n",
              "      <td>49</td>\n",
              "      <td>6600</td>\n",
              "      <td>5.4</td>\n",
              "      <td>no</td>\n",
              "      <td>no</td>\n",
              "      <td>no</td>\n",
              "      <td>good</td>\n",
              "      <td>no</td>\n",
              "      <td>no</td>\n",
              "      <td>notckd</td>\n",
              "    </tr>\n",
              "    <tr>\n",
              "      <th>398</th>\n",
              "      <td>17.0</td>\n",
              "      <td>60.0</td>\n",
              "      <td>1.025</td>\n",
              "      <td>0.0</td>\n",
              "      <td>0.0</td>\n",
              "      <td>normal</td>\n",
              "      <td>normal</td>\n",
              "      <td>notpresent</td>\n",
              "      <td>notpresent</td>\n",
              "      <td>114.0</td>\n",
              "      <td>...</td>\n",
              "      <td>51</td>\n",
              "      <td>7200</td>\n",
              "      <td>5.9</td>\n",
              "      <td>no</td>\n",
              "      <td>no</td>\n",
              "      <td>no</td>\n",
              "      <td>good</td>\n",
              "      <td>no</td>\n",
              "      <td>no</td>\n",
              "      <td>notckd</td>\n",
              "    </tr>\n",
              "    <tr>\n",
              "      <th>399</th>\n",
              "      <td>58.0</td>\n",
              "      <td>80.0</td>\n",
              "      <td>1.025</td>\n",
              "      <td>0.0</td>\n",
              "      <td>0.0</td>\n",
              "      <td>normal</td>\n",
              "      <td>normal</td>\n",
              "      <td>notpresent</td>\n",
              "      <td>notpresent</td>\n",
              "      <td>131.0</td>\n",
              "      <td>...</td>\n",
              "      <td>53</td>\n",
              "      <td>6800</td>\n",
              "      <td>6.1</td>\n",
              "      <td>no</td>\n",
              "      <td>no</td>\n",
              "      <td>no</td>\n",
              "      <td>good</td>\n",
              "      <td>no</td>\n",
              "      <td>no</td>\n",
              "      <td>notckd</td>\n",
              "    </tr>\n",
              "  </tbody>\n",
              "</table>\n",
              "<p>400 rows × 25 columns</p>\n",
              "</div>\n",
              "    <div class=\"colab-df-buttons\">\n",
              "\n",
              "  <div class=\"colab-df-container\">\n",
              "    <button class=\"colab-df-convert\" onclick=\"convertToInteractive('df-5d68bd3b-86f3-4ad4-aeb0-dd5f0becf229')\"\n",
              "            title=\"Convert this dataframe to an interactive table.\"\n",
              "            style=\"display:none;\">\n",
              "\n",
              "  <svg xmlns=\"http://www.w3.org/2000/svg\" height=\"24px\" viewBox=\"0 -960 960 960\">\n",
              "    <path d=\"M120-120v-720h720v720H120Zm60-500h600v-160H180v160Zm220 220h160v-160H400v160Zm0 220h160v-160H400v160ZM180-400h160v-160H180v160Zm440 0h160v-160H620v160ZM180-180h160v-160H180v160Zm440 0h160v-160H620v160Z\"/>\n",
              "  </svg>\n",
              "    </button>\n",
              "\n",
              "  <style>\n",
              "    .colab-df-container {\n",
              "      display:flex;\n",
              "      gap: 12px;\n",
              "    }\n",
              "\n",
              "    .colab-df-convert {\n",
              "      background-color: #E8F0FE;\n",
              "      border: none;\n",
              "      border-radius: 50%;\n",
              "      cursor: pointer;\n",
              "      display: none;\n",
              "      fill: #1967D2;\n",
              "      height: 32px;\n",
              "      padding: 0 0 0 0;\n",
              "      width: 32px;\n",
              "    }\n",
              "\n",
              "    .colab-df-convert:hover {\n",
              "      background-color: #E2EBFA;\n",
              "      box-shadow: 0px 1px 2px rgba(60, 64, 67, 0.3), 0px 1px 3px 1px rgba(60, 64, 67, 0.15);\n",
              "      fill: #174EA6;\n",
              "    }\n",
              "\n",
              "    .colab-df-buttons div {\n",
              "      margin-bottom: 4px;\n",
              "    }\n",
              "\n",
              "    [theme=dark] .colab-df-convert {\n",
              "      background-color: #3B4455;\n",
              "      fill: #D2E3FC;\n",
              "    }\n",
              "\n",
              "    [theme=dark] .colab-df-convert:hover {\n",
              "      background-color: #434B5C;\n",
              "      box-shadow: 0px 1px 3px 1px rgba(0, 0, 0, 0.15);\n",
              "      filter: drop-shadow(0px 1px 2px rgba(0, 0, 0, 0.3));\n",
              "      fill: #FFFFFF;\n",
              "    }\n",
              "  </style>\n",
              "\n",
              "    <script>\n",
              "      const buttonEl =\n",
              "        document.querySelector('#df-5d68bd3b-86f3-4ad4-aeb0-dd5f0becf229 button.colab-df-convert');\n",
              "      buttonEl.style.display =\n",
              "        google.colab.kernel.accessAllowed ? 'block' : 'none';\n",
              "\n",
              "      async function convertToInteractive(key) {\n",
              "        const element = document.querySelector('#df-5d68bd3b-86f3-4ad4-aeb0-dd5f0becf229');\n",
              "        const dataTable =\n",
              "          await google.colab.kernel.invokeFunction('convertToInteractive',\n",
              "                                                    [key], {});\n",
              "        if (!dataTable) return;\n",
              "\n",
              "        const docLinkHtml = 'Like what you see? Visit the ' +\n",
              "          '<a target=\"_blank\" href=https://colab.research.google.com/notebooks/data_table.ipynb>data table notebook</a>'\n",
              "          + ' to learn more about interactive tables.';\n",
              "        element.innerHTML = '';\n",
              "        dataTable['output_type'] = 'display_data';\n",
              "        await google.colab.output.renderOutput(dataTable, element);\n",
              "        const docLink = document.createElement('div');\n",
              "        docLink.innerHTML = docLinkHtml;\n",
              "        element.appendChild(docLink);\n",
              "      }\n",
              "    </script>\n",
              "  </div>\n",
              "\n",
              "\n",
              "<div id=\"df-72ce30cc-4033-4f76-b2dd-bcf5c8288f2c\">\n",
              "  <button class=\"colab-df-quickchart\" onclick=\"quickchart('df-72ce30cc-4033-4f76-b2dd-bcf5c8288f2c')\"\n",
              "            title=\"Suggest charts\"\n",
              "            style=\"display:none;\">\n",
              "\n",
              "<svg xmlns=\"http://www.w3.org/2000/svg\" height=\"24px\"viewBox=\"0 0 24 24\"\n",
              "     width=\"24px\">\n",
              "    <g>\n",
              "        <path d=\"M19 3H5c-1.1 0-2 .9-2 2v14c0 1.1.9 2 2 2h14c1.1 0 2-.9 2-2V5c0-1.1-.9-2-2-2zM9 17H7v-7h2v7zm4 0h-2V7h2v10zm4 0h-2v-4h2v4z\"/>\n",
              "    </g>\n",
              "</svg>\n",
              "  </button>\n",
              "\n",
              "<style>\n",
              "  .colab-df-quickchart {\n",
              "      --bg-color: #E8F0FE;\n",
              "      --fill-color: #1967D2;\n",
              "      --hover-bg-color: #E2EBFA;\n",
              "      --hover-fill-color: #174EA6;\n",
              "      --disabled-fill-color: #AAA;\n",
              "      --disabled-bg-color: #DDD;\n",
              "  }\n",
              "\n",
              "  [theme=dark] .colab-df-quickchart {\n",
              "      --bg-color: #3B4455;\n",
              "      --fill-color: #D2E3FC;\n",
              "      --hover-bg-color: #434B5C;\n",
              "      --hover-fill-color: #FFFFFF;\n",
              "      --disabled-bg-color: #3B4455;\n",
              "      --disabled-fill-color: #666;\n",
              "  }\n",
              "\n",
              "  .colab-df-quickchart {\n",
              "    background-color: var(--bg-color);\n",
              "    border: none;\n",
              "    border-radius: 50%;\n",
              "    cursor: pointer;\n",
              "    display: none;\n",
              "    fill: var(--fill-color);\n",
              "    height: 32px;\n",
              "    padding: 0;\n",
              "    width: 32px;\n",
              "  }\n",
              "\n",
              "  .colab-df-quickchart:hover {\n",
              "    background-color: var(--hover-bg-color);\n",
              "    box-shadow: 0 1px 2px rgba(60, 64, 67, 0.3), 0 1px 3px 1px rgba(60, 64, 67, 0.15);\n",
              "    fill: var(--button-hover-fill-color);\n",
              "  }\n",
              "\n",
              "  .colab-df-quickchart-complete:disabled,\n",
              "  .colab-df-quickchart-complete:disabled:hover {\n",
              "    background-color: var(--disabled-bg-color);\n",
              "    fill: var(--disabled-fill-color);\n",
              "    box-shadow: none;\n",
              "  }\n",
              "\n",
              "  .colab-df-spinner {\n",
              "    border: 2px solid var(--fill-color);\n",
              "    border-color: transparent;\n",
              "    border-bottom-color: var(--fill-color);\n",
              "    animation:\n",
              "      spin 1s steps(1) infinite;\n",
              "  }\n",
              "\n",
              "  @keyframes spin {\n",
              "    0% {\n",
              "      border-color: transparent;\n",
              "      border-bottom-color: var(--fill-color);\n",
              "      border-left-color: var(--fill-color);\n",
              "    }\n",
              "    20% {\n",
              "      border-color: transparent;\n",
              "      border-left-color: var(--fill-color);\n",
              "      border-top-color: var(--fill-color);\n",
              "    }\n",
              "    30% {\n",
              "      border-color: transparent;\n",
              "      border-left-color: var(--fill-color);\n",
              "      border-top-color: var(--fill-color);\n",
              "      border-right-color: var(--fill-color);\n",
              "    }\n",
              "    40% {\n",
              "      border-color: transparent;\n",
              "      border-right-color: var(--fill-color);\n",
              "      border-top-color: var(--fill-color);\n",
              "    }\n",
              "    60% {\n",
              "      border-color: transparent;\n",
              "      border-right-color: var(--fill-color);\n",
              "    }\n",
              "    80% {\n",
              "      border-color: transparent;\n",
              "      border-right-color: var(--fill-color);\n",
              "      border-bottom-color: var(--fill-color);\n",
              "    }\n",
              "    90% {\n",
              "      border-color: transparent;\n",
              "      border-bottom-color: var(--fill-color);\n",
              "    }\n",
              "  }\n",
              "</style>\n",
              "\n",
              "  <script>\n",
              "    async function quickchart(key) {\n",
              "      const quickchartButtonEl =\n",
              "        document.querySelector('#' + key + ' button');\n",
              "      quickchartButtonEl.disabled = true;  // To prevent multiple clicks.\n",
              "      quickchartButtonEl.classList.add('colab-df-spinner');\n",
              "      try {\n",
              "        const charts = await google.colab.kernel.invokeFunction(\n",
              "            'suggestCharts', [key], {});\n",
              "      } catch (error) {\n",
              "        console.error('Error during call to suggestCharts:', error);\n",
              "      }\n",
              "      quickchartButtonEl.classList.remove('colab-df-spinner');\n",
              "      quickchartButtonEl.classList.add('colab-df-quickchart-complete');\n",
              "    }\n",
              "    (() => {\n",
              "      let quickchartButtonEl =\n",
              "        document.querySelector('#df-72ce30cc-4033-4f76-b2dd-bcf5c8288f2c button');\n",
              "      quickchartButtonEl.style.display =\n",
              "        google.colab.kernel.accessAllowed ? 'block' : 'none';\n",
              "    })();\n",
              "  </script>\n",
              "</div>\n",
              "    </div>\n",
              "  </div>\n"
            ]
          },
          "metadata": {},
          "execution_count": 43
        }
      ]
    },
    {
      "cell_type": "markdown",
      "source": [
        "#Analysing and Preprocessing"
      ],
      "metadata": {
        "id": "BXpmSfZiZ5hc"
      }
    },
    {
      "cell_type": "code",
      "metadata": {
        "colab": {
          "base_uri": "https://localhost:8080/"
        },
        "id": "HdiP8Kw3ZK3O",
        "outputId": "28af5c0f-d02c-4419-dced-04b26c5e8527"
      },
      "source": [
        "df.isnull().values.any()"
      ],
      "execution_count": null,
      "outputs": [
        {
          "output_type": "execute_result",
          "data": {
            "text/plain": [
              "True"
            ]
          },
          "metadata": {},
          "execution_count": 44
        }
      ]
    },
    {
      "cell_type": "code",
      "metadata": {
        "colab": {
          "base_uri": "https://localhost:8080/"
        },
        "id": "EqZ5YhWEZT_4",
        "outputId": "b8756c31-c787-4cb4-aaea-3d87b76ef30e"
      },
      "source": [
        "df.isnull().any()"
      ],
      "execution_count": null,
      "outputs": [
        {
          "output_type": "execute_result",
          "data": {
            "text/plain": [
              "Age                      True\n",
              "BloodPressure            True\n",
              "SpecificGravity          True\n",
              "Albumin                  True\n",
              "Sugar                    True\n",
              "RBC                      True\n",
              "Pus Cell                 True\n",
              "Pus Cell Clump           True\n",
              "Bacteria                 True\n",
              "Blood Glucose Random     True\n",
              "Blood Urea               True\n",
              "Serum Creatinine         True\n",
              "Sodium                   True\n",
              "Potassium                True\n",
              "Hemoglobin               True\n",
              "Packed Cell Volume       True\n",
              "WBC Count                True\n",
              "RBC Count                True\n",
              "HyperTension             True\n",
              "Diabetes Mellitus        True\n",
              "Cor Art Dis              True\n",
              "Appetite                 True\n",
              "Pedal Edema              True\n",
              "Anemia                   True\n",
              "Class                   False\n",
              "dtype: bool"
            ]
          },
          "metadata": {},
          "execution_count": 45
        }
      ]
    },
    {
      "cell_type": "code",
      "metadata": {
        "id": "Tu1cvOf_d76V"
      },
      "source": [
        "df = df.dropna()"
      ],
      "execution_count": null,
      "outputs": []
    },
    {
      "cell_type": "code",
      "metadata": {
        "colab": {
          "base_uri": "https://localhost:8080/"
        },
        "id": "4w_AjHvefLMU",
        "outputId": "4b04ddca-eb78-48af-e1e1-ab61a7e8ba29"
      },
      "source": [
        "df.isnull().any()"
      ],
      "execution_count": null,
      "outputs": [
        {
          "output_type": "execute_result",
          "data": {
            "text/plain": [
              "Age                     False\n",
              "BloodPressure           False\n",
              "SpecificGravity         False\n",
              "Albumin                 False\n",
              "Sugar                   False\n",
              "RBC                     False\n",
              "Pus Cell                False\n",
              "Pus Cell Clump          False\n",
              "Bacteria                False\n",
              "Blood Glucose Random    False\n",
              "Blood Urea              False\n",
              "Serum Creatinine        False\n",
              "Sodium                  False\n",
              "Potassium               False\n",
              "Hemoglobin              False\n",
              "Packed Cell Volume      False\n",
              "WBC Count               False\n",
              "RBC Count               False\n",
              "HyperTension            False\n",
              "Diabetes Mellitus       False\n",
              "Cor Art Dis             False\n",
              "Appetite                False\n",
              "Pedal Edema             False\n",
              "Anemia                  False\n",
              "Class                   False\n",
              "dtype: bool"
            ]
          },
          "metadata": {},
          "execution_count": 47
        }
      ]
    },
    {
      "cell_type": "code",
      "metadata": {
        "colab": {
          "base_uri": "https://localhost:8080/"
        },
        "id": "rWoybfxsYs4i",
        "outputId": "5198eac5-3254-41c6-85d3-e1af4dce9ac4"
      },
      "source": [
        "df.dtypes"
      ],
      "execution_count": null,
      "outputs": [
        {
          "output_type": "execute_result",
          "data": {
            "text/plain": [
              "Age                     float64\n",
              "BloodPressure           float64\n",
              "SpecificGravity         float64\n",
              "Albumin                 float64\n",
              "Sugar                   float64\n",
              "RBC                      object\n",
              "Pus Cell                 object\n",
              "Pus Cell Clump           object\n",
              "Bacteria                 object\n",
              "Blood Glucose Random    float64\n",
              "Blood Urea              float64\n",
              "Serum Creatinine        float64\n",
              "Sodium                  float64\n",
              "Potassium               float64\n",
              "Hemoglobin              float64\n",
              "Packed Cell Volume       object\n",
              "WBC Count                object\n",
              "RBC Count                object\n",
              "HyperTension             object\n",
              "Diabetes Mellitus        object\n",
              "Cor Art Dis              object\n",
              "Appetite                 object\n",
              "Pedal Edema              object\n",
              "Anemia                   object\n",
              "Class                    object\n",
              "dtype: object"
            ]
          },
          "metadata": {},
          "execution_count": 48
        }
      ]
    },
    {
      "cell_type": "code",
      "metadata": {
        "colab": {
          "base_uri": "https://localhost:8080/"
        },
        "id": "ISvc65BNksvt",
        "outputId": "1eb0a9ac-7e80-4c93-ba26-b87e21a6ef1f"
      },
      "source": [
        "df.columns"
      ],
      "execution_count": null,
      "outputs": [
        {
          "output_type": "execute_result",
          "data": {
            "text/plain": [
              "Index(['Age', 'BloodPressure', 'SpecificGravity', 'Albumin', 'Sugar', 'RBC',\n",
              "       'Pus Cell', 'Pus Cell Clump', 'Bacteria', 'Blood Glucose Random',\n",
              "       'Blood Urea', 'Serum Creatinine', 'Sodium', 'Potassium', 'Hemoglobin',\n",
              "       'Packed Cell Volume', 'WBC Count', 'RBC Count', 'HyperTension',\n",
              "       'Diabetes Mellitus', 'Cor Art Dis', 'Appetite', 'Pedal Edema', 'Anemia',\n",
              "       'Class'],\n",
              "      dtype='object')"
            ]
          },
          "metadata": {},
          "execution_count": 49
        }
      ]
    },
    {
      "cell_type": "code",
      "source": [
        "df.shape"
      ],
      "metadata": {
        "colab": {
          "base_uri": "https://localhost:8080/"
        },
        "id": "W8TUaXsr97ci",
        "outputId": "4c3e06a8-8120-4c6e-b95b-2a7a3532af12"
      },
      "execution_count": null,
      "outputs": [
        {
          "output_type": "execute_result",
          "data": {
            "text/plain": [
              "(158, 25)"
            ]
          },
          "metadata": {},
          "execution_count": 50
        }
      ]
    },
    {
      "cell_type": "code",
      "source": [
        "df['WBC Count'] = df['WBC Count'].astype('int64')\n",
        "df['WBC Count'].dtype"
      ],
      "metadata": {
        "colab": {
          "base_uri": "https://localhost:8080/"
        },
        "id": "zoEhU7Emd30d",
        "outputId": "7ede9634-0529-4637-99c8-257daa6f94ca"
      },
      "execution_count": null,
      "outputs": [
        {
          "output_type": "execute_result",
          "data": {
            "text/plain": [
              "dtype('int64')"
            ]
          },
          "metadata": {},
          "execution_count": 9
        }
      ]
    },
    {
      "cell_type": "code",
      "source": [
        "df['RBC Count'] = df['RBC Count'].astype('float64')\n",
        "df['RBC Count'].dtype"
      ],
      "metadata": {
        "colab": {
          "base_uri": "https://localhost:8080/"
        },
        "id": "jjCMNeJueEhn",
        "outputId": "e07d86bc-87a2-4128-b7d8-ffeb71fa6598"
      },
      "execution_count": null,
      "outputs": [
        {
          "output_type": "execute_result",
          "data": {
            "text/plain": [
              "dtype('float64')"
            ]
          },
          "metadata": {},
          "execution_count": 10
        }
      ]
    },
    {
      "cell_type": "code",
      "source": [
        "df.dtypes"
      ],
      "metadata": {
        "colab": {
          "base_uri": "https://localhost:8080/"
        },
        "id": "RyVvvKWpeLay",
        "outputId": "0e1ad0ef-ed8e-4d86-c0ec-af7cc7af2fda"
      },
      "execution_count": null,
      "outputs": [
        {
          "output_type": "execute_result",
          "data": {
            "text/plain": [
              "Age                     float64\n",
              "BloodPressure           float64\n",
              "SpecificGravity         float64\n",
              "Albumin                 float64\n",
              "Sugar                   float64\n",
              "RBC                      object\n",
              "Pus Cell                 object\n",
              "Pus Cell Clump           object\n",
              "Bacteria                 object\n",
              "Blood Glucose Random    float64\n",
              "Blood Urea              float64\n",
              "Serum Creatinine        float64\n",
              "Sodium                  float64\n",
              "Potassium               float64\n",
              "Hemoglobin              float64\n",
              "Packed Cell Volume      float64\n",
              "WBC Count                 int64\n",
              "RBC Count               float64\n",
              "HyperTension             object\n",
              "Diabetes Mellitus        object\n",
              "Cor Art Dis              object\n",
              "Appetite                 object\n",
              "Pedal Edema              object\n",
              "Anemia                   object\n",
              "Class                    object\n",
              "dtype: object"
            ]
          },
          "metadata": {},
          "execution_count": 11
        }
      ]
    },
    {
      "cell_type": "code",
      "metadata": {
        "colab": {
          "base_uri": "https://localhost:8080/"
        },
        "id": "X_LV3UesgEvb",
        "outputId": "8dade7c3-a31d-4833-cc01-390e1103a767"
      },
      "source": [
        "print(df[\"Anemia\"].dtype)"
      ],
      "execution_count": null,
      "outputs": [
        {
          "output_type": "stream",
          "name": "stdout",
          "text": [
            "object\n"
          ]
        }
      ]
    },
    {
      "cell_type": "code",
      "metadata": {
        "colab": {
          "base_uri": "https://localhost:8080/"
        },
        "id": "AHFnZpjBocrZ",
        "outputId": "c8525444-aa13-430a-fb37-5700aac35098"
      },
      "source": [
        "df['Class'].value_counts()"
      ],
      "execution_count": null,
      "outputs": [
        {
          "output_type": "execute_result",
          "data": {
            "text/plain": [
              "notckd    78\n",
              "ckd       29\n",
              "Name: Class, dtype: int64"
            ]
          },
          "metadata": {},
          "execution_count": 13
        }
      ]
    },
    {
      "cell_type": "code",
      "metadata": {
        "colab": {
          "base_uri": "https://localhost:8080/"
        },
        "id": "lbX4dyAJY8v8",
        "outputId": "c22243ff-0210-4820-e825-1659ae1299fe"
      },
      "source": [
        "for i in df.columns:\n",
        "  if(df[i].dtype=='object'):\n",
        "    print(i)\n",
        "    print(df[i].unique())"
      ],
      "execution_count": null,
      "outputs": [
        {
          "output_type": "stream",
          "name": "stdout",
          "text": [
            "RBC\n",
            "['normal' 'abnormal']\n",
            "Pus Cell\n",
            "['abnormal' 'normal']\n",
            "Pus Cell Clump\n",
            "['notpresent' 'present']\n",
            "Bacteria\n",
            "['notpresent' 'present']\n",
            "HyperTension\n",
            "['yes' 'no']\n",
            "Diabetes Mellitus\n",
            "['yes' 'no']\n",
            "Cor Art Dis\n",
            "['no' 'yes']\n",
            "Appetite\n",
            "['good' 'poor']\n",
            "Pedal Edema\n",
            "['no' 'yes']\n",
            "Anemia\n",
            "['no' 'yes']\n",
            "Class\n",
            "['ckd' 'notckd']\n"
          ]
        }
      ]
    },
    {
      "cell_type": "code",
      "source": [
        "from sklearn import preprocessing\n",
        "le = preprocessing.LabelEncoder()"
      ],
      "metadata": {
        "id": "b6RjW3_rfOJJ"
      },
      "execution_count": null,
      "outputs": []
    },
    {
      "cell_type": "code",
      "metadata": {
        "id": "X8T-KeHkgA-K",
        "colab": {
          "base_uri": "https://localhost:8080/"
        },
        "outputId": "f6f118cc-e80e-408c-87a9-325eb801f0da"
      },
      "source": [
        "df[\"RBC\"] = le.fit_transform(df[\"RBC\"])\n",
        "dict(zip(le.classes_, le.transform(le.classes_)))"
      ],
      "execution_count": null,
      "outputs": [
        {
          "output_type": "execute_result",
          "data": {
            "text/plain": [
              "{'abnormal': 0, 'normal': 1}"
            ]
          },
          "metadata": {},
          "execution_count": 16
        }
      ]
    },
    {
      "cell_type": "code",
      "source": [
        "df[\"Pus Cell\"] = le.fit_transform(df[\"Pus Cell\"])\n",
        "dict(zip(le.classes_, le.transform(le.classes_)))"
      ],
      "metadata": {
        "colab": {
          "base_uri": "https://localhost:8080/"
        },
        "id": "kNYur4v1fRm3",
        "outputId": "5da24e18-7fcc-4fc6-c813-58395680ee38"
      },
      "execution_count": null,
      "outputs": [
        {
          "output_type": "execute_result",
          "data": {
            "text/plain": [
              "{'abnormal': 0, 'normal': 1}"
            ]
          },
          "metadata": {},
          "execution_count": 17
        }
      ]
    },
    {
      "cell_type": "code",
      "source": [
        "df[\"Pus Cell Clump\"] = le.fit_transform(df[\"Pus Cell Clump\"])\n",
        "dict(zip(le.classes_, le.transform(le.classes_)))"
      ],
      "metadata": {
        "colab": {
          "base_uri": "https://localhost:8080/"
        },
        "id": "eI3YfzhxfTpw",
        "outputId": "a91d401f-905b-4691-c4c8-c284764d1b65"
      },
      "execution_count": null,
      "outputs": [
        {
          "output_type": "execute_result",
          "data": {
            "text/plain": [
              "{'notpresent': 0, 'present': 1}"
            ]
          },
          "metadata": {},
          "execution_count": 18
        }
      ]
    },
    {
      "cell_type": "code",
      "source": [
        "df[\"Bacteria\"] = le.fit_transform(df[\"Bacteria\"])\n",
        "dict(zip(le.classes_, le.transform(le.classes_)))"
      ],
      "metadata": {
        "colab": {
          "base_uri": "https://localhost:8080/"
        },
        "id": "qXl78RcDfJim",
        "outputId": "c75245ed-b888-4928-a79d-4d33eff9f76a"
      },
      "execution_count": null,
      "outputs": [
        {
          "output_type": "execute_result",
          "data": {
            "text/plain": [
              "{'notpresent': 0, 'present': 1}"
            ]
          },
          "metadata": {},
          "execution_count": 19
        }
      ]
    },
    {
      "cell_type": "code",
      "source": [
        "df[\"HyperTension\"] = le.fit_transform(df[\"HyperTension\"])\n",
        "dict(zip(le.classes_, le.transform(le.classes_)))"
      ],
      "metadata": {
        "colab": {
          "base_uri": "https://localhost:8080/"
        },
        "id": "AwPlWK_DfjvT",
        "outputId": "892277c5-7e53-4b9b-8813-7205ad660992"
      },
      "execution_count": null,
      "outputs": [
        {
          "output_type": "execute_result",
          "data": {
            "text/plain": [
              "{'no': 0, 'yes': 1}"
            ]
          },
          "metadata": {},
          "execution_count": 20
        }
      ]
    },
    {
      "cell_type": "code",
      "source": [
        "df[\"Diabetes Mellitus\"] = le.fit_transform(df[\"Diabetes Mellitus\"])\n",
        "dict(zip(le.classes_, le.transform(le.classes_)))"
      ],
      "metadata": {
        "colab": {
          "base_uri": "https://localhost:8080/"
        },
        "id": "tO260ChWfcEO",
        "outputId": "d69e14f0-9a86-4343-c73f-0e98b500d583"
      },
      "execution_count": null,
      "outputs": [
        {
          "output_type": "execute_result",
          "data": {
            "text/plain": [
              "{'no': 0, 'yes': 1}"
            ]
          },
          "metadata": {},
          "execution_count": 21
        }
      ]
    },
    {
      "cell_type": "code",
      "source": [
        "df[\"Cor Art Dis\"] = le.fit_transform(df[\"Cor Art Dis\"])\n",
        "dict(zip(le.classes_, le.transform(le.classes_)))"
      ],
      "metadata": {
        "colab": {
          "base_uri": "https://localhost:8080/"
        },
        "id": "Suj60NTGfcBW",
        "outputId": "b09e986f-d6a1-4e71-95df-202a2ea198df"
      },
      "execution_count": null,
      "outputs": [
        {
          "output_type": "execute_result",
          "data": {
            "text/plain": [
              "{'no': 0, 'yes': 1}"
            ]
          },
          "metadata": {},
          "execution_count": 22
        }
      ]
    },
    {
      "cell_type": "code",
      "source": [
        "df[\"Appetite\"] = le.fit_transform(df[\"Appetite\"])\n",
        "dict(zip(le.classes_, le.transform(le.classes_)))"
      ],
      "metadata": {
        "colab": {
          "base_uri": "https://localhost:8080/"
        },
        "id": "IDxKX247fb-p",
        "outputId": "aae74c10-22f5-4dcb-f4fb-dacddcfece90"
      },
      "execution_count": null,
      "outputs": [
        {
          "output_type": "execute_result",
          "data": {
            "text/plain": [
              "{'good': 0, 'poor': 1}"
            ]
          },
          "metadata": {},
          "execution_count": 23
        }
      ]
    },
    {
      "cell_type": "code",
      "source": [
        "df[\"Pedal Edema\"] = le.fit_transform(df[\"Pedal Edema\"])\n",
        "dict(zip(le.classes_, le.transform(le.classes_)))"
      ],
      "metadata": {
        "colab": {
          "base_uri": "https://localhost:8080/"
        },
        "id": "iAKR-L9wfb7w",
        "outputId": "ee76de1c-4d39-4ae5-bd87-9f08161565a7"
      },
      "execution_count": null,
      "outputs": [
        {
          "output_type": "execute_result",
          "data": {
            "text/plain": [
              "{'no': 0, 'yes': 1}"
            ]
          },
          "metadata": {},
          "execution_count": 24
        }
      ]
    },
    {
      "cell_type": "code",
      "source": [
        "df[\"Anemia\"] = le.fit_transform(df[\"Anemia\"])\n",
        "dict(zip(le.classes_, le.transform(le.classes_)))"
      ],
      "metadata": {
        "colab": {
          "base_uri": "https://localhost:8080/"
        },
        "id": "OQbrU5safbdf",
        "outputId": "1dda9258-de89-4a6d-8f30-719a78c8df95"
      },
      "execution_count": null,
      "outputs": [
        {
          "output_type": "execute_result",
          "data": {
            "text/plain": [
              "{'no': 0, 'yes': 1}"
            ]
          },
          "metadata": {},
          "execution_count": 25
        }
      ]
    },
    {
      "cell_type": "code",
      "metadata": {
        "colab": {
          "base_uri": "https://localhost:8080/"
        },
        "id": "ueUxpVmp4ZBo",
        "outputId": "69a1c9e4-0ff6-493e-8fc5-0dc223009539"
      },
      "source": [
        "df[\"Class\"] = le.fit_transform(df[\"Class\"])\n",
        "dict(zip(le.classes_, le.transform(le.classes_)))"
      ],
      "execution_count": null,
      "outputs": [
        {
          "output_type": "execute_result",
          "data": {
            "text/plain": [
              "{'ckd': 0, 'notckd': 1}"
            ]
          },
          "metadata": {},
          "execution_count": 26
        }
      ]
    },
    {
      "cell_type": "code",
      "metadata": {
        "colab": {
          "base_uri": "https://localhost:8080/"
        },
        "id": "FMYLBaoO4a79",
        "outputId": "d3f3b29b-b7ce-4413-aeb4-5a46d99abf18"
      },
      "source": [
        "df.dtypes"
      ],
      "execution_count": null,
      "outputs": [
        {
          "output_type": "execute_result",
          "data": {
            "text/plain": [
              "Age                     float64\n",
              "BloodPressure           float64\n",
              "SpecificGravity         float64\n",
              "Albumin                 float64\n",
              "Sugar                   float64\n",
              "RBC                       int64\n",
              "Pus Cell                  int64\n",
              "Pus Cell Clump            int64\n",
              "Bacteria                  int64\n",
              "Blood Glucose Random    float64\n",
              "Blood Urea              float64\n",
              "Serum Creatinine        float64\n",
              "Sodium                  float64\n",
              "Potassium               float64\n",
              "Hemoglobin              float64\n",
              "Packed Cell Volume      float64\n",
              "WBC Count                 int64\n",
              "RBC Count               float64\n",
              "HyperTension              int64\n",
              "Diabetes Mellitus         int64\n",
              "Cor Art Dis               int64\n",
              "Appetite                  int64\n",
              "Pedal Edema               int64\n",
              "Anemia                    int64\n",
              "Class                     int64\n",
              "dtype: object"
            ]
          },
          "metadata": {},
          "execution_count": 27
        }
      ]
    },
    {
      "cell_type": "code",
      "metadata": {
        "colab": {
          "base_uri": "https://localhost:8080/"
        },
        "id": "A87fD9g4no-q",
        "outputId": "e16822ee-ab65-4f0c-c110-7c547bd33df6"
      },
      "source": [
        "df['Class'].value_counts()"
      ],
      "execution_count": null,
      "outputs": [
        {
          "output_type": "execute_result",
          "data": {
            "text/plain": [
              "1    78\n",
              "0    29\n",
              "Name: Class, dtype: int64"
            ]
          },
          "metadata": {},
          "execution_count": 28
        }
      ]
    },
    {
      "cell_type": "code",
      "source": [
        "df.shape"
      ],
      "metadata": {
        "colab": {
          "base_uri": "https://localhost:8080/"
        },
        "id": "T8ZXOUktxI03",
        "outputId": "6fb7b74a-c1b7-4c11-c8df-7f6c48f9a000"
      },
      "execution_count": null,
      "outputs": [
        {
          "output_type": "execute_result",
          "data": {
            "text/plain": [
              "(107, 25)"
            ]
          },
          "metadata": {},
          "execution_count": 29
        }
      ]
    },
    {
      "cell_type": "markdown",
      "metadata": {
        "id": "LmwPsy8Ae998"
      },
      "source": [
        "##Class Weight"
      ]
    },
    {
      "cell_type": "code",
      "source": [
        "y1 = df['Class'].values\n",
        "y1.shape"
      ],
      "metadata": {
        "colab": {
          "base_uri": "https://localhost:8080/"
        },
        "id": "P6bfz5qNhqmI",
        "outputId": "650483ab-07c5-48a9-cbc5-81412c20a3ab"
      },
      "execution_count": null,
      "outputs": [
        {
          "output_type": "execute_result",
          "data": {
            "text/plain": [
              "(107,)"
            ]
          },
          "metadata": {},
          "execution_count": 30
        }
      ]
    },
    {
      "cell_type": "code",
      "execution_count": null,
      "metadata": {
        "colab": {
          "base_uri": "https://localhost:8080/"
        },
        "id": "tgkTXRk-19WS",
        "outputId": "d3e0637d-ffda-4e1e-968f-196e12b0ebb4"
      },
      "outputs": [
        {
          "output_type": "execute_result",
          "data": {
            "text/plain": [
              "array([1.84482759, 0.68589744])"
            ]
          },
          "metadata": {},
          "execution_count": 243
        }
      ],
      "source": [
        "class_weights = class_weight.compute_class_weight(\n",
        "    class_weight='balanced', classes=np.unique(y1), y=y1)\n",
        "class_weights"
      ]
    },
    {
      "cell_type": "code",
      "execution_count": null,
      "metadata": {
        "id": "PS6jb7Mc3p82"
      },
      "outputs": [],
      "source": [
        "class_weights = {0:1.84482759, 1:0.68589744}"
      ]
    },
    {
      "cell_type": "markdown",
      "source": [
        "#SMOTE"
      ],
      "metadata": {
        "id": "SnZIJmLexa5X"
      }
    },
    {
      "cell_type": "code",
      "metadata": {
        "colab": {
          "base_uri": "https://localhost:8080/",
          "height": 478
        },
        "id": "MHEiKgk6q3sC",
        "outputId": "eeb5cb97-3a82-4758-9983-a041c54f2b5c"
      },
      "source": [
        "df"
      ],
      "execution_count": null,
      "outputs": [
        {
          "output_type": "execute_result",
          "data": {
            "text/plain": [
              "      Age  BloodPressure  SpecificGravity  Albumin  Sugar  RBC  Pus Cell  \\\n",
              "0    62.0           70.0            1.025      3.0    0.0    1         0   \n",
              "3    43.0           60.0            1.025      0.0    0.0    1         1   \n",
              "6    29.0           80.0            1.020      0.0    0.0    1         1   \n",
              "10   56.0           60.0            1.025      0.0    0.0    1         1   \n",
              "12   42.0           80.0            1.020      0.0    0.0    1         1   \n",
              "..    ...            ...              ...      ...    ...  ...       ...   \n",
              "272  58.0           80.0            1.025      0.0    0.0    1         1   \n",
              "273  61.0           80.0            1.015      2.0    0.0    0         0   \n",
              "275  46.0           60.0            1.010      1.0    0.0    1         1   \n",
              "277  23.0           80.0            1.025      0.0    0.0    1         1   \n",
              "278  38.0           80.0            1.020      0.0    0.0    1         1   \n",
              "\n",
              "     Pus Cell Clump  Bacteria  Blood Glucose Random  ...  Packed Cell Volume  \\\n",
              "0                 0         0                 122.0  ...                39.0   \n",
              "3                 0         0                 108.0  ...                43.0   \n",
              "6                 0         0                  83.0  ...                40.0   \n",
              "10                0         0                 132.0  ...                45.0   \n",
              "12                0         0                  98.0  ...                44.0   \n",
              "..              ...       ...                   ...  ...                 ...   \n",
              "272               0         0                 131.0  ...                53.0   \n",
              "273               0         0                 173.0  ...                24.0   \n",
              "275               0         0                 163.0  ...                28.0   \n",
              "277               0         0                 111.0  ...                41.0   \n",
              "278               0         0                  99.0  ...                44.0   \n",
              "\n",
              "     WBC Count  RBC Count  HyperTension  Diabetes Mellitus  Cor Art Dis  \\\n",
              "0         7900        3.9             1                  1            0   \n",
              "3         7200        5.5             0                  0            0   \n",
              "6         9900        4.7             0                  0            0   \n",
              "10        7500        5.6             0                  0            0   \n",
              "12        8400        5.5             0                  0            0   \n",
              "..         ...        ...           ...                ...          ...   \n",
              "272       6800        6.1             0                  0            0   \n",
              "273       9200        3.2             1                  1            1   \n",
              "275      14600        3.2             1                  1            0   \n",
              "277       7200        5.0             0                  0            0   \n",
              "278       7300        6.4             0                  0            0   \n",
              "\n",
              "     Appetite  Pedal Edema  Anemia  Class  \n",
              "0           0            0       0      0  \n",
              "3           0            0       0      1  \n",
              "6           0            0       0      1  \n",
              "10          0            0       0      1  \n",
              "12          0            0       0      1  \n",
              "..        ...          ...     ...    ...  \n",
              "272         0            0       0      1  \n",
              "273         1            1       1      0  \n",
              "275         0            0       0      0  \n",
              "277         0            0       0      1  \n",
              "278         0            0       0      1  \n",
              "\n",
              "[107 rows x 25 columns]"
            ],
            "text/html": [
              "\n",
              "  <div id=\"df-d510acb4-230c-4d18-8b7a-2b683cf8c124\" class=\"colab-df-container\">\n",
              "    <div>\n",
              "<style scoped>\n",
              "    .dataframe tbody tr th:only-of-type {\n",
              "        vertical-align: middle;\n",
              "    }\n",
              "\n",
              "    .dataframe tbody tr th {\n",
              "        vertical-align: top;\n",
              "    }\n",
              "\n",
              "    .dataframe thead th {\n",
              "        text-align: right;\n",
              "    }\n",
              "</style>\n",
              "<table border=\"1\" class=\"dataframe\">\n",
              "  <thead>\n",
              "    <tr style=\"text-align: right;\">\n",
              "      <th></th>\n",
              "      <th>Age</th>\n",
              "      <th>BloodPressure</th>\n",
              "      <th>SpecificGravity</th>\n",
              "      <th>Albumin</th>\n",
              "      <th>Sugar</th>\n",
              "      <th>RBC</th>\n",
              "      <th>Pus Cell</th>\n",
              "      <th>Pus Cell Clump</th>\n",
              "      <th>Bacteria</th>\n",
              "      <th>Blood Glucose Random</th>\n",
              "      <th>...</th>\n",
              "      <th>Packed Cell Volume</th>\n",
              "      <th>WBC Count</th>\n",
              "      <th>RBC Count</th>\n",
              "      <th>HyperTension</th>\n",
              "      <th>Diabetes Mellitus</th>\n",
              "      <th>Cor Art Dis</th>\n",
              "      <th>Appetite</th>\n",
              "      <th>Pedal Edema</th>\n",
              "      <th>Anemia</th>\n",
              "      <th>Class</th>\n",
              "    </tr>\n",
              "  </thead>\n",
              "  <tbody>\n",
              "    <tr>\n",
              "      <th>0</th>\n",
              "      <td>62.0</td>\n",
              "      <td>70.0</td>\n",
              "      <td>1.025</td>\n",
              "      <td>3.0</td>\n",
              "      <td>0.0</td>\n",
              "      <td>1</td>\n",
              "      <td>0</td>\n",
              "      <td>0</td>\n",
              "      <td>0</td>\n",
              "      <td>122.0</td>\n",
              "      <td>...</td>\n",
              "      <td>39.0</td>\n",
              "      <td>7900</td>\n",
              "      <td>3.9</td>\n",
              "      <td>1</td>\n",
              "      <td>1</td>\n",
              "      <td>0</td>\n",
              "      <td>0</td>\n",
              "      <td>0</td>\n",
              "      <td>0</td>\n",
              "      <td>0</td>\n",
              "    </tr>\n",
              "    <tr>\n",
              "      <th>3</th>\n",
              "      <td>43.0</td>\n",
              "      <td>60.0</td>\n",
              "      <td>1.025</td>\n",
              "      <td>0.0</td>\n",
              "      <td>0.0</td>\n",
              "      <td>1</td>\n",
              "      <td>1</td>\n",
              "      <td>0</td>\n",
              "      <td>0</td>\n",
              "      <td>108.0</td>\n",
              "      <td>...</td>\n",
              "      <td>43.0</td>\n",
              "      <td>7200</td>\n",
              "      <td>5.5</td>\n",
              "      <td>0</td>\n",
              "      <td>0</td>\n",
              "      <td>0</td>\n",
              "      <td>0</td>\n",
              "      <td>0</td>\n",
              "      <td>0</td>\n",
              "      <td>1</td>\n",
              "    </tr>\n",
              "    <tr>\n",
              "      <th>6</th>\n",
              "      <td>29.0</td>\n",
              "      <td>80.0</td>\n",
              "      <td>1.020</td>\n",
              "      <td>0.0</td>\n",
              "      <td>0.0</td>\n",
              "      <td>1</td>\n",
              "      <td>1</td>\n",
              "      <td>0</td>\n",
              "      <td>0</td>\n",
              "      <td>83.0</td>\n",
              "      <td>...</td>\n",
              "      <td>40.0</td>\n",
              "      <td>9900</td>\n",
              "      <td>4.7</td>\n",
              "      <td>0</td>\n",
              "      <td>0</td>\n",
              "      <td>0</td>\n",
              "      <td>0</td>\n",
              "      <td>0</td>\n",
              "      <td>0</td>\n",
              "      <td>1</td>\n",
              "    </tr>\n",
              "    <tr>\n",
              "      <th>10</th>\n",
              "      <td>56.0</td>\n",
              "      <td>60.0</td>\n",
              "      <td>1.025</td>\n",
              "      <td>0.0</td>\n",
              "      <td>0.0</td>\n",
              "      <td>1</td>\n",
              "      <td>1</td>\n",
              "      <td>0</td>\n",
              "      <td>0</td>\n",
              "      <td>132.0</td>\n",
              "      <td>...</td>\n",
              "      <td>45.0</td>\n",
              "      <td>7500</td>\n",
              "      <td>5.6</td>\n",
              "      <td>0</td>\n",
              "      <td>0</td>\n",
              "      <td>0</td>\n",
              "      <td>0</td>\n",
              "      <td>0</td>\n",
              "      <td>0</td>\n",
              "      <td>1</td>\n",
              "    </tr>\n",
              "    <tr>\n",
              "      <th>12</th>\n",
              "      <td>42.0</td>\n",
              "      <td>80.0</td>\n",
              "      <td>1.020</td>\n",
              "      <td>0.0</td>\n",
              "      <td>0.0</td>\n",
              "      <td>1</td>\n",
              "      <td>1</td>\n",
              "      <td>0</td>\n",
              "      <td>0</td>\n",
              "      <td>98.0</td>\n",
              "      <td>...</td>\n",
              "      <td>44.0</td>\n",
              "      <td>8400</td>\n",
              "      <td>5.5</td>\n",
              "      <td>0</td>\n",
              "      <td>0</td>\n",
              "      <td>0</td>\n",
              "      <td>0</td>\n",
              "      <td>0</td>\n",
              "      <td>0</td>\n",
              "      <td>1</td>\n",
              "    </tr>\n",
              "    <tr>\n",
              "      <th>...</th>\n",
              "      <td>...</td>\n",
              "      <td>...</td>\n",
              "      <td>...</td>\n",
              "      <td>...</td>\n",
              "      <td>...</td>\n",
              "      <td>...</td>\n",
              "      <td>...</td>\n",
              "      <td>...</td>\n",
              "      <td>...</td>\n",
              "      <td>...</td>\n",
              "      <td>...</td>\n",
              "      <td>...</td>\n",
              "      <td>...</td>\n",
              "      <td>...</td>\n",
              "      <td>...</td>\n",
              "      <td>...</td>\n",
              "      <td>...</td>\n",
              "      <td>...</td>\n",
              "      <td>...</td>\n",
              "      <td>...</td>\n",
              "      <td>...</td>\n",
              "    </tr>\n",
              "    <tr>\n",
              "      <th>272</th>\n",
              "      <td>58.0</td>\n",
              "      <td>80.0</td>\n",
              "      <td>1.025</td>\n",
              "      <td>0.0</td>\n",
              "      <td>0.0</td>\n",
              "      <td>1</td>\n",
              "      <td>1</td>\n",
              "      <td>0</td>\n",
              "      <td>0</td>\n",
              "      <td>131.0</td>\n",
              "      <td>...</td>\n",
              "      <td>53.0</td>\n",
              "      <td>6800</td>\n",
              "      <td>6.1</td>\n",
              "      <td>0</td>\n",
              "      <td>0</td>\n",
              "      <td>0</td>\n",
              "      <td>0</td>\n",
              "      <td>0</td>\n",
              "      <td>0</td>\n",
              "      <td>1</td>\n",
              "    </tr>\n",
              "    <tr>\n",
              "      <th>273</th>\n",
              "      <td>61.0</td>\n",
              "      <td>80.0</td>\n",
              "      <td>1.015</td>\n",
              "      <td>2.0</td>\n",
              "      <td>0.0</td>\n",
              "      <td>0</td>\n",
              "      <td>0</td>\n",
              "      <td>0</td>\n",
              "      <td>0</td>\n",
              "      <td>173.0</td>\n",
              "      <td>...</td>\n",
              "      <td>24.0</td>\n",
              "      <td>9200</td>\n",
              "      <td>3.2</td>\n",
              "      <td>1</td>\n",
              "      <td>1</td>\n",
              "      <td>1</td>\n",
              "      <td>1</td>\n",
              "      <td>1</td>\n",
              "      <td>1</td>\n",
              "      <td>0</td>\n",
              "    </tr>\n",
              "    <tr>\n",
              "      <th>275</th>\n",
              "      <td>46.0</td>\n",
              "      <td>60.0</td>\n",
              "      <td>1.010</td>\n",
              "      <td>1.0</td>\n",
              "      <td>0.0</td>\n",
              "      <td>1</td>\n",
              "      <td>1</td>\n",
              "      <td>0</td>\n",
              "      <td>0</td>\n",
              "      <td>163.0</td>\n",
              "      <td>...</td>\n",
              "      <td>28.0</td>\n",
              "      <td>14600</td>\n",
              "      <td>3.2</td>\n",
              "      <td>1</td>\n",
              "      <td>1</td>\n",
              "      <td>0</td>\n",
              "      <td>0</td>\n",
              "      <td>0</td>\n",
              "      <td>0</td>\n",
              "      <td>0</td>\n",
              "    </tr>\n",
              "    <tr>\n",
              "      <th>277</th>\n",
              "      <td>23.0</td>\n",
              "      <td>80.0</td>\n",
              "      <td>1.025</td>\n",
              "      <td>0.0</td>\n",
              "      <td>0.0</td>\n",
              "      <td>1</td>\n",
              "      <td>1</td>\n",
              "      <td>0</td>\n",
              "      <td>0</td>\n",
              "      <td>111.0</td>\n",
              "      <td>...</td>\n",
              "      <td>41.0</td>\n",
              "      <td>7200</td>\n",
              "      <td>5.0</td>\n",
              "      <td>0</td>\n",
              "      <td>0</td>\n",
              "      <td>0</td>\n",
              "      <td>0</td>\n",
              "      <td>0</td>\n",
              "      <td>0</td>\n",
              "      <td>1</td>\n",
              "    </tr>\n",
              "    <tr>\n",
              "      <th>278</th>\n",
              "      <td>38.0</td>\n",
              "      <td>80.0</td>\n",
              "      <td>1.020</td>\n",
              "      <td>0.0</td>\n",
              "      <td>0.0</td>\n",
              "      <td>1</td>\n",
              "      <td>1</td>\n",
              "      <td>0</td>\n",
              "      <td>0</td>\n",
              "      <td>99.0</td>\n",
              "      <td>...</td>\n",
              "      <td>44.0</td>\n",
              "      <td>7300</td>\n",
              "      <td>6.4</td>\n",
              "      <td>0</td>\n",
              "      <td>0</td>\n",
              "      <td>0</td>\n",
              "      <td>0</td>\n",
              "      <td>0</td>\n",
              "      <td>0</td>\n",
              "      <td>1</td>\n",
              "    </tr>\n",
              "  </tbody>\n",
              "</table>\n",
              "<p>107 rows × 25 columns</p>\n",
              "</div>\n",
              "    <div class=\"colab-df-buttons\">\n",
              "\n",
              "  <div class=\"colab-df-container\">\n",
              "    <button class=\"colab-df-convert\" onclick=\"convertToInteractive('df-d510acb4-230c-4d18-8b7a-2b683cf8c124')\"\n",
              "            title=\"Convert this dataframe to an interactive table.\"\n",
              "            style=\"display:none;\">\n",
              "\n",
              "  <svg xmlns=\"http://www.w3.org/2000/svg\" height=\"24px\" viewBox=\"0 -960 960 960\">\n",
              "    <path d=\"M120-120v-720h720v720H120Zm60-500h600v-160H180v160Zm220 220h160v-160H400v160Zm0 220h160v-160H400v160ZM180-400h160v-160H180v160Zm440 0h160v-160H620v160ZM180-180h160v-160H180v160Zm440 0h160v-160H620v160Z\"/>\n",
              "  </svg>\n",
              "    </button>\n",
              "\n",
              "  <style>\n",
              "    .colab-df-container {\n",
              "      display:flex;\n",
              "      gap: 12px;\n",
              "    }\n",
              "\n",
              "    .colab-df-convert {\n",
              "      background-color: #E8F0FE;\n",
              "      border: none;\n",
              "      border-radius: 50%;\n",
              "      cursor: pointer;\n",
              "      display: none;\n",
              "      fill: #1967D2;\n",
              "      height: 32px;\n",
              "      padding: 0 0 0 0;\n",
              "      width: 32px;\n",
              "    }\n",
              "\n",
              "    .colab-df-convert:hover {\n",
              "      background-color: #E2EBFA;\n",
              "      box-shadow: 0px 1px 2px rgba(60, 64, 67, 0.3), 0px 1px 3px 1px rgba(60, 64, 67, 0.15);\n",
              "      fill: #174EA6;\n",
              "    }\n",
              "\n",
              "    .colab-df-buttons div {\n",
              "      margin-bottom: 4px;\n",
              "    }\n",
              "\n",
              "    [theme=dark] .colab-df-convert {\n",
              "      background-color: #3B4455;\n",
              "      fill: #D2E3FC;\n",
              "    }\n",
              "\n",
              "    [theme=dark] .colab-df-convert:hover {\n",
              "      background-color: #434B5C;\n",
              "      box-shadow: 0px 1px 3px 1px rgba(0, 0, 0, 0.15);\n",
              "      filter: drop-shadow(0px 1px 2px rgba(0, 0, 0, 0.3));\n",
              "      fill: #FFFFFF;\n",
              "    }\n",
              "  </style>\n",
              "\n",
              "    <script>\n",
              "      const buttonEl =\n",
              "        document.querySelector('#df-d510acb4-230c-4d18-8b7a-2b683cf8c124 button.colab-df-convert');\n",
              "      buttonEl.style.display =\n",
              "        google.colab.kernel.accessAllowed ? 'block' : 'none';\n",
              "\n",
              "      async function convertToInteractive(key) {\n",
              "        const element = document.querySelector('#df-d510acb4-230c-4d18-8b7a-2b683cf8c124');\n",
              "        const dataTable =\n",
              "          await google.colab.kernel.invokeFunction('convertToInteractive',\n",
              "                                                    [key], {});\n",
              "        if (!dataTable) return;\n",
              "\n",
              "        const docLinkHtml = 'Like what you see? Visit the ' +\n",
              "          '<a target=\"_blank\" href=https://colab.research.google.com/notebooks/data_table.ipynb>data table notebook</a>'\n",
              "          + ' to learn more about interactive tables.';\n",
              "        element.innerHTML = '';\n",
              "        dataTable['output_type'] = 'display_data';\n",
              "        await google.colab.output.renderOutput(dataTable, element);\n",
              "        const docLink = document.createElement('div');\n",
              "        docLink.innerHTML = docLinkHtml;\n",
              "        element.appendChild(docLink);\n",
              "      }\n",
              "    </script>\n",
              "  </div>\n",
              "\n",
              "\n",
              "<div id=\"df-db030444-aae7-434c-91a4-9cc28ce01c33\">\n",
              "  <button class=\"colab-df-quickchart\" onclick=\"quickchart('df-db030444-aae7-434c-91a4-9cc28ce01c33')\"\n",
              "            title=\"Suggest charts\"\n",
              "            style=\"display:none;\">\n",
              "\n",
              "<svg xmlns=\"http://www.w3.org/2000/svg\" height=\"24px\"viewBox=\"0 0 24 24\"\n",
              "     width=\"24px\">\n",
              "    <g>\n",
              "        <path d=\"M19 3H5c-1.1 0-2 .9-2 2v14c0 1.1.9 2 2 2h14c1.1 0 2-.9 2-2V5c0-1.1-.9-2-2-2zM9 17H7v-7h2v7zm4 0h-2V7h2v10zm4 0h-2v-4h2v4z\"/>\n",
              "    </g>\n",
              "</svg>\n",
              "  </button>\n",
              "\n",
              "<style>\n",
              "  .colab-df-quickchart {\n",
              "      --bg-color: #E8F0FE;\n",
              "      --fill-color: #1967D2;\n",
              "      --hover-bg-color: #E2EBFA;\n",
              "      --hover-fill-color: #174EA6;\n",
              "      --disabled-fill-color: #AAA;\n",
              "      --disabled-bg-color: #DDD;\n",
              "  }\n",
              "\n",
              "  [theme=dark] .colab-df-quickchart {\n",
              "      --bg-color: #3B4455;\n",
              "      --fill-color: #D2E3FC;\n",
              "      --hover-bg-color: #434B5C;\n",
              "      --hover-fill-color: #FFFFFF;\n",
              "      --disabled-bg-color: #3B4455;\n",
              "      --disabled-fill-color: #666;\n",
              "  }\n",
              "\n",
              "  .colab-df-quickchart {\n",
              "    background-color: var(--bg-color);\n",
              "    border: none;\n",
              "    border-radius: 50%;\n",
              "    cursor: pointer;\n",
              "    display: none;\n",
              "    fill: var(--fill-color);\n",
              "    height: 32px;\n",
              "    padding: 0;\n",
              "    width: 32px;\n",
              "  }\n",
              "\n",
              "  .colab-df-quickchart:hover {\n",
              "    background-color: var(--hover-bg-color);\n",
              "    box-shadow: 0 1px 2px rgba(60, 64, 67, 0.3), 0 1px 3px 1px rgba(60, 64, 67, 0.15);\n",
              "    fill: var(--button-hover-fill-color);\n",
              "  }\n",
              "\n",
              "  .colab-df-quickchart-complete:disabled,\n",
              "  .colab-df-quickchart-complete:disabled:hover {\n",
              "    background-color: var(--disabled-bg-color);\n",
              "    fill: var(--disabled-fill-color);\n",
              "    box-shadow: none;\n",
              "  }\n",
              "\n",
              "  .colab-df-spinner {\n",
              "    border: 2px solid var(--fill-color);\n",
              "    border-color: transparent;\n",
              "    border-bottom-color: var(--fill-color);\n",
              "    animation:\n",
              "      spin 1s steps(1) infinite;\n",
              "  }\n",
              "\n",
              "  @keyframes spin {\n",
              "    0% {\n",
              "      border-color: transparent;\n",
              "      border-bottom-color: var(--fill-color);\n",
              "      border-left-color: var(--fill-color);\n",
              "    }\n",
              "    20% {\n",
              "      border-color: transparent;\n",
              "      border-left-color: var(--fill-color);\n",
              "      border-top-color: var(--fill-color);\n",
              "    }\n",
              "    30% {\n",
              "      border-color: transparent;\n",
              "      border-left-color: var(--fill-color);\n",
              "      border-top-color: var(--fill-color);\n",
              "      border-right-color: var(--fill-color);\n",
              "    }\n",
              "    40% {\n",
              "      border-color: transparent;\n",
              "      border-right-color: var(--fill-color);\n",
              "      border-top-color: var(--fill-color);\n",
              "    }\n",
              "    60% {\n",
              "      border-color: transparent;\n",
              "      border-right-color: var(--fill-color);\n",
              "    }\n",
              "    80% {\n",
              "      border-color: transparent;\n",
              "      border-right-color: var(--fill-color);\n",
              "      border-bottom-color: var(--fill-color);\n",
              "    }\n",
              "    90% {\n",
              "      border-color: transparent;\n",
              "      border-bottom-color: var(--fill-color);\n",
              "    }\n",
              "  }\n",
              "</style>\n",
              "\n",
              "  <script>\n",
              "    async function quickchart(key) {\n",
              "      const quickchartButtonEl =\n",
              "        document.querySelector('#' + key + ' button');\n",
              "      quickchartButtonEl.disabled = true;  // To prevent multiple clicks.\n",
              "      quickchartButtonEl.classList.add('colab-df-spinner');\n",
              "      try {\n",
              "        const charts = await google.colab.kernel.invokeFunction(\n",
              "            'suggestCharts', [key], {});\n",
              "      } catch (error) {\n",
              "        console.error('Error during call to suggestCharts:', error);\n",
              "      }\n",
              "      quickchartButtonEl.classList.remove('colab-df-spinner');\n",
              "      quickchartButtonEl.classList.add('colab-df-quickchart-complete');\n",
              "    }\n",
              "    (() => {\n",
              "      let quickchartButtonEl =\n",
              "        document.querySelector('#df-db030444-aae7-434c-91a4-9cc28ce01c33 button');\n",
              "      quickchartButtonEl.style.display =\n",
              "        google.colab.kernel.accessAllowed ? 'block' : 'none';\n",
              "    })();\n",
              "  </script>\n",
              "</div>\n",
              "    </div>\n",
              "  </div>\n"
            ]
          },
          "metadata": {},
          "execution_count": 31
        }
      ]
    },
    {
      "cell_type": "code",
      "metadata": {
        "colab": {
          "base_uri": "https://localhost:8080/",
          "height": 478
        },
        "id": "AFTdqaO74d2x",
        "outputId": "078bc271-7b48-4ab0-ad91-2903198b1fd7"
      },
      "source": [
        "X = df.iloc[:,:-1]\n",
        "Y = df.iloc[:,-1]\n",
        "X"
      ],
      "execution_count": null,
      "outputs": [
        {
          "output_type": "execute_result",
          "data": {
            "text/plain": [
              "      Age  BloodPressure  SpecificGravity  Albumin  Sugar  RBC  Pus Cell  \\\n",
              "0    62.0           70.0            1.025      3.0    0.0    1         0   \n",
              "3    43.0           60.0            1.025      0.0    0.0    1         1   \n",
              "6    29.0           80.0            1.020      0.0    0.0    1         1   \n",
              "10   56.0           60.0            1.025      0.0    0.0    1         1   \n",
              "12   42.0           80.0            1.020      0.0    0.0    1         1   \n",
              "..    ...            ...              ...      ...    ...  ...       ...   \n",
              "272  58.0           80.0            1.025      0.0    0.0    1         1   \n",
              "273  61.0           80.0            1.015      2.0    0.0    0         0   \n",
              "275  46.0           60.0            1.010      1.0    0.0    1         1   \n",
              "277  23.0           80.0            1.025      0.0    0.0    1         1   \n",
              "278  38.0           80.0            1.020      0.0    0.0    1         1   \n",
              "\n",
              "     Pus Cell Clump  Bacteria  Blood Glucose Random  ...  Hemoglobin  \\\n",
              "0                 0         0                 122.0  ...        12.6   \n",
              "3                 0         0                 108.0  ...        17.8   \n",
              "6                 0         0                  83.0  ...        17.5   \n",
              "10                0         0                 132.0  ...        13.7   \n",
              "12                0         0                  98.0  ...        13.9   \n",
              "..              ...       ...                   ...  ...         ...   \n",
              "272               0         0                 131.0  ...        15.8   \n",
              "273               0         0                 173.0  ...         7.7   \n",
              "275               0         0                 163.0  ...         9.8   \n",
              "277               0         0                 111.0  ...        14.3   \n",
              "278               0         0                  99.0  ...        13.6   \n",
              "\n",
              "     Packed Cell Volume  WBC Count  RBC Count  HyperTension  \\\n",
              "0                  39.0       7900        3.9             1   \n",
              "3                  43.0       7200        5.5             0   \n",
              "6                  40.0       9900        4.7             0   \n",
              "10                 45.0       7500        5.6             0   \n",
              "12                 44.0       8400        5.5             0   \n",
              "..                  ...        ...        ...           ...   \n",
              "272                53.0       6800        6.1             0   \n",
              "273                24.0       9200        3.2             1   \n",
              "275                28.0      14600        3.2             1   \n",
              "277                41.0       7200        5.0             0   \n",
              "278                44.0       7300        6.4             0   \n",
              "\n",
              "     Diabetes Mellitus  Cor Art Dis  Appetite  Pedal Edema  Anemia  \n",
              "0                    1            0         0            0       0  \n",
              "3                    0            0         0            0       0  \n",
              "6                    0            0         0            0       0  \n",
              "10                   0            0         0            0       0  \n",
              "12                   0            0         0            0       0  \n",
              "..                 ...          ...       ...          ...     ...  \n",
              "272                  0            0         0            0       0  \n",
              "273                  1            1         1            1       1  \n",
              "275                  1            0         0            0       0  \n",
              "277                  0            0         0            0       0  \n",
              "278                  0            0         0            0       0  \n",
              "\n",
              "[107 rows x 24 columns]"
            ],
            "text/html": [
              "\n",
              "  <div id=\"df-b7949550-110a-42d4-afe1-68b10c9d2879\" class=\"colab-df-container\">\n",
              "    <div>\n",
              "<style scoped>\n",
              "    .dataframe tbody tr th:only-of-type {\n",
              "        vertical-align: middle;\n",
              "    }\n",
              "\n",
              "    .dataframe tbody tr th {\n",
              "        vertical-align: top;\n",
              "    }\n",
              "\n",
              "    .dataframe thead th {\n",
              "        text-align: right;\n",
              "    }\n",
              "</style>\n",
              "<table border=\"1\" class=\"dataframe\">\n",
              "  <thead>\n",
              "    <tr style=\"text-align: right;\">\n",
              "      <th></th>\n",
              "      <th>Age</th>\n",
              "      <th>BloodPressure</th>\n",
              "      <th>SpecificGravity</th>\n",
              "      <th>Albumin</th>\n",
              "      <th>Sugar</th>\n",
              "      <th>RBC</th>\n",
              "      <th>Pus Cell</th>\n",
              "      <th>Pus Cell Clump</th>\n",
              "      <th>Bacteria</th>\n",
              "      <th>Blood Glucose Random</th>\n",
              "      <th>...</th>\n",
              "      <th>Hemoglobin</th>\n",
              "      <th>Packed Cell Volume</th>\n",
              "      <th>WBC Count</th>\n",
              "      <th>RBC Count</th>\n",
              "      <th>HyperTension</th>\n",
              "      <th>Diabetes Mellitus</th>\n",
              "      <th>Cor Art Dis</th>\n",
              "      <th>Appetite</th>\n",
              "      <th>Pedal Edema</th>\n",
              "      <th>Anemia</th>\n",
              "    </tr>\n",
              "  </thead>\n",
              "  <tbody>\n",
              "    <tr>\n",
              "      <th>0</th>\n",
              "      <td>62.0</td>\n",
              "      <td>70.0</td>\n",
              "      <td>1.025</td>\n",
              "      <td>3.0</td>\n",
              "      <td>0.0</td>\n",
              "      <td>1</td>\n",
              "      <td>0</td>\n",
              "      <td>0</td>\n",
              "      <td>0</td>\n",
              "      <td>122.0</td>\n",
              "      <td>...</td>\n",
              "      <td>12.6</td>\n",
              "      <td>39.0</td>\n",
              "      <td>7900</td>\n",
              "      <td>3.9</td>\n",
              "      <td>1</td>\n",
              "      <td>1</td>\n",
              "      <td>0</td>\n",
              "      <td>0</td>\n",
              "      <td>0</td>\n",
              "      <td>0</td>\n",
              "    </tr>\n",
              "    <tr>\n",
              "      <th>3</th>\n",
              "      <td>43.0</td>\n",
              "      <td>60.0</td>\n",
              "      <td>1.025</td>\n",
              "      <td>0.0</td>\n",
              "      <td>0.0</td>\n",
              "      <td>1</td>\n",
              "      <td>1</td>\n",
              "      <td>0</td>\n",
              "      <td>0</td>\n",
              "      <td>108.0</td>\n",
              "      <td>...</td>\n",
              "      <td>17.8</td>\n",
              "      <td>43.0</td>\n",
              "      <td>7200</td>\n",
              "      <td>5.5</td>\n",
              "      <td>0</td>\n",
              "      <td>0</td>\n",
              "      <td>0</td>\n",
              "      <td>0</td>\n",
              "      <td>0</td>\n",
              "      <td>0</td>\n",
              "    </tr>\n",
              "    <tr>\n",
              "      <th>6</th>\n",
              "      <td>29.0</td>\n",
              "      <td>80.0</td>\n",
              "      <td>1.020</td>\n",
              "      <td>0.0</td>\n",
              "      <td>0.0</td>\n",
              "      <td>1</td>\n",
              "      <td>1</td>\n",
              "      <td>0</td>\n",
              "      <td>0</td>\n",
              "      <td>83.0</td>\n",
              "      <td>...</td>\n",
              "      <td>17.5</td>\n",
              "      <td>40.0</td>\n",
              "      <td>9900</td>\n",
              "      <td>4.7</td>\n",
              "      <td>0</td>\n",
              "      <td>0</td>\n",
              "      <td>0</td>\n",
              "      <td>0</td>\n",
              "      <td>0</td>\n",
              "      <td>0</td>\n",
              "    </tr>\n",
              "    <tr>\n",
              "      <th>10</th>\n",
              "      <td>56.0</td>\n",
              "      <td>60.0</td>\n",
              "      <td>1.025</td>\n",
              "      <td>0.0</td>\n",
              "      <td>0.0</td>\n",
              "      <td>1</td>\n",
              "      <td>1</td>\n",
              "      <td>0</td>\n",
              "      <td>0</td>\n",
              "      <td>132.0</td>\n",
              "      <td>...</td>\n",
              "      <td>13.7</td>\n",
              "      <td>45.0</td>\n",
              "      <td>7500</td>\n",
              "      <td>5.6</td>\n",
              "      <td>0</td>\n",
              "      <td>0</td>\n",
              "      <td>0</td>\n",
              "      <td>0</td>\n",
              "      <td>0</td>\n",
              "      <td>0</td>\n",
              "    </tr>\n",
              "    <tr>\n",
              "      <th>12</th>\n",
              "      <td>42.0</td>\n",
              "      <td>80.0</td>\n",
              "      <td>1.020</td>\n",
              "      <td>0.0</td>\n",
              "      <td>0.0</td>\n",
              "      <td>1</td>\n",
              "      <td>1</td>\n",
              "      <td>0</td>\n",
              "      <td>0</td>\n",
              "      <td>98.0</td>\n",
              "      <td>...</td>\n",
              "      <td>13.9</td>\n",
              "      <td>44.0</td>\n",
              "      <td>8400</td>\n",
              "      <td>5.5</td>\n",
              "      <td>0</td>\n",
              "      <td>0</td>\n",
              "      <td>0</td>\n",
              "      <td>0</td>\n",
              "      <td>0</td>\n",
              "      <td>0</td>\n",
              "    </tr>\n",
              "    <tr>\n",
              "      <th>...</th>\n",
              "      <td>...</td>\n",
              "      <td>...</td>\n",
              "      <td>...</td>\n",
              "      <td>...</td>\n",
              "      <td>...</td>\n",
              "      <td>...</td>\n",
              "      <td>...</td>\n",
              "      <td>...</td>\n",
              "      <td>...</td>\n",
              "      <td>...</td>\n",
              "      <td>...</td>\n",
              "      <td>...</td>\n",
              "      <td>...</td>\n",
              "      <td>...</td>\n",
              "      <td>...</td>\n",
              "      <td>...</td>\n",
              "      <td>...</td>\n",
              "      <td>...</td>\n",
              "      <td>...</td>\n",
              "      <td>...</td>\n",
              "      <td>...</td>\n",
              "    </tr>\n",
              "    <tr>\n",
              "      <th>272</th>\n",
              "      <td>58.0</td>\n",
              "      <td>80.0</td>\n",
              "      <td>1.025</td>\n",
              "      <td>0.0</td>\n",
              "      <td>0.0</td>\n",
              "      <td>1</td>\n",
              "      <td>1</td>\n",
              "      <td>0</td>\n",
              "      <td>0</td>\n",
              "      <td>131.0</td>\n",
              "      <td>...</td>\n",
              "      <td>15.8</td>\n",
              "      <td>53.0</td>\n",
              "      <td>6800</td>\n",
              "      <td>6.1</td>\n",
              "      <td>0</td>\n",
              "      <td>0</td>\n",
              "      <td>0</td>\n",
              "      <td>0</td>\n",
              "      <td>0</td>\n",
              "      <td>0</td>\n",
              "    </tr>\n",
              "    <tr>\n",
              "      <th>273</th>\n",
              "      <td>61.0</td>\n",
              "      <td>80.0</td>\n",
              "      <td>1.015</td>\n",
              "      <td>2.0</td>\n",
              "      <td>0.0</td>\n",
              "      <td>0</td>\n",
              "      <td>0</td>\n",
              "      <td>0</td>\n",
              "      <td>0</td>\n",
              "      <td>173.0</td>\n",
              "      <td>...</td>\n",
              "      <td>7.7</td>\n",
              "      <td>24.0</td>\n",
              "      <td>9200</td>\n",
              "      <td>3.2</td>\n",
              "      <td>1</td>\n",
              "      <td>1</td>\n",
              "      <td>1</td>\n",
              "      <td>1</td>\n",
              "      <td>1</td>\n",
              "      <td>1</td>\n",
              "    </tr>\n",
              "    <tr>\n",
              "      <th>275</th>\n",
              "      <td>46.0</td>\n",
              "      <td>60.0</td>\n",
              "      <td>1.010</td>\n",
              "      <td>1.0</td>\n",
              "      <td>0.0</td>\n",
              "      <td>1</td>\n",
              "      <td>1</td>\n",
              "      <td>0</td>\n",
              "      <td>0</td>\n",
              "      <td>163.0</td>\n",
              "      <td>...</td>\n",
              "      <td>9.8</td>\n",
              "      <td>28.0</td>\n",
              "      <td>14600</td>\n",
              "      <td>3.2</td>\n",
              "      <td>1</td>\n",
              "      <td>1</td>\n",
              "      <td>0</td>\n",
              "      <td>0</td>\n",
              "      <td>0</td>\n",
              "      <td>0</td>\n",
              "    </tr>\n",
              "    <tr>\n",
              "      <th>277</th>\n",
              "      <td>23.0</td>\n",
              "      <td>80.0</td>\n",
              "      <td>1.025</td>\n",
              "      <td>0.0</td>\n",
              "      <td>0.0</td>\n",
              "      <td>1</td>\n",
              "      <td>1</td>\n",
              "      <td>0</td>\n",
              "      <td>0</td>\n",
              "      <td>111.0</td>\n",
              "      <td>...</td>\n",
              "      <td>14.3</td>\n",
              "      <td>41.0</td>\n",
              "      <td>7200</td>\n",
              "      <td>5.0</td>\n",
              "      <td>0</td>\n",
              "      <td>0</td>\n",
              "      <td>0</td>\n",
              "      <td>0</td>\n",
              "      <td>0</td>\n",
              "      <td>0</td>\n",
              "    </tr>\n",
              "    <tr>\n",
              "      <th>278</th>\n",
              "      <td>38.0</td>\n",
              "      <td>80.0</td>\n",
              "      <td>1.020</td>\n",
              "      <td>0.0</td>\n",
              "      <td>0.0</td>\n",
              "      <td>1</td>\n",
              "      <td>1</td>\n",
              "      <td>0</td>\n",
              "      <td>0</td>\n",
              "      <td>99.0</td>\n",
              "      <td>...</td>\n",
              "      <td>13.6</td>\n",
              "      <td>44.0</td>\n",
              "      <td>7300</td>\n",
              "      <td>6.4</td>\n",
              "      <td>0</td>\n",
              "      <td>0</td>\n",
              "      <td>0</td>\n",
              "      <td>0</td>\n",
              "      <td>0</td>\n",
              "      <td>0</td>\n",
              "    </tr>\n",
              "  </tbody>\n",
              "</table>\n",
              "<p>107 rows × 24 columns</p>\n",
              "</div>\n",
              "    <div class=\"colab-df-buttons\">\n",
              "\n",
              "  <div class=\"colab-df-container\">\n",
              "    <button class=\"colab-df-convert\" onclick=\"convertToInteractive('df-b7949550-110a-42d4-afe1-68b10c9d2879')\"\n",
              "            title=\"Convert this dataframe to an interactive table.\"\n",
              "            style=\"display:none;\">\n",
              "\n",
              "  <svg xmlns=\"http://www.w3.org/2000/svg\" height=\"24px\" viewBox=\"0 -960 960 960\">\n",
              "    <path d=\"M120-120v-720h720v720H120Zm60-500h600v-160H180v160Zm220 220h160v-160H400v160Zm0 220h160v-160H400v160ZM180-400h160v-160H180v160Zm440 0h160v-160H620v160ZM180-180h160v-160H180v160Zm440 0h160v-160H620v160Z\"/>\n",
              "  </svg>\n",
              "    </button>\n",
              "\n",
              "  <style>\n",
              "    .colab-df-container {\n",
              "      display:flex;\n",
              "      gap: 12px;\n",
              "    }\n",
              "\n",
              "    .colab-df-convert {\n",
              "      background-color: #E8F0FE;\n",
              "      border: none;\n",
              "      border-radius: 50%;\n",
              "      cursor: pointer;\n",
              "      display: none;\n",
              "      fill: #1967D2;\n",
              "      height: 32px;\n",
              "      padding: 0 0 0 0;\n",
              "      width: 32px;\n",
              "    }\n",
              "\n",
              "    .colab-df-convert:hover {\n",
              "      background-color: #E2EBFA;\n",
              "      box-shadow: 0px 1px 2px rgba(60, 64, 67, 0.3), 0px 1px 3px 1px rgba(60, 64, 67, 0.15);\n",
              "      fill: #174EA6;\n",
              "    }\n",
              "\n",
              "    .colab-df-buttons div {\n",
              "      margin-bottom: 4px;\n",
              "    }\n",
              "\n",
              "    [theme=dark] .colab-df-convert {\n",
              "      background-color: #3B4455;\n",
              "      fill: #D2E3FC;\n",
              "    }\n",
              "\n",
              "    [theme=dark] .colab-df-convert:hover {\n",
              "      background-color: #434B5C;\n",
              "      box-shadow: 0px 1px 3px 1px rgba(0, 0, 0, 0.15);\n",
              "      filter: drop-shadow(0px 1px 2px rgba(0, 0, 0, 0.3));\n",
              "      fill: #FFFFFF;\n",
              "    }\n",
              "  </style>\n",
              "\n",
              "    <script>\n",
              "      const buttonEl =\n",
              "        document.querySelector('#df-b7949550-110a-42d4-afe1-68b10c9d2879 button.colab-df-convert');\n",
              "      buttonEl.style.display =\n",
              "        google.colab.kernel.accessAllowed ? 'block' : 'none';\n",
              "\n",
              "      async function convertToInteractive(key) {\n",
              "        const element = document.querySelector('#df-b7949550-110a-42d4-afe1-68b10c9d2879');\n",
              "        const dataTable =\n",
              "          await google.colab.kernel.invokeFunction('convertToInteractive',\n",
              "                                                    [key], {});\n",
              "        if (!dataTable) return;\n",
              "\n",
              "        const docLinkHtml = 'Like what you see? Visit the ' +\n",
              "          '<a target=\"_blank\" href=https://colab.research.google.com/notebooks/data_table.ipynb>data table notebook</a>'\n",
              "          + ' to learn more about interactive tables.';\n",
              "        element.innerHTML = '';\n",
              "        dataTable['output_type'] = 'display_data';\n",
              "        await google.colab.output.renderOutput(dataTable, element);\n",
              "        const docLink = document.createElement('div');\n",
              "        docLink.innerHTML = docLinkHtml;\n",
              "        element.appendChild(docLink);\n",
              "      }\n",
              "    </script>\n",
              "  </div>\n",
              "\n",
              "\n",
              "<div id=\"df-dc212110-b514-46e8-8bbd-4fc29e3292a4\">\n",
              "  <button class=\"colab-df-quickchart\" onclick=\"quickchart('df-dc212110-b514-46e8-8bbd-4fc29e3292a4')\"\n",
              "            title=\"Suggest charts\"\n",
              "            style=\"display:none;\">\n",
              "\n",
              "<svg xmlns=\"http://www.w3.org/2000/svg\" height=\"24px\"viewBox=\"0 0 24 24\"\n",
              "     width=\"24px\">\n",
              "    <g>\n",
              "        <path d=\"M19 3H5c-1.1 0-2 .9-2 2v14c0 1.1.9 2 2 2h14c1.1 0 2-.9 2-2V5c0-1.1-.9-2-2-2zM9 17H7v-7h2v7zm4 0h-2V7h2v10zm4 0h-2v-4h2v4z\"/>\n",
              "    </g>\n",
              "</svg>\n",
              "  </button>\n",
              "\n",
              "<style>\n",
              "  .colab-df-quickchart {\n",
              "      --bg-color: #E8F0FE;\n",
              "      --fill-color: #1967D2;\n",
              "      --hover-bg-color: #E2EBFA;\n",
              "      --hover-fill-color: #174EA6;\n",
              "      --disabled-fill-color: #AAA;\n",
              "      --disabled-bg-color: #DDD;\n",
              "  }\n",
              "\n",
              "  [theme=dark] .colab-df-quickchart {\n",
              "      --bg-color: #3B4455;\n",
              "      --fill-color: #D2E3FC;\n",
              "      --hover-bg-color: #434B5C;\n",
              "      --hover-fill-color: #FFFFFF;\n",
              "      --disabled-bg-color: #3B4455;\n",
              "      --disabled-fill-color: #666;\n",
              "  }\n",
              "\n",
              "  .colab-df-quickchart {\n",
              "    background-color: var(--bg-color);\n",
              "    border: none;\n",
              "    border-radius: 50%;\n",
              "    cursor: pointer;\n",
              "    display: none;\n",
              "    fill: var(--fill-color);\n",
              "    height: 32px;\n",
              "    padding: 0;\n",
              "    width: 32px;\n",
              "  }\n",
              "\n",
              "  .colab-df-quickchart:hover {\n",
              "    background-color: var(--hover-bg-color);\n",
              "    box-shadow: 0 1px 2px rgba(60, 64, 67, 0.3), 0 1px 3px 1px rgba(60, 64, 67, 0.15);\n",
              "    fill: var(--button-hover-fill-color);\n",
              "  }\n",
              "\n",
              "  .colab-df-quickchart-complete:disabled,\n",
              "  .colab-df-quickchart-complete:disabled:hover {\n",
              "    background-color: var(--disabled-bg-color);\n",
              "    fill: var(--disabled-fill-color);\n",
              "    box-shadow: none;\n",
              "  }\n",
              "\n",
              "  .colab-df-spinner {\n",
              "    border: 2px solid var(--fill-color);\n",
              "    border-color: transparent;\n",
              "    border-bottom-color: var(--fill-color);\n",
              "    animation:\n",
              "      spin 1s steps(1) infinite;\n",
              "  }\n",
              "\n",
              "  @keyframes spin {\n",
              "    0% {\n",
              "      border-color: transparent;\n",
              "      border-bottom-color: var(--fill-color);\n",
              "      border-left-color: var(--fill-color);\n",
              "    }\n",
              "    20% {\n",
              "      border-color: transparent;\n",
              "      border-left-color: var(--fill-color);\n",
              "      border-top-color: var(--fill-color);\n",
              "    }\n",
              "    30% {\n",
              "      border-color: transparent;\n",
              "      border-left-color: var(--fill-color);\n",
              "      border-top-color: var(--fill-color);\n",
              "      border-right-color: var(--fill-color);\n",
              "    }\n",
              "    40% {\n",
              "      border-color: transparent;\n",
              "      border-right-color: var(--fill-color);\n",
              "      border-top-color: var(--fill-color);\n",
              "    }\n",
              "    60% {\n",
              "      border-color: transparent;\n",
              "      border-right-color: var(--fill-color);\n",
              "    }\n",
              "    80% {\n",
              "      border-color: transparent;\n",
              "      border-right-color: var(--fill-color);\n",
              "      border-bottom-color: var(--fill-color);\n",
              "    }\n",
              "    90% {\n",
              "      border-color: transparent;\n",
              "      border-bottom-color: var(--fill-color);\n",
              "    }\n",
              "  }\n",
              "</style>\n",
              "\n",
              "  <script>\n",
              "    async function quickchart(key) {\n",
              "      const quickchartButtonEl =\n",
              "        document.querySelector('#' + key + ' button');\n",
              "      quickchartButtonEl.disabled = true;  // To prevent multiple clicks.\n",
              "      quickchartButtonEl.classList.add('colab-df-spinner');\n",
              "      try {\n",
              "        const charts = await google.colab.kernel.invokeFunction(\n",
              "            'suggestCharts', [key], {});\n",
              "      } catch (error) {\n",
              "        console.error('Error during call to suggestCharts:', error);\n",
              "      }\n",
              "      quickchartButtonEl.classList.remove('colab-df-spinner');\n",
              "      quickchartButtonEl.classList.add('colab-df-quickchart-complete');\n",
              "    }\n",
              "    (() => {\n",
              "      let quickchartButtonEl =\n",
              "        document.querySelector('#df-dc212110-b514-46e8-8bbd-4fc29e3292a4 button');\n",
              "      quickchartButtonEl.style.display =\n",
              "        google.colab.kernel.accessAllowed ? 'block' : 'none';\n",
              "    })();\n",
              "  </script>\n",
              "</div>\n",
              "    </div>\n",
              "  </div>\n"
            ]
          },
          "metadata": {},
          "execution_count": 32
        }
      ]
    },
    {
      "cell_type": "code",
      "metadata": {
        "colab": {
          "base_uri": "https://localhost:8080/"
        },
        "id": "I9F-Fjyk4ztT",
        "outputId": "46aa0ae6-1749-442e-fe7e-d2b0c1d48cb1"
      },
      "source": [
        "Y"
      ],
      "execution_count": null,
      "outputs": [
        {
          "output_type": "execute_result",
          "data": {
            "text/plain": [
              "0      0\n",
              "3      1\n",
              "6      1\n",
              "10     1\n",
              "12     1\n",
              "      ..\n",
              "272    1\n",
              "273    0\n",
              "275    0\n",
              "277    1\n",
              "278    1\n",
              "Name: Class, Length: 107, dtype: int64"
            ]
          },
          "metadata": {},
          "execution_count": 33
        }
      ]
    },
    {
      "cell_type": "code",
      "source": [
        "from imblearn.over_sampling import SMOTE\n",
        "\n",
        "over_smote = SMOTE(random_state=12, sampling_strategy=1)\n",
        "\n",
        "# Fit the SMOTE object to the training data and oversample the minority class\n",
        "X_smote, y_smote = over_smote.fit_resample(X, Y)\n",
        "X_smote.shape, y_smote.shape"
      ],
      "metadata": {
        "colab": {
          "base_uri": "https://localhost:8080/"
        },
        "id": "29cOJNnfxgTY",
        "outputId": "66ffc848-03a5-4c38-afdd-eefaa760db1c"
      },
      "execution_count": null,
      "outputs": [
        {
          "output_type": "execute_result",
          "data": {
            "text/plain": [
              "((156, 24), (156,))"
            ]
          },
          "metadata": {},
          "execution_count": 35
        }
      ]
    },
    {
      "cell_type": "markdown",
      "source": [
        "#Label Encoder"
      ],
      "metadata": {
        "id": "BhS1-25z8mMT"
      }
    },
    {
      "cell_type": "code",
      "metadata": {
        "id": "MWs5msZH5354"
      },
      "source": [
        "y = to_categorical(Y, num_classes=2)"
      ],
      "execution_count": null,
      "outputs": []
    },
    {
      "cell_type": "code",
      "metadata": {
        "colab": {
          "base_uri": "https://localhost:8080/"
        },
        "id": "xz73nkc68UHT",
        "outputId": "d3f3c61a-681a-488a-9e1d-d31d923d1e66"
      },
      "source": [
        "X.shape, Y.shape"
      ],
      "execution_count": null,
      "outputs": [
        {
          "output_type": "execute_result",
          "data": {
            "text/plain": [
              "((107, 24), (107,))"
            ]
          },
          "metadata": {},
          "execution_count": 249
        }
      ]
    },
    {
      "cell_type": "code",
      "metadata": {
        "colab": {
          "base_uri": "https://localhost:8080/"
        },
        "id": "rcx8CVDGpCur",
        "outputId": "f449b718-25e6-44c5-d658-95a6ad306434"
      },
      "source": [
        "X = X.values\n",
        "Y = Y.values.reshape(107, 1)\n",
        "X.shape, Y.shape"
      ],
      "execution_count": null,
      "outputs": [
        {
          "output_type": "execute_result",
          "data": {
            "text/plain": [
              "((107, 24), (107, 1))"
            ]
          },
          "metadata": {},
          "execution_count": 250
        }
      ]
    },
    {
      "cell_type": "markdown",
      "source": [
        "#Train Test Split"
      ],
      "metadata": {
        "id": "-vfYXbWyj2s5"
      }
    },
    {
      "cell_type": "code",
      "metadata": {
        "id": "W7pNqrSG8pRT",
        "colab": {
          "base_uri": "https://localhost:8080/"
        },
        "outputId": "117e55fa-bc5e-417f-8cb3-469bfc2ba870"
      },
      "source": [
        "from sklearn.model_selection import train_test_split\n",
        "np.random.seed(2)\n",
        "x_train,x_test,y_train,y_test=train_test_split(X,Y,test_size=0.25,stratify=Y)\n",
        "print(x_train.shape)\n",
        "print(x_test.shape)\n",
        "print(y_train.shape)\n",
        "print(y_test.shape)"
      ],
      "execution_count": null,
      "outputs": [
        {
          "output_type": "stream",
          "name": "stdout",
          "text": [
            "(80, 24)\n",
            "(27, 24)\n",
            "(80, 1)\n",
            "(27, 1)\n"
          ]
        }
      ]
    },
    {
      "cell_type": "code",
      "metadata": {
        "id": "rlBwlCQGti5R"
      },
      "source": [
        "from sklearn.preprocessing import StandardScaler\n",
        "\n",
        "scaler = StandardScaler()\n",
        "scaler.fit(x_train)\n",
        "x_train = scaler.transform(x_train)\n",
        "x_test = scaler.transform(x_test)"
      ],
      "execution_count": null,
      "outputs": []
    },
    {
      "cell_type": "code",
      "metadata": {
        "id": "quP1t9xlJHF2"
      },
      "source": [
        "import pickle\n",
        "f = open(\"/content/drive/MyDrive/cdk_deep_learning/scaler.pkl\", \"wb\")\n",
        "pickle.dump(scaler, f)\n",
        "f.close()"
      ],
      "execution_count": null,
      "outputs": []
    },
    {
      "cell_type": "markdown",
      "source": [
        "#Model"
      ],
      "metadata": {
        "id": "v4kW1UN5g0iX"
      }
    },
    {
      "cell_type": "markdown",
      "source": [
        "##ANN"
      ],
      "metadata": {
        "id": "z4syydY1m5Ik"
      }
    },
    {
      "cell_type": "code",
      "source": [
        "model = Sequential()\n",
        "model.add(Dense(12, input_shape=(24,), activation='relu'))\n",
        "model.add(Dense(8, activation='relu'))\n",
        "model.add(Dropout(0.3))\n",
        "model.add(Dense(4, activation='relu'))\n",
        "model.add(Dense(1, activation='sigmoid'))\n",
        "model.summary()"
      ],
      "metadata": {
        "colab": {
          "base_uri": "https://localhost:8080/"
        },
        "id": "JxwxZg5geNEe",
        "outputId": "d416491f-2e22-4cd5-fcd9-815c26b8f9f9"
      },
      "execution_count": null,
      "outputs": [
        {
          "output_type": "stream",
          "name": "stdout",
          "text": [
            "Model: \"sequential_1\"\n",
            "_________________________________________________________________\n",
            " Layer (type)                Output Shape              Param #   \n",
            "=================================================================\n",
            " dense_4 (Dense)             (None, 12)                300       \n",
            "                                                                 \n",
            " dense_5 (Dense)             (None, 8)                 104       \n",
            "                                                                 \n",
            " dropout_1 (Dropout)         (None, 8)                 0         \n",
            "                                                                 \n",
            " dense_6 (Dense)             (None, 4)                 36        \n",
            "                                                                 \n",
            " dense_7 (Dense)             (None, 1)                 5         \n",
            "                                                                 \n",
            "=================================================================\n",
            "Total params: 445 (1.74 KB)\n",
            "Trainable params: 445 (1.74 KB)\n",
            "Non-trainable params: 0 (0.00 Byte)\n",
            "_________________________________________________________________\n"
          ]
        }
      ]
    },
    {
      "cell_type": "code",
      "source": [
        "model.compile(loss='binary_crossentropy', optimizer=Adam(learning_rate=0.01), metrics=['accuracy'])"
      ],
      "metadata": {
        "id": "moEXybGJhNo6"
      },
      "execution_count": null,
      "outputs": []
    },
    {
      "cell_type": "code",
      "source": [
        "%%time\n",
        "filepath = r\"model-{epoch:02d}-{loss:.4f}-{accuracy:.4f}-{val_loss:.4f}-{val_accuracy:.4f}.h5\"\n",
        "check=ModelCheckpoint(filepath = filepath, verbose = 1, save_best_only = False)\n",
        "\n",
        "History = model.fit(x_train, y_train , epochs=30, verbose = 1 ,validation_data=(x_test, y_test),\n",
        "                       callbacks = [check, ],\n",
        "                       batch_size = 4, shuffle=True,\n",
        "                       class_weight = {0:1.84482759, 1:0.68589744},\n",
        "                       )"
      ],
      "metadata": {
        "colab": {
          "base_uri": "https://localhost:8080/"
        },
        "id": "TJlFpUhlhT4X",
        "outputId": "aa0e8e69-d8de-4ad5-cbb7-884bb3746fc9"
      },
      "execution_count": null,
      "outputs": [
        {
          "output_type": "stream",
          "name": "stdout",
          "text": [
            "Epoch 1/30\n",
            "12/20 [=================>............] - ETA: 0s - loss: 0.5570 - accuracy: 0.7708 \n",
            "Epoch 1: saving model to model-01-0.5386-0.7875-0.3070-0.9259.h5\n",
            "20/20 [==============================] - 3s 23ms/step - loss: 0.5386 - accuracy: 0.7875 - val_loss: 0.3070 - val_accuracy: 0.9259\n",
            "Epoch 2/30\n",
            "12/20 [=================>............] - ETA: 0s - loss: 0.1609 - accuracy: 0.9792\n",
            "Epoch 2: saving model to model-02-0.1720-0.9750-0.0682-1.0000.h5\n",
            "20/20 [==============================] - 0s 12ms/step - loss: 0.1720 - accuracy: 0.9750 - val_loss: 0.0682 - val_accuracy: 1.0000\n",
            "Epoch 3/30\n",
            "13/20 [==================>...........] - ETA: 0s - loss: 0.1835 - accuracy: 1.0000\n",
            "Epoch 3: saving model to model-03-0.1798-1.0000-0.0446-1.0000.h5\n",
            "20/20 [==============================] - 0s 11ms/step - loss: 0.1798 - accuracy: 1.0000 - val_loss: 0.0446 - val_accuracy: 1.0000\n",
            "Epoch 4/30\n",
            "12/20 [=================>............] - ETA: 0s - loss: 0.1540 - accuracy: 0.9792    \n",
            "Epoch 4: saving model to model-04-0.1366-0.9875-0.0351-1.0000.h5\n",
            "20/20 [==============================] - 0s 9ms/step - loss: 0.1366 - accuracy: 0.9875 - val_loss: 0.0351 - val_accuracy: 1.0000\n",
            "Epoch 5/30\n",
            "14/20 [====================>.........] - ETA: 0s - loss: 0.1060 - accuracy: 1.0000\n",
            "Epoch 5: saving model to model-05-0.0965-1.0000-0.0258-1.0000.h5\n",
            "20/20 [==============================] - 0s 8ms/step - loss: 0.0965 - accuracy: 1.0000 - val_loss: 0.0258 - val_accuracy: 1.0000\n",
            "Epoch 6/30\n",
            "15/20 [=====================>........] - ETA: 0s - loss: 0.1479 - accuracy: 0.9667    \n",
            "Epoch 6: saving model to model-06-0.1193-0.9750-0.0185-1.0000.h5\n",
            "20/20 [==============================] - 0s 9ms/step - loss: 0.1193 - accuracy: 0.9750 - val_loss: 0.0185 - val_accuracy: 1.0000\n",
            "Epoch 7/30\n",
            "14/20 [====================>.........] - ETA: 0s - loss: 0.0687 - accuracy: 0.9821    \n",
            "Epoch 7: saving model to model-07-0.0748-0.9875-0.0141-1.0000.h5\n",
            "20/20 [==============================] - 0s 8ms/step - loss: 0.0748 - accuracy: 0.9875 - val_loss: 0.0141 - val_accuracy: 1.0000\n",
            "Epoch 8/30\n",
            "14/20 [====================>.........] - ETA: 0s - loss: 0.0919 - accuracy: 0.9821\n",
            "Epoch 8: saving model to model-08-0.0691-0.9875-0.0097-1.0000.h5\n",
            "20/20 [==============================] - 0s 11ms/step - loss: 0.0691 - accuracy: 0.9875 - val_loss: 0.0097 - val_accuracy: 1.0000\n",
            "Epoch 9/30\n",
            "13/20 [==================>...........] - ETA: 0s - loss: 0.0270 - accuracy: 1.0000\n",
            "Epoch 9: saving model to model-09-0.0328-1.0000-0.0072-1.0000.h5\n",
            "20/20 [==============================] - 0s 11ms/step - loss: 0.0328 - accuracy: 1.0000 - val_loss: 0.0072 - val_accuracy: 1.0000\n",
            "Epoch 10/30\n",
            "20/20 [==============================] - ETA: 0s - loss: 0.0471 - accuracy: 0.9750\n",
            "Epoch 10: saving model to model-10-0.0471-0.9750-0.0061-1.0000.h5\n",
            "20/20 [==============================] - 0s 10ms/step - loss: 0.0471 - accuracy: 0.9750 - val_loss: 0.0061 - val_accuracy: 1.0000\n",
            "Epoch 11/30\n",
            "15/20 [=====================>........] - ETA: 0s - loss: 0.0243 - accuracy: 1.0000    \n",
            "Epoch 11: saving model to model-11-0.0184-1.0000-0.0047-1.0000.h5\n",
            "20/20 [==============================] - 0s 7ms/step - loss: 0.0184 - accuracy: 1.0000 - val_loss: 0.0047 - val_accuracy: 1.0000\n",
            "Epoch 12/30\n",
            "17/20 [========================>.....] - ETA: 0s - loss: 0.0305 - accuracy: 1.0000    \n",
            "Epoch 12: saving model to model-12-0.0259-1.0000-0.0037-1.0000.h5\n",
            "20/20 [==============================] - 0s 7ms/step - loss: 0.0259 - accuracy: 1.0000 - val_loss: 0.0037 - val_accuracy: 1.0000\n",
            "Epoch 13/30\n",
            "15/20 [=====================>........] - ETA: 0s - loss: 0.0098 - accuracy: 1.0000    \n",
            "Epoch 13: saving model to model-13-0.0344-0.9875-0.0032-1.0000.h5\n",
            "20/20 [==============================] - 0s 7ms/step - loss: 0.0344 - accuracy: 0.9875 - val_loss: 0.0032 - val_accuracy: 1.0000\n",
            "Epoch 14/30\n",
            "18/20 [==========================>...] - ETA: 0s - loss: 0.0096 - accuracy: 1.0000    \n",
            "Epoch 14: saving model to model-14-0.0087-1.0000-0.0030-1.0000.h5\n",
            "20/20 [==============================] - 0s 7ms/step - loss: 0.0087 - accuracy: 1.0000 - val_loss: 0.0030 - val_accuracy: 1.0000\n",
            "Epoch 15/30\n",
            "18/20 [==========================>...] - ETA: 0s - loss: 0.0114 - accuracy: 1.0000    \n",
            "Epoch 15: saving model to model-15-0.0103-1.0000-0.0025-1.0000.h5\n",
            "20/20 [==============================] - 0s 7ms/step - loss: 0.0103 - accuracy: 1.0000 - val_loss: 0.0025 - val_accuracy: 1.0000\n",
            "Epoch 16/30\n",
            "17/20 [========================>.....] - ETA: 0s - loss: 0.0100 - accuracy: 1.0000\n",
            "Epoch 16: saving model to model-16-0.0095-1.0000-0.0021-1.0000.h5\n",
            "20/20 [==============================] - 0s 7ms/step - loss: 0.0095 - accuracy: 1.0000 - val_loss: 0.0021 - val_accuracy: 1.0000\n",
            "Epoch 17/30\n",
            "19/20 [===========================>..] - ETA: 0s - loss: 0.0074 - accuracy: 1.0000    \n",
            "Epoch 17: saving model to model-17-0.0078-1.0000-0.0018-1.0000.h5\n",
            "20/20 [==============================] - 0s 6ms/step - loss: 0.0078 - accuracy: 1.0000 - val_loss: 0.0018 - val_accuracy: 1.0000\n",
            "Epoch 18/30\n",
            "19/20 [===========================>..] - ETA: 0s - loss: 0.0106 - accuracy: 1.0000\n",
            "Epoch 18: saving model to model-18-0.0101-1.0000-0.0016-1.0000.h5\n",
            "20/20 [==============================] - 0s 6ms/step - loss: 0.0101 - accuracy: 1.0000 - val_loss: 0.0016 - val_accuracy: 1.0000\n",
            "Epoch 19/30\n",
            "17/20 [========================>.....] - ETA: 0s - loss: 0.0418 - accuracy: 0.9853    \n",
            "Epoch 19: saving model to model-19-0.0355-0.9875-0.0022-1.0000.h5\n",
            "20/20 [==============================] - 0s 6ms/step - loss: 0.0355 - accuracy: 0.9875 - val_loss: 0.0022 - val_accuracy: 1.0000\n",
            "Epoch 20/30\n",
            "18/20 [==========================>...] - ETA: 0s - loss: 0.0345 - accuracy: 0.9861    \n",
            "Epoch 20: saving model to model-20-0.0328-0.9875-0.0025-1.0000.h5\n",
            "20/20 [==============================] - 0s 6ms/step - loss: 0.0328 - accuracy: 0.9875 - val_loss: 0.0025 - val_accuracy: 1.0000\n",
            "Epoch 21/30\n",
            "19/20 [===========================>..] - ETA: 0s - loss: 0.0063 - accuracy: 1.0000\n",
            "Epoch 21: saving model to model-21-0.0060-1.0000-0.0023-1.0000.h5\n",
            "20/20 [==============================] - 0s 6ms/step - loss: 0.0060 - accuracy: 1.0000 - val_loss: 0.0023 - val_accuracy: 1.0000\n",
            "Epoch 22/30\n",
            "15/20 [=====================>........] - ETA: 0s - loss: 0.0031 - accuracy: 1.0000    \n",
            "Epoch 22: saving model to model-22-0.0045-1.0000-0.0021-1.0000.h5\n",
            "20/20 [==============================] - 0s 6ms/step - loss: 0.0045 - accuracy: 1.0000 - val_loss: 0.0021 - val_accuracy: 1.0000\n",
            "Epoch 23/30\n",
            "18/20 [==========================>...] - ETA: 0s - loss: 0.0058 - accuracy: 1.0000    \n",
            "Epoch 23: saving model to model-23-0.0058-1.0000-0.0017-1.0000.h5\n",
            "20/20 [==============================] - 0s 7ms/step - loss: 0.0058 - accuracy: 1.0000 - val_loss: 0.0017 - val_accuracy: 1.0000\n",
            "Epoch 24/30\n",
            "15/20 [=====================>........] - ETA: 0s - loss: 0.0029 - accuracy: 1.0000    \n",
            "Epoch 24: saving model to model-24-0.0037-1.0000-0.0015-1.0000.h5\n",
            "20/20 [==============================] - 0s 8ms/step - loss: 0.0037 - accuracy: 1.0000 - val_loss: 0.0015 - val_accuracy: 1.0000\n",
            "Epoch 25/30\n",
            "15/20 [=====================>........] - ETA: 0s - loss: 0.0032 - accuracy: 1.0000    \n",
            "Epoch 25: saving model to model-25-0.0038-1.0000-0.0013-1.0000.h5\n",
            "20/20 [==============================] - 0s 7ms/step - loss: 0.0038 - accuracy: 1.0000 - val_loss: 0.0013 - val_accuracy: 1.0000\n",
            "Epoch 26/30\n",
            "15/20 [=====================>........] - ETA: 0s - loss: 0.0029 - accuracy: 1.0000    \n",
            "Epoch 26: saving model to model-26-0.0028-1.0000-0.0012-1.0000.h5\n",
            "20/20 [==============================] - 0s 8ms/step - loss: 0.0028 - accuracy: 1.0000 - val_loss: 0.0012 - val_accuracy: 1.0000\n",
            "Epoch 27/30\n",
            "14/20 [====================>.........] - ETA: 0s - loss: 0.0022 - accuracy: 1.0000    \n",
            "Epoch 27: saving model to model-27-0.0027-1.0000-0.0011-1.0000.h5\n",
            "20/20 [==============================] - 0s 7ms/step - loss: 0.0027 - accuracy: 1.0000 - val_loss: 0.0011 - val_accuracy: 1.0000\n",
            "Epoch 28/30\n",
            "17/20 [========================>.....] - ETA: 0s - loss: 0.0033 - accuracy: 1.0000    \n",
            "Epoch 28: saving model to model-28-0.0399-0.9875-0.0011-1.0000.h5\n",
            "20/20 [==============================] - 0s 7ms/step - loss: 0.0399 - accuracy: 0.9875 - val_loss: 0.0011 - val_accuracy: 1.0000\n",
            "Epoch 29/30\n",
            "17/20 [========================>.....] - ETA: 0s - loss: 0.0033 - accuracy: 1.0000    \n",
            "Epoch 29: saving model to model-29-0.0032-1.0000-0.0012-1.0000.h5\n",
            "20/20 [==============================] - 0s 6ms/step - loss: 0.0032 - accuracy: 1.0000 - val_loss: 0.0012 - val_accuracy: 1.0000\n",
            "Epoch 30/30\n",
            "18/20 [==========================>...] - ETA: 0s - loss: 0.0038 - accuracy: 1.0000    \n",
            "Epoch 30: saving model to model-30-0.0034-1.0000-0.0011-1.0000.h5\n",
            "20/20 [==============================] - 0s 7ms/step - loss: 0.0034 - accuracy: 1.0000 - val_loss: 0.0011 - val_accuracy: 1.0000\n",
            "CPU times: user 6.97 s, sys: 278 ms, total: 7.25 s\n",
            "Wall time: 11.3 s\n"
          ]
        }
      ]
    },
    {
      "cell_type": "markdown",
      "metadata": {
        "id": "VNlIjMvh5cMi"
      },
      "source": [
        "###Model Performance"
      ]
    },
    {
      "cell_type": "code",
      "execution_count": null,
      "metadata": {
        "id": "xZJtWrcNa5Yb",
        "colab": {
          "base_uri": "https://localhost:8080/",
          "height": 489
        },
        "outputId": "82d160f0-1904-48d1-cfee-c7ffe33827f7"
      },
      "outputs": [
        {
          "output_type": "execute_result",
          "data": {
            "text/plain": [
              "<matplotlib.legend.Legend at 0x7d8c24bbedd0>"
            ]
          },
          "metadata": {},
          "execution_count": 257
        },
        {
          "output_type": "display_data",
          "data": {
            "text/plain": [
              "<Figure size 640x480 with 1 Axes>"
            ],
            "image/png": "[encoded data removed]"
          },
          "metadata": {}
        }
      ],
      "source": [
        "plt.plot(History.history['accuracy'])\n",
        "plt.plot(History.history['val_accuracy'])\n",
        "plt.title('model accuracy')\n",
        "plt.ylabel('accuracy')\n",
        "plt.xlabel('epoch')\n",
        "plt.legend(['train', 'val'], loc='upper left')"
      ]
    },
    {
      "cell_type": "code",
      "execution_count": null,
      "metadata": {
        "id": "OBUqSxGha9uB",
        "colab": {
          "base_uri": "https://localhost:8080/",
          "height": 489
        },
        "outputId": "e404cbec-bbdb-4053-bd88-fa6f4eb8a4ab"
      },
      "outputs": [
        {
          "output_type": "execute_result",
          "data": {
            "text/plain": [
              "<matplotlib.legend.Legend at 0x7d8c24bbe140>"
            ]
          },
          "metadata": {},
          "execution_count": 258
        },
        {
          "output_type": "display_data",
          "data": {
            "text/plain": [
              "<Figure size 640x480 with 1 Axes>"
            ],
            "image/png": "[encoded data removed]"
          },
          "metadata": {}
        }
      ],
      "source": [
        "plt.plot(History.history['loss'])\n",
        "plt.plot(History.history['val_loss'])\n",
        "plt.title('model loss')\n",
        "plt.ylabel('loss')\n",
        "plt.xlabel('epoch')\n",
        "plt.legend(['train', 'val'], loc='upper left')"
      ]
    },
    {
      "cell_type": "code",
      "source": [
        "!cp 'model-30-0.0034-1.0000-0.0011-1.0000.h5' '/content/drive/MyDrive/cdk_deep_learning'"
      ],
      "metadata": {
        "id": "eQndXaAuiHAW"
      },
      "execution_count": null,
      "outputs": []
    },
    {
      "cell_type": "code",
      "source": [
        "model = load_model('/content/drive/MyDrive/cdk_deep_learning/model-30-0.0034-1.0000-0.0011-1.0000.h5')\n",
        "\n",
        "#m4\n",
        "from sklearn import metrics\n",
        "#{'ckd': 0, 'notckd': 1}\n",
        "pred = model.predict(x_test)\n",
        "pred.shape, y_test.shape"
      ],
      "metadata": {
        "colab": {
          "base_uri": "https://localhost:8080/"
        },
        "id": "mSwUI3tHjgHj",
        "outputId": "851d31c9-676b-432d-af7c-73f29d2a2de7"
      },
      "execution_count": null,
      "outputs": [
        {
          "output_type": "stream",
          "name": "stdout",
          "text": [
            "1/1 [==============================] - 0s 89ms/step\n"
          ]
        },
        {
          "output_type": "execute_result",
          "data": {
            "text/plain": [
              "((27, 1), (27, 1))"
            ]
          },
          "metadata": {},
          "execution_count": 266
        }
      ]
    },
    {
      "cell_type": "code",
      "source": [
        "pred.dtype, y_test.dtype"
      ],
      "metadata": {
        "colab": {
          "base_uri": "https://localhost:8080/"
        },
        "id": "hD4kwbYYklew",
        "outputId": "efa31308-2c6f-4bf1-9e01-4e4118d4011f"
      },
      "execution_count": null,
      "outputs": [
        {
          "output_type": "execute_result",
          "data": {
            "text/plain": [
              "(dtype('float32'), dtype('int64'))"
            ]
          },
          "metadata": {},
          "execution_count": 267
        }
      ]
    },
    {
      "cell_type": "code",
      "source": [
        "pred = pred.astype('int64')\n",
        "pred.dtype"
      ],
      "metadata": {
        "colab": {
          "base_uri": "https://localhost:8080/"
        },
        "id": "nLQUakAgkpBn",
        "outputId": "ba95ec2e-c67d-4fb4-a5be-fc5f66f1690d"
      },
      "execution_count": null,
      "outputs": [
        {
          "output_type": "execute_result",
          "data": {
            "text/plain": [
              "dtype('int64')"
            ]
          },
          "metadata": {},
          "execution_count": 268
        }
      ]
    },
    {
      "cell_type": "code",
      "source": [
        "labels = ['ckd', 'notckd']\n",
        "\n",
        "print(metrics.classification_report(y_test, pred))\n",
        "\n",
        "cm = metrics.confusion_matrix(y_test, pred)\n",
        "print(cm)"
      ],
      "metadata": {
        "colab": {
          "base_uri": "https://localhost:8080/"
        },
        "id": "t2587RAwjBJ4",
        "outputId": "78822d06-bc0e-48ee-c651-1b25fe00358f"
      },
      "execution_count": null,
      "outputs": [
        {
          "output_type": "stream",
          "name": "stdout",
          "text": [
            "              precision    recall  f1-score   support\n",
            "\n",
            "           0       1.00      1.00      1.00         7\n",
            "           1       1.00      1.00      1.00        20\n",
            "\n",
            "    accuracy                           1.00        27\n",
            "   macro avg       1.00      1.00      1.00        27\n",
            "weighted avg       1.00      1.00      1.00        27\n",
            "\n",
            "[[ 7  0]\n",
            " [ 0 20]]\n"
          ]
        }
      ]
    },
    {
      "cell_type": "code",
      "source": [
        "df_cm = pd.DataFrame(\n",
        "    cm, index =labels,\n",
        "    columns = labels,\n",
        ")\n",
        "plt.figure(figsize = (6, 6))\n",
        "ax = sns.heatmap(df_cm, annot=True, square=True, cbar = True)\n",
        "bottom, top = ax.get_ylim()\n",
        "ax.set_ylim(bottom + 0.5, top - 0.5)\n",
        "\n",
        "plt.show()\n"
      ],
      "metadata": {
        "colab": {
          "base_uri": "https://localhost:8080/",
          "height": 528
        },
        "id": "DIfd9BkvjsfI",
        "outputId": "b4bbc38d-2f67-4fe4-9c36-4ed83ad63ee7"
      },
      "execution_count": null,
      "outputs": [
        {
          "output_type": "display_data",
          "data": {
            "text/plain": [
              "<Figure size 600x600 with 2 Axes>"
            ],
            "image/png": "[encoded data removed]"
          },
          "metadata": {}
        }
      ]
    },
    {
      "cell_type": "markdown",
      "source": [
        "##CNN"
      ],
      "metadata": {
        "id": "dtwdB1l2nAtZ"
      }
    },
    {
      "cell_type": "code",
      "source": [
        "print(x_train.shape)\n",
        "print(x_test.shape)\n",
        "print(y_train.shape)\n",
        "print(y_test.shape)"
      ],
      "metadata": {
        "colab": {
          "base_uri": "https://localhost:8080/"
        },
        "id": "zeVr5VDdnB5p",
        "outputId": "a52d8f8b-027d-4151-870d-c6f180e34285"
      },
      "execution_count": null,
      "outputs": [
        {
          "output_type": "stream",
          "name": "stdout",
          "text": [
            "(80, 24)\n",
            "(27, 24)\n",
            "(80, 1)\n",
            "(27, 1)\n"
          ]
        }
      ]
    },
    {
      "cell_type": "code",
      "source": [
        "x_train = x_train.reshape(-1, 24, 1)\n",
        "x_test = x_test.reshape(-1, 24, 1)\n",
        "x_train.shape, x_test.shape"
      ],
      "metadata": {
        "colab": {
          "base_uri": "https://localhost:8080/"
        },
        "id": "xkK3p4Rhn8t9",
        "outputId": "2ea9f481-b071-45a6-e8ac-04efbd150f2d"
      },
      "execution_count": null,
      "outputs": [
        {
          "output_type": "execute_result",
          "data": {
            "text/plain": [
              "((80, 24, 1), (27, 24, 1))"
            ]
          },
          "metadata": {},
          "execution_count": 296
        }
      ]
    },
    {
      "cell_type": "code",
      "source": [
        "vgg = Sequential()\n",
        "\n",
        "vgg.add(Conv1D(input_shape=(24, 1), filters=64, kernel_size=3,\n",
        "                 padding='same', activation='relu'))\n",
        "vgg.add(Conv1D(filters=8, kernel_size=3, padding='same', activation='relu'))\n",
        "vgg.add(MaxPool1D(pool_size=2, strides=2))\n",
        "\n",
        "vgg.add(Conv1D(filters=16, kernel_size=3, padding='same', activation='relu'))\n",
        "vgg.add(MaxPool1D(pool_size=2, strides=2))\n",
        "\n",
        "vgg.add(Conv1D(filters=24, kernel_size=3, padding='same', activation='relu'))\n",
        "vgg.add(MaxPool1D(pool_size=2, strides=2))\n",
        "\n",
        "vgg.add(Flatten())\n",
        "vgg.add(Dense(units=64, activation='relu'))\n",
        "vgg.add(Dropout(0.3))\n",
        "vgg.add(Dense(units=32, activation='relu'))\n",
        "vgg.add(Dense(units=1, activation='sigmoid'))\n",
        "vgg.summary()"
      ],
      "metadata": {
        "colab": {
          "base_uri": "https://localhost:8080/"
        },
        "id": "UtWAuLtbns8T",
        "outputId": "21b2de40-8d99-44bf-d567-7e7f135cd9e9"
      },
      "execution_count": null,
      "outputs": [
        {
          "output_type": "stream",
          "name": "stdout",
          "text": [
            "Model: \"sequential_5\"\n",
            "_________________________________________________________________\n",
            " Layer (type)                Output Shape              Param #   \n",
            "=================================================================\n",
            " conv1d_19 (Conv1D)          (None, 24, 64)            256       \n",
            "                                                                 \n",
            " conv1d_20 (Conv1D)          (None, 24, 8)             1544      \n",
            "                                                                 \n",
            " max_pooling1d_8 (MaxPoolin  (None, 12, 8)             0         \n",
            " g1D)                                                            \n",
            "                                                                 \n",
            " conv1d_21 (Conv1D)          (None, 12, 16)            400       \n",
            "                                                                 \n",
            " max_pooling1d_9 (MaxPoolin  (None, 6, 16)             0         \n",
            " g1D)                                                            \n",
            "                                                                 \n",
            " conv1d_22 (Conv1D)          (None, 6, 24)             1176      \n",
            "                                                                 \n",
            " max_pooling1d_10 (MaxPooli  (None, 3, 24)             0         \n",
            " ng1D)                                                           \n",
            "                                                                 \n",
            " flatten_1 (Flatten)         (None, 72)                0         \n",
            "                                                                 \n",
            " dense_11 (Dense)            (None, 64)                4672      \n",
            "                                                                 \n",
            " dropout_2 (Dropout)         (None, 64)                0         \n",
            "                                                                 \n",
            " dense_12 (Dense)            (None, 32)                2080      \n",
            "                                                                 \n",
            " dense_13 (Dense)            (None, 1)                 33        \n",
            "                                                                 \n",
            "=================================================================\n",
            "Total params: 10161 (39.69 KB)\n",
            "Trainable params: 10161 (39.69 KB)\n",
            "Non-trainable params: 0 (0.00 Byte)\n",
            "_________________________________________________________________\n"
          ]
        }
      ]
    },
    {
      "cell_type": "code",
      "source": [
        "vgg.compile(loss='binary_crossentropy', optimizer=RMSprop(learning_rate=0.001), metrics=['accuracy'])"
      ],
      "metadata": {
        "id": "5mhqt45UpEFk"
      },
      "execution_count": null,
      "outputs": []
    },
    {
      "cell_type": "code",
      "source": [
        "%%time\n",
        "filepath = r\"vgg-{epoch:02d}-{loss:.4f}-{accuracy:.4f}-{val_loss:.4f}-{val_accuracy:.4f}.h5\"\n",
        "check=ModelCheckpoint(filepath = filepath, verbose = 1, save_best_only = False)\n",
        "\n",
        "History = vgg.fit(x_train, y_train , epochs=30, verbose = 1 ,validation_data=(x_test, y_test),\n",
        "                       callbacks = [check, ],\n",
        "                       batch_size = 8, shuffle=True,\n",
        "                       class_weight = {0:1.84482759, 1:0.68589744},\n",
        "                       )\n"
      ],
      "metadata": {
        "colab": {
          "base_uri": "https://localhost:8080/"
        },
        "outputId": "a3aff166-c0b1-4bd9-e8db-a2a0dc2faaee",
        "id": "EE7bhKh9pEFm"
      },
      "execution_count": null,
      "outputs": [
        {
          "output_type": "stream",
          "name": "stdout",
          "text": [
            "Epoch 1/30\n",
            " 1/10 [==>...........................] - ETA: 48s - loss: 0.4277 - accuracy: 1.0000\n",
            "Epoch 1: saving model to vgg-01-0.2512-1.0000-0.1974-1.0000.h5\n",
            "10/10 [==============================] - 6s 88ms/step - loss: 0.2512 - accuracy: 1.0000 - val_loss: 0.1974 - val_accuracy: 1.0000\n",
            "Epoch 2/30\n",
            " 1/10 [==>...........................] - ETA: 0s - loss: 0.1422 - accuracy: 1.0000\n",
            "Epoch 2: saving model to vgg-02-0.1158-1.0000-0.0824-1.0000.h5\n",
            "10/10 [==============================] - 0s 12ms/step - loss: 0.1158 - accuracy: 1.0000 - val_loss: 0.0824 - val_accuracy: 1.0000\n",
            "Epoch 3/30\n",
            " 1/10 [==>...........................] - ETA: 0s - loss: 0.1857 - accuracy: 1.0000\n",
            "Epoch 3: saving model to vgg-03-0.0913-1.0000-0.0449-1.0000.h5\n",
            "10/10 [==============================] - 0s 12ms/step - loss: 0.0913 - accuracy: 1.0000 - val_loss: 0.0449 - val_accuracy: 1.0000\n",
            "Epoch 4/30\n",
            " 1/10 [==>...........................] - ETA: 0s - loss: 0.0263 - accuracy: 1.0000\n",
            "Epoch 4: saving model to vgg-04-0.0362-1.0000-0.0244-1.0000.h5\n",
            "10/10 [==============================] - 0s 12ms/step - loss: 0.0362 - accuracy: 1.0000 - val_loss: 0.0244 - val_accuracy: 1.0000\n",
            "Epoch 5/30\n",
            " 1/10 [==>...........................] - ETA: 0s - loss: 0.0227 - accuracy: 1.0000\n",
            "Epoch 5: saving model to vgg-05-0.0331-1.0000-0.0154-1.0000.h5\n",
            "10/10 [==============================] - 0s 11ms/step - loss: 0.0331 - accuracy: 1.0000 - val_loss: 0.0154 - val_accuracy: 1.0000\n",
            "Epoch 6/30\n",
            " 1/10 [==>...........................] - ETA: 0s - loss: 0.0144 - accuracy: 1.0000\n",
            "Epoch 6: saving model to vgg-06-0.0156-1.0000-0.0141-1.0000.h5\n",
            "10/10 [==============================] - 0s 11ms/step - loss: 0.0156 - accuracy: 1.0000 - val_loss: 0.0141 - val_accuracy: 1.0000\n",
            "Epoch 7/30\n",
            " 1/10 [==>...........................] - ETA: 0s - loss: 0.0245 - accuracy: 1.0000\n",
            "Epoch 7: saving model to vgg-07-0.0307-0.9875-0.0070-1.0000.h5\n",
            "10/10 [==============================] - 0s 13ms/step - loss: 0.0307 - accuracy: 0.9875 - val_loss: 0.0070 - val_accuracy: 1.0000\n",
            "Epoch 8/30\n",
            " 1/10 [==>...........................] - ETA: 0s - loss: 0.0202 - accuracy: 1.0000\n",
            "Epoch 8: saving model to vgg-08-0.0110-1.0000-0.0043-1.0000.h5\n",
            "10/10 [==============================] - 0s 12ms/step - loss: 0.0110 - accuracy: 1.0000 - val_loss: 0.0043 - val_accuracy: 1.0000\n",
            "Epoch 9/30\n",
            " 1/10 [==>...........................] - ETA: 0s - loss: 0.0026 - accuracy: 1.0000\n",
            "Epoch 9: saving model to vgg-09-0.0065-1.0000-0.0037-1.0000.h5\n",
            "10/10 [==============================] - 0s 11ms/step - loss: 0.0065 - accuracy: 1.0000 - val_loss: 0.0037 - val_accuracy: 1.0000\n",
            "Epoch 10/30\n",
            " 1/10 [==>...........................] - ETA: 0s - loss: 0.0019 - accuracy: 1.0000\n",
            "Epoch 10: saving model to vgg-10-0.0040-1.0000-0.0018-1.0000.h5\n",
            "10/10 [==============================] - 0s 12ms/step - loss: 0.0040 - accuracy: 1.0000 - val_loss: 0.0018 - val_accuracy: 1.0000\n",
            "Epoch 11/30\n",
            " 1/10 [==>...........................] - ETA: 0s - loss: 0.0045 - accuracy: 1.0000\n",
            "Epoch 11: saving model to vgg-11-0.0022-1.0000-0.0051-1.0000.h5\n",
            "10/10 [==============================] - 0s 13ms/step - loss: 0.0022 - accuracy: 1.0000 - val_loss: 0.0051 - val_accuracy: 1.0000\n",
            "Epoch 12/30\n",
            " 1/10 [==>...........................] - ETA: 0s - loss: 0.0010 - accuracy: 1.0000\n",
            "Epoch 12: saving model to vgg-12-0.0019-1.0000-0.0039-1.0000.h5\n",
            "10/10 [==============================] - 0s 14ms/step - loss: 0.0019 - accuracy: 1.0000 - val_loss: 0.0039 - val_accuracy: 1.0000\n",
            "Epoch 13/30\n",
            " 1/10 [==>...........................] - ETA: 0s - loss: 0.0016 - accuracy: 1.0000\n",
            "Epoch 13: saving model to vgg-13-0.0024-1.0000-0.0014-1.0000.h5\n",
            "10/10 [==============================] - 0s 14ms/step - loss: 0.0024 - accuracy: 1.0000 - val_loss: 0.0014 - val_accuracy: 1.0000\n",
            "Epoch 14/30\n",
            "10/10 [==============================] - ETA: 0s - loss: 3.3764e-04 - accuracy: 1.0000\n",
            "Epoch 14: saving model to vgg-14-0.0003-1.0000-0.0029-1.0000.h5\n",
            "10/10 [==============================] - 0s 16ms/step - loss: 3.3764e-04 - accuracy: 1.0000 - val_loss: 0.0029 - val_accuracy: 1.0000\n",
            "Epoch 15/30\n",
            " 1/10 [==>...........................] - ETA: 0s - loss: 1.6913e-04 - accuracy: 1.0000\n",
            "Epoch 15: saving model to vgg-15-0.0003-1.0000-0.0025-1.0000.h5\n",
            "10/10 [==============================] - 0s 12ms/step - loss: 2.7803e-04 - accuracy: 1.0000 - val_loss: 0.0025 - val_accuracy: 1.0000\n",
            "Epoch 16/30\n",
            " 1/10 [==>...........................] - ETA: 0s - loss: 5.8380e-04 - accuracy: 1.0000\n",
            "Epoch 16: saving model to vgg-16-0.0006-1.0000-0.0004-1.0000.h5\n",
            "10/10 [==============================] - 0s 13ms/step - loss: 5.9186e-04 - accuracy: 1.0000 - val_loss: 4.3128e-04 - val_accuracy: 1.0000\n",
            "Epoch 17/30\n",
            " 1/10 [==>...........................] - ETA: 0s - loss: 4.5854e-04 - accuracy: 1.0000\n",
            "Epoch 17: saving model to vgg-17-0.0006-1.0000-0.0001-1.0000.h5\n",
            "10/10 [==============================] - 0s 12ms/step - loss: 6.2757e-04 - accuracy: 1.0000 - val_loss: 9.3131e-05 - val_accuracy: 1.0000\n",
            "Epoch 18/30\n",
            " 1/10 [==>...........................] - ETA: 0s - loss: 2.1541e-04 - accuracy: 1.0000\n",
            "Epoch 18: saving model to vgg-18-0.0002-1.0000-0.0007-1.0000.h5\n",
            "10/10 [==============================] - 0s 13ms/step - loss: 2.0604e-04 - accuracy: 1.0000 - val_loss: 6.9739e-04 - val_accuracy: 1.0000\n",
            "Epoch 19/30\n",
            " 1/10 [==>...........................] - ETA: 0s - loss: 2.9973e-05 - accuracy: 1.0000\n",
            "Epoch 19: saving model to vgg-19-0.0001-1.0000-0.0013-1.0000.h5\n",
            "10/10 [==============================] - 0s 12ms/step - loss: 6.1067e-05 - accuracy: 1.0000 - val_loss: 0.0013 - val_accuracy: 1.0000\n",
            "Epoch 20/30\n",
            " 1/10 [==>...........................] - ETA: 0s - loss: 3.1656e-05 - accuracy: 1.0000\n",
            "Epoch 20: saving model to vgg-20-0.0001-1.0000-0.0016-1.0000.h5\n",
            "10/10 [==============================] - 0s 11ms/step - loss: 5.5878e-05 - accuracy: 1.0000 - val_loss: 0.0016 - val_accuracy: 1.0000\n",
            "Epoch 21/30\n",
            " 1/10 [==>...........................] - ETA: 0s - loss: 1.8920e-05 - accuracy: 1.0000\n",
            "Epoch 21: saving model to vgg-21-0.0001-1.0000-0.0039-1.0000.h5\n",
            "10/10 [==============================] - 0s 12ms/step - loss: 7.1112e-05 - accuracy: 1.0000 - val_loss: 0.0039 - val_accuracy: 1.0000\n",
            "Epoch 22/30\n",
            " 1/10 [==>...........................] - ETA: 0s - loss: 8.8339e-05 - accuracy: 1.0000\n",
            "Epoch 22: saving model to vgg-22-0.0000-1.0000-0.0039-1.0000.h5\n",
            "10/10 [==============================] - 0s 11ms/step - loss: 2.7950e-05 - accuracy: 1.0000 - val_loss: 0.0039 - val_accuracy: 1.0000\n",
            "Epoch 23/30\n",
            " 1/10 [==>...........................] - ETA: 0s - loss: 7.7365e-06 - accuracy: 1.0000\n",
            "Epoch 23: saving model to vgg-23-0.0001-1.0000-0.0001-1.0000.h5\n",
            "10/10 [==============================] - 0s 13ms/step - loss: 6.0665e-05 - accuracy: 1.0000 - val_loss: 1.0244e-04 - val_accuracy: 1.0000\n",
            "Epoch 24/30\n",
            " 1/10 [==>...........................] - ETA: 0s - loss: 1.7534e-04 - accuracy: 1.0000\n",
            "Epoch 24: saving model to vgg-24-0.0001-1.0000-0.0007-1.0000.h5\n",
            "10/10 [==============================] - 0s 13ms/step - loss: 5.1372e-05 - accuracy: 1.0000 - val_loss: 7.2651e-04 - val_accuracy: 1.0000\n",
            "Epoch 25/30\n",
            " 1/10 [==>...........................] - ETA: 0s - loss: 1.0707e-06 - accuracy: 1.0000\n",
            "Epoch 25: saving model to vgg-25-0.0000-1.0000-0.0010-1.0000.h5\n",
            "10/10 [==============================] - 0s 11ms/step - loss: 3.2914e-05 - accuracy: 1.0000 - val_loss: 9.5314e-04 - val_accuracy: 1.0000\n",
            "Epoch 26/30\n",
            " 1/10 [==>...........................] - ETA: 0s - loss: 6.4561e-07 - accuracy: 1.0000\n",
            "Epoch 26: saving model to vgg-26-0.0001-1.0000-0.0001-1.0000.h5\n",
            "10/10 [==============================] - 0s 14ms/step - loss: 5.1835e-05 - accuracy: 1.0000 - val_loss: 7.1027e-05 - val_accuracy: 1.0000\n",
            "Epoch 27/30\n",
            " 7/10 [====================>.........] - ETA: 0s - loss: 9.5526e-06 - accuracy: 1.0000\n",
            "Epoch 27: saving model to vgg-27-0.0000-1.0000-0.0003-1.0000.h5\n",
            "10/10 [==============================] - 0s 17ms/step - loss: 2.5262e-05 - accuracy: 1.0000 - val_loss: 2.9918e-04 - val_accuracy: 1.0000\n",
            "Epoch 28/30\n",
            " 1/10 [==>...........................] - ETA: 0s - loss: 2.5074e-06 - accuracy: 1.0000\n",
            "Epoch 28: saving model to vgg-28-0.0000-1.0000-0.0003-1.0000.h5\n",
            "10/10 [==============================] - 0s 14ms/step - loss: 1.3086e-05 - accuracy: 1.0000 - val_loss: 2.7030e-04 - val_accuracy: 1.0000\n",
            "Epoch 29/30\n",
            " 1/10 [==>...........................] - ETA: 0s - loss: 1.0112e-05 - accuracy: 1.0000\n",
            "Epoch 29: saving model to vgg-29-0.0001-1.0000-0.0004-1.0000.h5\n",
            "10/10 [==============================] - 0s 14ms/step - loss: 5.0445e-05 - accuracy: 1.0000 - val_loss: 3.9437e-04 - val_accuracy: 1.0000\n",
            "Epoch 30/30\n",
            " 1/10 [==>...........................] - ETA: 0s - loss: 6.2946e-06 - accuracy: 1.0000\n",
            "Epoch 30: saving model to vgg-30-0.0000-1.0000-0.0018-1.0000.h5\n",
            "10/10 [==============================] - 0s 13ms/step - loss: 3.4265e-05 - accuracy: 1.0000 - val_loss: 0.0018 - val_accuracy: 1.0000\n",
            "CPU times: user 7.41 s, sys: 248 ms, total: 7.66 s\n",
            "Wall time: 13.9 s\n"
          ]
        }
      ]
    },
    {
      "cell_type": "markdown",
      "metadata": {
        "id": "XhMk7g0jpEFn"
      },
      "source": [
        "###Model Performance"
      ]
    },
    {
      "cell_type": "code",
      "execution_count": null,
      "metadata": {
        "colab": {
          "base_uri": "https://localhost:8080/",
          "height": 489
        },
        "outputId": "4cbc40cf-0f98-476a-8633-2a3a3e166175",
        "id": "wOVoLObIpEFn"
      },
      "outputs": [
        {
          "output_type": "execute_result",
          "data": {
            "text/plain": [
              "<matplotlib.legend.Legend at 0x7d8be7542b30>"
            ]
          },
          "metadata": {},
          "execution_count": 338
        },
        {
          "output_type": "display_data",
          "data": {
            "text/plain": [
              "<Figure size 640x480 with 1 Axes>"
            ],
            "image/png": "[encoded data removed]"
          },
          "metadata": {}
        }
      ],
      "source": [
        "plt.plot(History.history['accuracy'])\n",
        "plt.plot(History.history['val_accuracy'])\n",
        "plt.title('model accuracy')\n",
        "plt.ylabel('accuracy')\n",
        "plt.xlabel('epoch')\n",
        "plt.legend(['train', 'val'], loc='upper left')"
      ]
    },
    {
      "cell_type": "code",
      "execution_count": null,
      "metadata": {
        "colab": {
          "base_uri": "https://localhost:8080/",
          "height": 489
        },
        "outputId": "a20a7ef1-5ac0-4109-8343-d9757f2d3e68",
        "id": "0zTde4UBpEFo"
      },
      "outputs": [
        {
          "output_type": "execute_result",
          "data": {
            "text/plain": [
              "<matplotlib.legend.Legend at 0x7d8c0bdf33a0>"
            ]
          },
          "metadata": {},
          "execution_count": 339
        },
        {
          "output_type": "display_data",
          "data": {
            "text/plain": [
              "<Figure size 640x480 with 1 Axes>"
            ],
            "image/png": "[encoded data removed]"
          },
          "metadata": {}
        }
      ],
      "source": [
        "plt.plot(History.history['loss'])\n",
        "plt.plot(History.history['val_loss'])\n",
        "plt.title('model loss')\n",
        "plt.ylabel('loss')\n",
        "plt.xlabel('epoch')\n",
        "plt.legend(['train', 'val'], loc='upper left')"
      ]
    },
    {
      "cell_type": "code",
      "source": [
        "!cp 'vgg-30-0.0000-1.0000-0.0018-1.0000.h5' '/content/drive/MyDrive/cdk_deep_learning'"
      ],
      "metadata": {
        "id": "2tDvCKIxpEFp"
      },
      "execution_count": null,
      "outputs": []
    },
    {
      "cell_type": "code",
      "source": [
        "model = load_model('vgg-30-0.0000-1.0000-0.0018-1.0000.h5')\n",
        "\n",
        "#m4\n",
        "from sklearn import metrics\n",
        "#{'ckd': 0, 'notckd': 1}\n",
        "pred = model.predict(x_test)\n",
        "pred.shape, y_test.shape"
      ],
      "metadata": {
        "colab": {
          "base_uri": "https://localhost:8080/"
        },
        "outputId": "35e0ceb8-e68c-4ce8-af1a-22a76ca4dd05",
        "id": "d26HjzxWpEFq"
      },
      "execution_count": null,
      "outputs": [
        {
          "output_type": "stream",
          "name": "stdout",
          "text": [
            "1/1 [==============================] - 0s 289ms/step\n"
          ]
        },
        {
          "output_type": "execute_result",
          "data": {
            "text/plain": [
              "((27, 1), (27, 1))"
            ]
          },
          "metadata": {},
          "execution_count": 340
        }
      ]
    },
    {
      "cell_type": "code",
      "source": [
        "pred.dtype, y_test.dtype"
      ],
      "metadata": {
        "colab": {
          "base_uri": "https://localhost:8080/"
        },
        "outputId": "ce0f9102-4a3c-4ada-a9c4-b5427a38a20a",
        "id": "p-LicNH0pEFr"
      },
      "execution_count": null,
      "outputs": [
        {
          "output_type": "execute_result",
          "data": {
            "text/plain": [
              "(dtype('float32'), dtype('int64'))"
            ]
          },
          "metadata": {},
          "execution_count": 341
        }
      ]
    },
    {
      "cell_type": "code",
      "source": [
        "pred = pred.astype('int64')\n",
        "pred.dtype"
      ],
      "metadata": {
        "colab": {
          "base_uri": "https://localhost:8080/"
        },
        "outputId": "96ed1ba8-a824-4871-962a-8f57daddd01c",
        "id": "-WT4KqiypEFs"
      },
      "execution_count": null,
      "outputs": [
        {
          "output_type": "execute_result",
          "data": {
            "text/plain": [
              "dtype('int64')"
            ]
          },
          "metadata": {},
          "execution_count": 342
        }
      ]
    },
    {
      "cell_type": "code",
      "source": [
        "labels = ['ckd', 'notckd']\n",
        "\n",
        "print(metrics.classification_report(y_test, pred))\n",
        "\n",
        "cm = metrics.confusion_matrix(y_test, pred)\n",
        "print(cm)"
      ],
      "metadata": {
        "colab": {
          "base_uri": "https://localhost:8080/"
        },
        "outputId": "b76b4b7b-ff8b-4b20-b5bc-373aeb2d7fb5",
        "id": "NRrauEmqpEFs"
      },
      "execution_count": null,
      "outputs": [
        {
          "output_type": "stream",
          "name": "stdout",
          "text": [
            "              precision    recall  f1-score   support\n",
            "\n",
            "           0       0.29      1.00      0.45         7\n",
            "           1       1.00      0.15      0.26        20\n",
            "\n",
            "    accuracy                           0.37        27\n",
            "   macro avg       0.65      0.57      0.36        27\n",
            "weighted avg       0.82      0.37      0.31        27\n",
            "\n",
            "[[ 7  0]\n",
            " [17  3]]\n"
          ]
        }
      ]
    },
    {
      "cell_type": "code",
      "source": [
        "df_cm = pd.DataFrame(\n",
        "    cm, index =labels,\n",
        "    columns = labels,\n",
        ")\n",
        "plt.figure(figsize = (6, 6))\n",
        "ax = sns.heatmap(df_cm, annot=True, square=True, cbar = True)\n",
        "bottom, top = ax.get_ylim()\n",
        "ax.set_ylim(bottom + 0.5, top - 0.5)\n",
        "\n",
        "plt.show()\n"
      ],
      "metadata": {
        "colab": {
          "base_uri": "https://localhost:8080/",
          "height": 522
        },
        "outputId": "a170ffb4-9211-4448-e245-76bc175c6d59",
        "id": "2TSBKSe7pEFt"
      },
      "execution_count": null,
      "outputs": [
        {
          "output_type": "display_data",
          "data": {
            "text/plain": [
              "<Figure size 600x600 with 2 Axes>"
            ],
            "image/png": "[encoded data removed]"
          },
          "metadata": {}
        }
      ]
    },
    {
      "cell_type": "markdown",
      "source": [
        "#Inference"
      ],
      "metadata": {
        "id": "cWuWxpyAlkd_"
      }
    },
    {
      "cell_type": "code",
      "source": [
        "model = load_model('/content/drive/MyDrive/cdk_deep_learning/model-30-0.0034-1.0000-0.0011-1.0000.h5')\n",
        "with open (\"/content/drive/MyDrive/cdk_deep_learning/scaler.pkl\", \"rb\") as f:\n",
        "  scaler = pickle.load(f)\n",
        "model, scaler"
      ],
      "metadata": {
        "colab": {
          "base_uri": "https://localhost:8080/"
        },
        "id": "onMkRzWVk5bB",
        "outputId": "f334bdfb-71b5-45ad-ce20-f4a2a2649e04"
      },
      "execution_count": null,
      "outputs": [
        {
          "output_type": "execute_result",
          "data": {
            "text/plain": [
              "(<keras.src.engine.sequential.Sequential at 0x7a36e2c3b370>, StandardScaler())"
            ]
          },
          "metadata": {},
          "execution_count": 3
        }
      ]
    },
    {
      "cell_type": "code",
      "source": [
        "df = pd.read_csv('/content/drive/MyDrive/cdk_deep_learning/dataset.csv')\n",
        "df = df.dropna()\n",
        "df['WBC Count'] = df['WBC Count'].astype('int64')\n",
        "df['RBC Count'] = df['RBC Count'].astype('float64')\n",
        "from sklearn import preprocessing\n",
        "le = preprocessing.LabelEncoder()\n",
        "df[\"RBC\"] = le.fit_transform(df[\"RBC\"])\n",
        "df[\"Pus Cell\"] = le.fit_transform(df[\"Pus Cell\"])\n",
        "df[\"Pus Cell Clump\"] = le.fit_transform(df[\"Pus Cell Clump\"])\n",
        "df[\"Bacteria\"] = le.fit_transform(df[\"Bacteria\"])\n",
        "df[\"HyperTension\"] = le.fit_transform(df[\"HyperTension\"])\n",
        "df[\"Diabetes Mellitus\"] = le.fit_transform(df[\"Diabetes Mellitus\"])\n",
        "df[\"Cor Art Dis\"] = le.fit_transform(df[\"Cor Art Dis\"])\n",
        "df[\"Appetite\"] = le.fit_transform(df[\"Appetite\"])\n",
        "df[\"Pedal Edema\"] = le.fit_transform(df[\"Pedal Edema\"])\n",
        "df[\"Anemia\"] = le.fit_transform(df[\"Anemia\"])\n",
        "df[\"Class\"] = le.fit_transform(df[\"Class\"])\n",
        "X = df.iloc[:,:-1]\n",
        "Y = df.iloc[:,-1]\n",
        "y = to_categorical(Y, num_classes=2)\n",
        "X = X.values\n",
        "Y = Y.values.reshape(107, 1)\n",
        "X.shape, Y.shape"
      ],
      "metadata": {
        "colab": {
          "base_uri": "https://localhost:8080/"
        },
        "id": "pqcCgjjIlw1p",
        "outputId": "5e5829a4-ef58-4c2f-da51-5eda8531e251"
      },
      "execution_count": null,
      "outputs": [
        {
          "output_type": "execute_result",
          "data": {
            "text/plain": [
              "((107, 24), (107, 1))"
            ]
          },
          "metadata": {},
          "execution_count": 11
        }
      ]
    },
    {
      "cell_type": "code",
      "source": [
        "index = 10\n",
        "x = X[index]\n",
        "y = Y[index]\n",
        "x, y"
      ],
      "metadata": {
        "colab": {
          "base_uri": "https://localhost:8080/"
        },
        "id": "Ho_iaoT9mLZC",
        "outputId": "d2e61105-7bf6-470e-8e29-4ef48103bc35"
      },
      "execution_count": null,
      "outputs": [
        {
          "output_type": "execute_result",
          "data": {
            "text/plain": [
              "(array([3.300e+01, 8.000e+01, 1.025e+00, 0.000e+00, 0.000e+00, 1.000e+00,\n",
              "        1.000e+00, 0.000e+00, 0.000e+00, 1.000e+02, 3.700e+01, 1.200e+00,\n",
              "        1.420e+02, 4.000e+00, 1.690e+01, 5.200e+01, 6.700e+03, 6.000e+00,\n",
              "        0.000e+00, 0.000e+00, 0.000e+00, 0.000e+00, 0.000e+00, 0.000e+00]),\n",
              " array([1]))"
            ]
          },
          "metadata": {},
          "execution_count": 12
        }
      ]
    },
    {
      "cell_type": "code",
      "source": [
        "x.shape, y.shape"
      ],
      "metadata": {
        "colab": {
          "base_uri": "https://localhost:8080/"
        },
        "id": "3vHPEn6HmQWK",
        "outputId": "534b72ff-e14f-468c-bbef-7623cf2fc0eb"
      },
      "execution_count": null,
      "outputs": [
        {
          "output_type": "execute_result",
          "data": {
            "text/plain": [
              "((24,), (1,))"
            ]
          },
          "metadata": {},
          "execution_count": 13
        }
      ]
    },
    {
      "cell_type": "code",
      "source": [
        "x = np.array([x])\n",
        "x.shape"
      ],
      "metadata": {
        "colab": {
          "base_uri": "https://localhost:8080/"
        },
        "id": "h5pA7vV7mSqd",
        "outputId": "a8b88e85-48c5-422d-fd53-69c7d2b00f9d"
      },
      "execution_count": null,
      "outputs": [
        {
          "output_type": "execute_result",
          "data": {
            "text/plain": [
              "(1, 24)"
            ]
          },
          "metadata": {},
          "execution_count": 14
        }
      ]
    },
    {
      "cell_type": "code",
      "source": [
        "x = scaler.transform(x)\n",
        "x.shape"
      ],
      "metadata": {
        "colab": {
          "base_uri": "https://localhost:8080/"
        },
        "id": "srDqioTgmWjw",
        "outputId": "e07d0110-9ed4-4464-a0ac-1e9fe78d1cd1"
      },
      "execution_count": null,
      "outputs": [
        {
          "output_type": "execute_result",
          "data": {
            "text/plain": [
              "(1, 24)"
            ]
          },
          "metadata": {},
          "execution_count": 15
        }
      ]
    },
    {
      "cell_type": "code",
      "source": [
        "pred = model.predict(x)\n",
        "pred"
      ],
      "metadata": {
        "colab": {
          "base_uri": "https://localhost:8080/"
        },
        "id": "kNbU6g-Lmb3c",
        "outputId": "e5458f00-8387-4562-a6ba-2db302018f8d"
      },
      "execution_count": null,
      "outputs": [
        {
          "output_type": "stream",
          "name": "stdout",
          "text": [
            "1/1 [==============================] - 4s 4s/step\n"
          ]
        },
        {
          "output_type": "execute_result",
          "data": {
            "text/plain": [
              "array([[1.]], dtype=float32)"
            ]
          },
          "metadata": {},
          "execution_count": 16
        }
      ]
    },
    {
      "cell_type": "code",
      "source": [],
      "metadata": {
        "id": "Ls2v8bjKmjMH"
      },
      "execution_count": null,
      "outputs": []
    }
  ]
}